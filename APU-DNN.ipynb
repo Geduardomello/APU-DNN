{
 "cells": [
  {
   "cell_type": "markdown",
   "metadata": {},
   "source": [
    "# APU: Analitical Propagation Uncertainty - Deep Learning\n",
    "The chosen dataset was the Airfoil Self-Noise Data Set (http://archive.ics.uci.edu/ml/datasets/Airfoil+Self-Noise), taken from the UCI Machine Learning Repository. The selected predicted variable was \"Pressure,\" and all other variables were considered as predictor variables.\n",
    "\n"
   ]
  },
  {
   "cell_type": "markdown",
   "metadata": {},
   "source": [
    "# Manipulating the data"
   ]
  },
  {
   "cell_type": "code",
   "execution_count": 2,
   "metadata": {},
   "outputs": [],
   "source": [
    "import jupyterthemes as jt"
   ]
  },
  {
   "cell_type": "code",
   "execution_count": 5,
   "metadata": {},
   "outputs": [],
   "source": [
    "jt.install_theme(theme='grade3')"
   ]
  },
  {
   "cell_type": "code",
   "execution_count": 3,
   "metadata": {},
   "outputs": [
    {
     "name": "stdout",
     "output_type": "stream",
     "text": [
      "Requirement already satisfied: scikit-learn in c:\\users\\admpdi\\documents\\anaconda\\lib\\site-packages (1.0.2)\n",
      "Requirement already satisfied: threadpoolctl>=2.0.0 in c:\\users\\admpdi\\documents\\anaconda\\lib\\site-packages (from scikit-learn) (2.2.0)\n",
      "Requirement already satisfied: scipy>=1.1.0 in c:\\users\\admpdi\\documents\\anaconda\\lib\\site-packages (from scikit-learn) (1.9.1)\n",
      "Requirement already satisfied: numpy>=1.14.6 in c:\\users\\admpdi\\documents\\anaconda\\lib\\site-packages (from scikit-learn) (1.21.5)\n",
      "Requirement already satisfied: joblib>=0.11 in c:\\users\\admpdi\\documents\\anaconda\\lib\\site-packages (from scikit-learn) (1.1.0)\n"
     ]
    }
   ],
   "source": [
    "import pandas as pd\n",
    "import numpy as np\n",
    "import matplotlib.pyplot as plt\n",
    "import seaborn as sns\n",
    "!pip install scikit-learn\n",
    "\n",
    "%matplotlib inline\n",
    "%reload_ext autoreload\n",
    "%autoreload 2\n"
   ]
  },
  {
   "cell_type": "markdown",
   "metadata": {},
   "source": [
    "# Import of the data  "
   ]
  },
  {
   "cell_type": "code",
   "execution_count": 4,
   "metadata": {
    "scrolled": true
   },
   "outputs": [],
   "source": [
    "df=pd.read_csv('airfoil.csv')"
   ]
  },
  {
   "cell_type": "code",
   "execution_count": 5,
   "metadata": {},
   "outputs": [
    {
     "data": {
      "text/html": [
       "<div>\n",
       "<style scoped>\n",
       "    .dataframe tbody tr th:only-of-type {\n",
       "        vertical-align: middle;\n",
       "    }\n",
       "\n",
       "    .dataframe tbody tr th {\n",
       "        vertical-align: top;\n",
       "    }\n",
       "\n",
       "    .dataframe thead th {\n",
       "        text-align: right;\n",
       "    }\n",
       "</style>\n",
       "<table border=\"1\" class=\"dataframe\">\n",
       "  <thead>\n",
       "    <tr style=\"text-align: right;\">\n",
       "      <th></th>\n",
       "      <th>Frequency</th>\n",
       "      <th>Angle</th>\n",
       "      <th>Length</th>\n",
       "      <th>Velocity</th>\n",
       "      <th>Suction Side</th>\n",
       "      <th>Pressure</th>\n",
       "    </tr>\n",
       "  </thead>\n",
       "  <tbody>\n",
       "    <tr>\n",
       "      <th>0</th>\n",
       "      <td>800</td>\n",
       "      <td>0.0</td>\n",
       "      <td>0.3048</td>\n",
       "      <td>71.3</td>\n",
       "      <td>0.002663</td>\n",
       "      <td>126.201</td>\n",
       "    </tr>\n",
       "    <tr>\n",
       "      <th>1</th>\n",
       "      <td>1000</td>\n",
       "      <td>0.0</td>\n",
       "      <td>0.3048</td>\n",
       "      <td>71.3</td>\n",
       "      <td>0.002663</td>\n",
       "      <td>125.201</td>\n",
       "    </tr>\n",
       "    <tr>\n",
       "      <th>2</th>\n",
       "      <td>1250</td>\n",
       "      <td>0.0</td>\n",
       "      <td>0.3048</td>\n",
       "      <td>71.3</td>\n",
       "      <td>0.002663</td>\n",
       "      <td>125.951</td>\n",
       "    </tr>\n",
       "    <tr>\n",
       "      <th>3</th>\n",
       "      <td>1600</td>\n",
       "      <td>0.0</td>\n",
       "      <td>0.3048</td>\n",
       "      <td>71.3</td>\n",
       "      <td>0.002663</td>\n",
       "      <td>127.591</td>\n",
       "    </tr>\n",
       "    <tr>\n",
       "      <th>4</th>\n",
       "      <td>2000</td>\n",
       "      <td>0.0</td>\n",
       "      <td>0.3048</td>\n",
       "      <td>71.3</td>\n",
       "      <td>0.002663</td>\n",
       "      <td>127.461</td>\n",
       "    </tr>\n",
       "    <tr>\n",
       "      <th>...</th>\n",
       "      <td>...</td>\n",
       "      <td>...</td>\n",
       "      <td>...</td>\n",
       "      <td>...</td>\n",
       "      <td>...</td>\n",
       "      <td>...</td>\n",
       "    </tr>\n",
       "    <tr>\n",
       "      <th>1498</th>\n",
       "      <td>2500</td>\n",
       "      <td>15.6</td>\n",
       "      <td>0.1016</td>\n",
       "      <td>39.6</td>\n",
       "      <td>0.052849</td>\n",
       "      <td>110.264</td>\n",
       "    </tr>\n",
       "    <tr>\n",
       "      <th>1499</th>\n",
       "      <td>3150</td>\n",
       "      <td>15.6</td>\n",
       "      <td>0.1016</td>\n",
       "      <td>39.6</td>\n",
       "      <td>0.052849</td>\n",
       "      <td>109.254</td>\n",
       "    </tr>\n",
       "    <tr>\n",
       "      <th>1500</th>\n",
       "      <td>4000</td>\n",
       "      <td>15.6</td>\n",
       "      <td>0.1016</td>\n",
       "      <td>39.6</td>\n",
       "      <td>0.052849</td>\n",
       "      <td>106.604</td>\n",
       "    </tr>\n",
       "    <tr>\n",
       "      <th>1501</th>\n",
       "      <td>5000</td>\n",
       "      <td>15.6</td>\n",
       "      <td>0.1016</td>\n",
       "      <td>39.6</td>\n",
       "      <td>0.052849</td>\n",
       "      <td>106.224</td>\n",
       "    </tr>\n",
       "    <tr>\n",
       "      <th>1502</th>\n",
       "      <td>6300</td>\n",
       "      <td>15.6</td>\n",
       "      <td>0.1016</td>\n",
       "      <td>39.6</td>\n",
       "      <td>0.052849</td>\n",
       "      <td>104.204</td>\n",
       "    </tr>\n",
       "  </tbody>\n",
       "</table>\n",
       "<p>1503 rows × 6 columns</p>\n",
       "</div>"
      ],
      "text/plain": [
       "      Frequency  Angle  Length  Velocity  Suction Side   Pressure\n",
       "0           800    0.0  0.3048      71.3       0.002663   126.201\n",
       "1          1000    0.0  0.3048      71.3       0.002663   125.201\n",
       "2          1250    0.0  0.3048      71.3       0.002663   125.951\n",
       "3          1600    0.0  0.3048      71.3       0.002663   127.591\n",
       "4          2000    0.0  0.3048      71.3       0.002663   127.461\n",
       "...         ...    ...     ...       ...            ...       ...\n",
       "1498       2500   15.6  0.1016      39.6       0.052849   110.264\n",
       "1499       3150   15.6  0.1016      39.6       0.052849   109.254\n",
       "1500       4000   15.6  0.1016      39.6       0.052849   106.604\n",
       "1501       5000   15.6  0.1016      39.6       0.052849   106.224\n",
       "1502       6300   15.6  0.1016      39.6       0.052849   104.204\n",
       "\n",
       "[1503 rows x 6 columns]"
      ]
     },
     "execution_count": 5,
     "metadata": {},
     "output_type": "execute_result"
    }
   ],
   "source": [
    "df"
   ]
  },
  {
   "cell_type": "markdown",
   "metadata": {},
   "source": [
    "# Normalization of the data "
   ]
  },
  {
   "cell_type": "code",
   "execution_count": 6,
   "metadata": {},
   "outputs": [],
   "source": [
    "from sklearn.preprocessing import MinMaxScaler "
   ]
  },
  {
   "cell_type": "code",
   "execution_count": 7,
   "metadata": {},
   "outputs": [],
   "source": [
    "scaler=MinMaxScaler(feature_range=(0,1))\n",
    "df_n = scaler.fit_transform(df)\n"
   ]
  },
  {
   "cell_type": "code",
   "execution_count": 8,
   "metadata": {},
   "outputs": [],
   "source": [
    "df_n=pd.DataFrame(df_n)"
   ]
  },
  {
   "cell_type": "markdown",
   "metadata": {},
   "source": [
    "# Splitting the data into input (x) and output (y) for training and testing data"
   ]
  },
  {
   "cell_type": "code",
   "execution_count": 9,
   "metadata": {},
   "outputs": [],
   "source": [
    "y=df_n[5]"
   ]
  },
  {
   "cell_type": "code",
   "execution_count": 10,
   "metadata": {},
   "outputs": [],
   "source": [
    "X=df_n[df_n.columns[0:5]]"
   ]
  },
  {
   "cell_type": "code",
   "execution_count": 11,
   "metadata": {},
   "outputs": [],
   "source": [
    "from sklearn.model_selection import train_test_split\n",
    "X_train, X_test, y_train, y_test = train_test_split(X, y, test_size=0.02, shuffle=True, random_state=32)"
   ]
  },
  {
   "cell_type": "code",
   "execution_count": 12,
   "metadata": {},
   "outputs": [
    {
     "data": {
      "text/html": [
       "<div>\n",
       "<style scoped>\n",
       "    .dataframe tbody tr th:only-of-type {\n",
       "        vertical-align: middle;\n",
       "    }\n",
       "\n",
       "    .dataframe tbody tr th {\n",
       "        vertical-align: top;\n",
       "    }\n",
       "\n",
       "    .dataframe thead th {\n",
       "        text-align: right;\n",
       "    }\n",
       "</style>\n",
       "<table border=\"1\" class=\"dataframe\">\n",
       "  <thead>\n",
       "    <tr style=\"text-align: right;\">\n",
       "      <th></th>\n",
       "      <th>0</th>\n",
       "      <th>1</th>\n",
       "      <th>2</th>\n",
       "      <th>3</th>\n",
       "      <th>4</th>\n",
       "    </tr>\n",
       "  </thead>\n",
       "  <tbody>\n",
       "    <tr>\n",
       "      <th>1154</th>\n",
       "      <td>0.040404</td>\n",
       "      <td>0.783784</td>\n",
       "      <td>0.000000</td>\n",
       "      <td>1.000000</td>\n",
       "      <td>0.270697</td>\n",
       "    </tr>\n",
       "    <tr>\n",
       "      <th>475</th>\n",
       "      <td>0.116162</td>\n",
       "      <td>0.000000</td>\n",
       "      <td>0.454545</td>\n",
       "      <td>0.601010</td>\n",
       "      <td>0.022858</td>\n",
       "    </tr>\n",
       "    <tr>\n",
       "      <th>458</th>\n",
       "      <td>0.090909</td>\n",
       "      <td>0.000000</td>\n",
       "      <td>0.454545</td>\n",
       "      <td>1.000000</td>\n",
       "      <td>0.020653</td>\n",
       "    </tr>\n",
       "    <tr>\n",
       "      <th>43</th>\n",
       "      <td>0.242424</td>\n",
       "      <td>0.000000</td>\n",
       "      <td>1.000000</td>\n",
       "      <td>0.199495</td>\n",
       "      <td>0.046555</td>\n",
       "    </tr>\n",
       "    <tr>\n",
       "      <th>533</th>\n",
       "      <td>0.116162</td>\n",
       "      <td>0.121622</td>\n",
       "      <td>0.454545</td>\n",
       "      <td>0.199495</td>\n",
       "      <td>0.043912</td>\n",
       "    </tr>\n",
       "    <tr>\n",
       "      <th>1366</th>\n",
       "      <td>0.070707</td>\n",
       "      <td>0.301802</td>\n",
       "      <td>0.272727</td>\n",
       "      <td>0.199495</td>\n",
       "      <td>0.092743</td>\n",
       "    </tr>\n",
       "    <tr>\n",
       "      <th>537</th>\n",
       "      <td>0.308081</td>\n",
       "      <td>0.121622</td>\n",
       "      <td>0.454545</td>\n",
       "      <td>0.199495</td>\n",
       "      <td>0.043912</td>\n",
       "    </tr>\n",
       "    <tr>\n",
       "      <th>273</th>\n",
       "      <td>0.015152</td>\n",
       "      <td>0.090090</td>\n",
       "      <td>0.727273</td>\n",
       "      <td>0.199495</td>\n",
       "      <td>0.052836</td>\n",
       "    </tr>\n",
       "    <tr>\n",
       "      <th>428</th>\n",
       "      <td>0.030303</td>\n",
       "      <td>0.328829</td>\n",
       "      <td>0.727273</td>\n",
       "      <td>0.199495</td>\n",
       "      <td>0.205952</td>\n",
       "    </tr>\n",
       "    <tr>\n",
       "      <th>381</th>\n",
       "      <td>0.040404</td>\n",
       "      <td>0.238739</td>\n",
       "      <td>0.727273</td>\n",
       "      <td>0.199495</td>\n",
       "      <td>0.098992</td>\n",
       "    </tr>\n",
       "    <tr>\n",
       "      <th>895</th>\n",
       "      <td>0.070707</td>\n",
       "      <td>0.693694</td>\n",
       "      <td>0.090909</td>\n",
       "      <td>0.601010</td>\n",
       "      <td>0.461843</td>\n",
       "    </tr>\n",
       "    <tr>\n",
       "      <th>1085</th>\n",
       "      <td>0.015152</td>\n",
       "      <td>0.427928</td>\n",
       "      <td>0.000000</td>\n",
       "      <td>0.199495</td>\n",
       "      <td>0.070634</td>\n",
       "    </tr>\n",
       "    <tr>\n",
       "      <th>1101</th>\n",
       "      <td>0.015152</td>\n",
       "      <td>0.427928</td>\n",
       "      <td>0.000000</td>\n",
       "      <td>0.000000</td>\n",
       "      <td>0.072626</td>\n",
       "    </tr>\n",
       "    <tr>\n",
       "      <th>1065</th>\n",
       "      <td>0.191919</td>\n",
       "      <td>0.427928</td>\n",
       "      <td>0.000000</td>\n",
       "      <td>1.000000</td>\n",
       "      <td>0.065606</td>\n",
       "    </tr>\n",
       "    <tr>\n",
       "      <th>366</th>\n",
       "      <td>0.070707</td>\n",
       "      <td>0.238739</td>\n",
       "      <td>0.727273</td>\n",
       "      <td>1.000000</td>\n",
       "      <td>0.082632</td>\n",
       "    </tr>\n",
       "    <tr>\n",
       "      <th>803</th>\n",
       "      <td>0.116162</td>\n",
       "      <td>0.378378</td>\n",
       "      <td>0.090909</td>\n",
       "      <td>1.000000</td>\n",
       "      <td>0.084372</td>\n",
       "    </tr>\n",
       "    <tr>\n",
       "      <th>1084</th>\n",
       "      <td>0.010101</td>\n",
       "      <td>0.427928</td>\n",
       "      <td>0.000000</td>\n",
       "      <td>0.199495</td>\n",
       "      <td>0.070634</td>\n",
       "    </tr>\n",
       "    <tr>\n",
       "      <th>403</th>\n",
       "      <td>0.191919</td>\n",
       "      <td>0.328829</td>\n",
       "      <td>0.727273</td>\n",
       "      <td>1.000000</td>\n",
       "      <td>0.173067</td>\n",
       "    </tr>\n",
       "    <tr>\n",
       "      <th>282</th>\n",
       "      <td>0.191919</td>\n",
       "      <td>0.090090</td>\n",
       "      <td>0.727273</td>\n",
       "      <td>0.199495</td>\n",
       "      <td>0.052836</td>\n",
       "    </tr>\n",
       "    <tr>\n",
       "      <th>1210</th>\n",
       "      <td>0.005808</td>\n",
       "      <td>1.000000</td>\n",
       "      <td>0.000000</td>\n",
       "      <td>1.000000</td>\n",
       "      <td>0.362298</td>\n",
       "    </tr>\n",
       "    <tr>\n",
       "      <th>1450</th>\n",
       "      <td>0.070707</td>\n",
       "      <td>0.554054</td>\n",
       "      <td>0.272727</td>\n",
       "      <td>0.199495</td>\n",
       "      <td>0.696874</td>\n",
       "    </tr>\n",
       "    <tr>\n",
       "      <th>1493</th>\n",
       "      <td>0.030303</td>\n",
       "      <td>0.702703</td>\n",
       "      <td>0.272727</td>\n",
       "      <td>0.199495</td>\n",
       "      <td>0.904111</td>\n",
       "    </tr>\n",
       "    <tr>\n",
       "      <th>370</th>\n",
       "      <td>0.191919</td>\n",
       "      <td>0.238739</td>\n",
       "      <td>0.727273</td>\n",
       "      <td>1.000000</td>\n",
       "      <td>0.082632</td>\n",
       "    </tr>\n",
       "    <tr>\n",
       "      <th>1436</th>\n",
       "      <td>0.116162</td>\n",
       "      <td>0.554054</td>\n",
       "      <td>0.272727</td>\n",
       "      <td>0.601010</td>\n",
       "      <td>0.627861</td>\n",
       "    </tr>\n",
       "    <tr>\n",
       "      <th>385</th>\n",
       "      <td>0.116162</td>\n",
       "      <td>0.238739</td>\n",
       "      <td>0.727273</td>\n",
       "      <td>0.199495</td>\n",
       "      <td>0.098992</td>\n",
       "    </tr>\n",
       "    <tr>\n",
       "      <th>1125</th>\n",
       "      <td>0.191919</td>\n",
       "      <td>0.572072</td>\n",
       "      <td>0.000000</td>\n",
       "      <td>1.000000</td>\n",
       "      <td>0.203068</td>\n",
       "    </tr>\n",
       "    <tr>\n",
       "      <th>1073</th>\n",
       "      <td>0.053030</td>\n",
       "      <td>0.427928</td>\n",
       "      <td>0.000000</td>\n",
       "      <td>0.601010</td>\n",
       "      <td>0.067707</td>\n",
       "    </tr>\n",
       "    <tr>\n",
       "      <th>1465</th>\n",
       "      <td>0.053030</td>\n",
       "      <td>0.554054</td>\n",
       "      <td>0.272727</td>\n",
       "      <td>0.000000</td>\n",
       "      <td>0.714954</td>\n",
       "    </tr>\n",
       "    <tr>\n",
       "      <th>97</th>\n",
       "      <td>0.010101</td>\n",
       "      <td>0.135135</td>\n",
       "      <td>1.000000</td>\n",
       "      <td>1.000000</td>\n",
       "      <td>0.066481</td>\n",
       "    </tr>\n",
       "    <tr>\n",
       "      <th>1219</th>\n",
       "      <td>0.116162</td>\n",
       "      <td>1.000000</td>\n",
       "      <td>0.000000</td>\n",
       "      <td>1.000000</td>\n",
       "      <td>0.362298</td>\n",
       "    </tr>\n",
       "    <tr>\n",
       "      <th>355</th>\n",
       "      <td>0.116162</td>\n",
       "      <td>0.180180</td>\n",
       "      <td>0.727273</td>\n",
       "      <td>0.000000</td>\n",
       "      <td>0.080847</td>\n",
       "    </tr>\n",
       "  </tbody>\n",
       "</table>\n",
       "</div>"
      ],
      "text/plain": [
       "             0         1         2         3         4\n",
       "1154  0.040404  0.783784  0.000000  1.000000  0.270697\n",
       "475   0.116162  0.000000  0.454545  0.601010  0.022858\n",
       "458   0.090909  0.000000  0.454545  1.000000  0.020653\n",
       "43    0.242424  0.000000  1.000000  0.199495  0.046555\n",
       "533   0.116162  0.121622  0.454545  0.199495  0.043912\n",
       "1366  0.070707  0.301802  0.272727  0.199495  0.092743\n",
       "537   0.308081  0.121622  0.454545  0.199495  0.043912\n",
       "273   0.015152  0.090090  0.727273  0.199495  0.052836\n",
       "428   0.030303  0.328829  0.727273  0.199495  0.205952\n",
       "381   0.040404  0.238739  0.727273  0.199495  0.098992\n",
       "895   0.070707  0.693694  0.090909  0.601010  0.461843\n",
       "1085  0.015152  0.427928  0.000000  0.199495  0.070634\n",
       "1101  0.015152  0.427928  0.000000  0.000000  0.072626\n",
       "1065  0.191919  0.427928  0.000000  1.000000  0.065606\n",
       "366   0.070707  0.238739  0.727273  1.000000  0.082632\n",
       "803   0.116162  0.378378  0.090909  1.000000  0.084372\n",
       "1084  0.010101  0.427928  0.000000  0.199495  0.070634\n",
       "403   0.191919  0.328829  0.727273  1.000000  0.173067\n",
       "282   0.191919  0.090090  0.727273  0.199495  0.052836\n",
       "1210  0.005808  1.000000  0.000000  1.000000  0.362298\n",
       "1450  0.070707  0.554054  0.272727  0.199495  0.696874\n",
       "1493  0.030303  0.702703  0.272727  0.199495  0.904111\n",
       "370   0.191919  0.238739  0.727273  1.000000  0.082632\n",
       "1436  0.116162  0.554054  0.272727  0.601010  0.627861\n",
       "385   0.116162  0.238739  0.727273  0.199495  0.098992\n",
       "1125  0.191919  0.572072  0.000000  1.000000  0.203068\n",
       "1073  0.053030  0.427928  0.000000  0.601010  0.067707\n",
       "1465  0.053030  0.554054  0.272727  0.000000  0.714954\n",
       "97    0.010101  0.135135  1.000000  1.000000  0.066481\n",
       "1219  0.116162  1.000000  0.000000  1.000000  0.362298\n",
       "355   0.116162  0.180180  0.727273  0.000000  0.080847"
      ]
     },
     "execution_count": 12,
     "metadata": {},
     "output_type": "execute_result"
    }
   ],
   "source": [
    "X_test"
   ]
  },
  {
   "cell_type": "markdown",
   "metadata": {},
   "source": [
    "# Construction of the Neural Network "
   ]
  },
  {
   "cell_type": "code",
   "execution_count": 13,
   "metadata": {},
   "outputs": [],
   "source": [
    "import keras\n",
    "from keras import backend as K\n",
    "from keras.models import Sequential\n",
    "from keras.layers import Dense, Dropout\n",
    "from keras.optimizers import Adam\n",
    "from keras.regularizers import l2"
   ]
  },
  {
   "cell_type": "code",
   "execution_count": 14,
   "metadata": {},
   "outputs": [
    {
     "name": "stdout",
     "output_type": "stream",
     "text": [
      "Model: \"sequential\"\n",
      "_________________________________________________________________\n",
      " Layer (type)                Output Shape              Param #   \n",
      "=================================================================\n",
      " dropout (Dropout)           (None, 5)                 0         \n",
      "                                                                 \n",
      " dense (Dense)               (None, 100)               600       \n",
      "                                                                 \n",
      " dropout_1 (Dropout)         (None, 100)               0         \n",
      "                                                                 \n",
      " dense_1 (Dense)             (None, 100)               10100     \n",
      "                                                                 \n",
      " dropout_2 (Dropout)         (None, 100)               0         \n",
      "                                                                 \n",
      " dense_2 (Dense)             (None, 1)                 101       \n",
      "                                                                 \n",
      "=================================================================\n",
      "Total params: 10,801\n",
      "Trainable params: 10,801\n",
      "Non-trainable params: 0\n",
      "_________________________________________________________________\n"
     ]
    },
    {
     "name": "stderr",
     "output_type": "stream",
     "text": [
      "C:\\Users\\AdmPDI\\Documents\\anaconda\\lib\\site-packages\\keras\\optimizers\\optimizer_v2\\adam.py:117: UserWarning: The `lr` argument is deprecated, use `learning_rate` instead.\n",
      "  super().__init__(name, **kwargs)\n"
     ]
    }
   ],
   "source": [
    "n_input = 5  # numero de entradas das rede neural \n",
    "num_out = 1\n",
    "p_dropout = 0.5 # probabilidade dropout \n",
    "\n",
    "lbd = 1e-4  # L2- força de regularização \n",
    "\n",
    "model = Sequential()\n",
    "model.add(Dropout(.05, input_shape=(n_input,)))\n",
    "model.add(Dense(100, activation='relu', input_shape=(n_input,), kernel_regularizer=l2(lbd)))\n",
    "model.add(Dropout(p_dropout))\n",
    "model.add(Dense(100, activation='relu', kernel_regularizer=l2(lbd)))\n",
    "model.add(Dropout(p_dropout))\n",
    "model.add(Dense(num_out, activation=None))\n",
    "model.summary()\n",
    "\n",
    "opt = Adam(lr=1e-3) \n",
    "\n",
    "model.compile(loss='mean_squared_error',\n",
    "              optimizer=opt,\n",
    "              metrics=['mean_absolute_error'])"
   ]
  },
  {
   "cell_type": "markdown",
   "metadata": {},
   "source": [
    "# Training the neural network"
   ]
  },
  {
   "cell_type": "code",
   "execution_count": 15,
   "metadata": {},
   "outputs": [
    {
     "data": {
      "text/plain": [
       "<keras.callbacks.History at 0x2c5512c3af0>"
      ]
     },
     "execution_count": 15,
     "metadata": {},
     "output_type": "execute_result"
    }
   ],
   "source": [
    "epochs = 10000\n",
    "model.fit(X_train, y_train,\n",
    "            batch_size=X_train.shape[0] // 1,\n",
    "            epochs=epochs,\n",
    "            verbose=0)"
   ]
  },
  {
   "cell_type": "markdown",
   "metadata": {},
   "source": [
    "# Evaluating the model's performance "
   ]
  },
  {
   "cell_type": "code",
   "execution_count": 16,
   "metadata": {},
   "outputs": [
    {
     "name": "stdout",
     "output_type": "stream",
     "text": [
      "46/46 [==============================] - 0s 602us/step\n"
     ]
    }
   ],
   "source": [
    "from sklearn import metrics\n",
    "\n",
    "y_hat_train = model.predict(X_train)\n"
   ]
  },
  {
   "cell_type": "code",
   "execution_count": 17,
   "metadata": {},
   "outputs": [
    {
     "name": "stdout",
     "output_type": "stream",
     "text": [
      "1/1 [==============================] - 0s 41ms/step\n"
     ]
    }
   ],
   "source": [
    "y_hat_test = model.predict(X_test)\n"
   ]
  },
  {
   "cell_type": "markdown",
   "metadata": {},
   "source": [
    "# Training metrics"
   ]
  },
  {
   "cell_type": "code",
   "execution_count": 18,
   "metadata": {},
   "outputs": [],
   "source": [
    "MAE_T=metrics.mean_absolute_error(y_train, y_hat_train)\n",
    "R2_T=metrics.r2_score(y_train, y_hat_train);\n",
    "RMSE_T=metrics.mean_squared_error(y_train, y_hat_train)"
   ]
  },
  {
   "cell_type": "code",
   "execution_count": 19,
   "metadata": {},
   "outputs": [
    {
     "data": {
      "text/plain": [
       "(0.0511997533370794, 0.8614759055070207, 0.004696757310488971)"
      ]
     },
     "execution_count": 19,
     "metadata": {},
     "output_type": "execute_result"
    }
   ],
   "source": [
    "MAE_T,R2_T,RMSE_T"
   ]
  },
  {
   "cell_type": "markdown",
   "metadata": {},
   "source": [
    "# Test metrics"
   ]
  },
  {
   "cell_type": "code",
   "execution_count": 20,
   "metadata": {},
   "outputs": [],
   "source": [
    "MAE_t=metrics.mean_absolute_error(y_test, y_hat_test)\n",
    "R2_t=metrics.r2_score(y_test, y_hat_test);\n",
    "RMSE_t=metrics.mean_squared_error(y_test, y_hat_test)"
   ]
  },
  {
   "cell_type": "code",
   "execution_count": 21,
   "metadata": {},
   "outputs": [
    {
     "data": {
      "text/plain": [
       "(0.04411108495983448, 0.8431067017647526, 0.0031640609512823856)"
      ]
     },
     "execution_count": 21,
     "metadata": {},
     "output_type": "execute_result"
    }
   ],
   "source": [
    "MAE_t,R2_t,RMSE_t"
   ]
  },
  {
   "cell_type": "markdown",
   "metadata": {},
   "source": [
    "# Determination of random error and systematic error across the entire dataset"
   ]
  },
  {
   "cell_type": "code",
   "execution_count": 22,
   "metadata": {},
   "outputs": [
    {
     "name": "stdout",
     "output_type": "stream",
     "text": [
      "47/47 [==============================] - 0s 680us/step\n"
     ]
    }
   ],
   "source": [
    "previsão=model.predict(X[:1503])"
   ]
  },
  {
   "cell_type": "code",
   "execution_count": 23,
   "metadata": {},
   "outputs": [
    {
     "name": "stderr",
     "output_type": "stream",
     "text": [
      "C:\\Users\\AdmPDI\\AppData\\Local\\Temp\\ipykernel_16876\\3222474720.py:5: UserWarning: Pandas doesn't allow columns to be created via a new attribute name - see https://pandas.pydata.org/pandas-docs/stable/indexing.html#attribute-access\n",
      "  df.resume4=pd.concat([X,y,previsão2],axis=1)\n"
     ]
    }
   ],
   "source": [
    "colnames=[\"Predict2\"]\n",
    "\n",
    "previsão2=pd.DataFrame(previsão, columns=colnames)\n",
    "\n",
    "df.resume4=pd.concat([X,y,previsão2],axis=1)\n",
    "\n",
    "erro=df.resume4['Predict2']-df.resume4[5]\n",
    "\n",
    "erro.describe()\n",
    "\n",
    "es=erro.loc[:,].mean()\n",
    "\n",
    "ea=erro.loc[:,].std()\n"
   ]
  },
  {
   "cell_type": "code",
   "execution_count": 24,
   "metadata": {},
   "outputs": [
    {
     "data": {
      "text/plain": [
       "0.06802297222599057"
      ]
     },
     "execution_count": 24,
     "metadata": {},
     "output_type": "execute_result"
    }
   ],
   "source": [
    "ea"
   ]
  },
  {
   "cell_type": "code",
   "execution_count": 25,
   "metadata": {},
   "outputs": [
    {
     "data": {
      "text/plain": [
       "-0.006410824082647365"
      ]
     },
     "execution_count": 25,
     "metadata": {},
     "output_type": "execute_result"
    }
   ],
   "source": [
    "es"
   ]
  },
  {
   "cell_type": "code",
   "execution_count": 26,
   "metadata": {},
   "outputs": [
    {
     "data": {
      "text/plain": [
       "count    1503.000000\n",
       "mean       -0.006411\n",
       "std         0.068023\n",
       "min        -0.384967\n",
       "25%        -0.047061\n",
       "50%        -0.005399\n",
       "75%         0.032669\n",
       "max         0.253708\n",
       "dtype: float64"
      ]
     },
     "execution_count": 26,
     "metadata": {},
     "output_type": "execute_result"
    }
   ],
   "source": [
    "erro.describe()"
   ]
  },
  {
   "cell_type": "markdown",
   "metadata": {},
   "source": [
    "# Creating a graph by sorting the data in order and plotting the actual and predicted values in the test set"
   ]
  },
  {
   "cell_type": "code",
   "execution_count": 29,
   "metadata": {},
   "outputs": [
    {
     "data": {
      "image/png": "[encoded data removed]",
      "text/plain": [
       "<Figure size 1000x700 with 1 Axes>"
      ]
     },
     "metadata": {},
     "output_type": "display_data"
    }
   ],
   "source": [
    "# avaliação conjunto de teste\n",
    "n = 31\n",
    "plt.style.use(\"ggplot\")\n",
    "f = plt.figure(figsize=(10,7))\n",
    "plt.plot(range(n), y_hat_test, label=\"Prediction of the test\", lw=1)\n",
    "plt.scatter(range(n), y_test, color=\"black\", label=\"Real\")\n",
    "plt.ylabel(\"Pressure\")\n",
    "plt.xlabel(\"Order of the data\")\n",
    "plt.legend(loc=\"best\")\n",
    "f.savefig(\"rnn_demanda1.png\")\n",
    "plt.show()"
   ]
  },
  {
   "cell_type": "markdown",
   "metadata": {},
   "source": [
    "# APU: Analitical Propagation Uncertainty - Deep Learning"
   ]
  },
  {
   "cell_type": "code",
   "execution_count": 43,
   "metadata": {},
   "outputs": [],
   "source": [
    "X_test=X_test.reset_index(drop=True)#resetando o indice dos valores aleatórios sorteados para teste"
   ]
  },
  {
   "cell_type": "code",
   "execution_count": 44,
   "metadata": {},
   "outputs": [],
   "source": [
    "y_test=y_test.reset_index(drop=True)"
   ]
  },
  {
   "cell_type": "code",
   "execution_count": 45,
   "metadata": {
    "scrolled": true
   },
   "outputs": [
    {
     "name": "stdout",
     "output_type": "stream",
     "text": [
      "1/1 [==============================] - 0s 17ms/step\n"
     ]
    }
   ],
   "source": [
    "\n",
    " previsão=model.predict(X_test[:31])#criando a coluna de previsão dos valores de teste pelo modelo treinado\n"
   ]
  },
  {
   "cell_type": "code",
   "execution_count": 46,
   "metadata": {},
   "outputs": [],
   "source": [
    "colnames=[\"Predict\"]"
   ]
  },
  {
   "cell_type": "code",
   "execution_count": 47,
   "metadata": {},
   "outputs": [],
   "source": [
    "previsão1=pd.DataFrame(previsão, columns=colnames)"
   ]
  },
  {
   "cell_type": "code",
   "execution_count": 48,
   "metadata": {
    "scrolled": true
   },
   "outputs": [],
   "source": [
    "df.resume3=pd.concat([X_test,y_test,previsão1],axis=1)"
   ]
  },
  {
   "cell_type": "code",
   "execution_count": 49,
   "metadata": {},
   "outputs": [
    {
     "data": {
      "text/html": [
       "<div>\n",
       "<style scoped>\n",
       "    .dataframe tbody tr th:only-of-type {\n",
       "        vertical-align: middle;\n",
       "    }\n",
       "\n",
       "    .dataframe tbody tr th {\n",
       "        vertical-align: top;\n",
       "    }\n",
       "\n",
       "    .dataframe thead th {\n",
       "        text-align: right;\n",
       "    }\n",
       "</style>\n",
       "<table border=\"1\" class=\"dataframe\">\n",
       "  <thead>\n",
       "    <tr style=\"text-align: right;\">\n",
       "      <th></th>\n",
       "      <th>0</th>\n",
       "      <th>1</th>\n",
       "      <th>2</th>\n",
       "      <th>3</th>\n",
       "      <th>4</th>\n",
       "      <th>5</th>\n",
       "      <th>Predict</th>\n",
       "    </tr>\n",
       "  </thead>\n",
       "  <tbody>\n",
       "    <tr>\n",
       "      <th>0</th>\n",
       "      <td>0.040404</td>\n",
       "      <td>0.783784</td>\n",
       "      <td>0.000000</td>\n",
       "      <td>1.000000</td>\n",
       "      <td>0.270697</td>\n",
       "      <td>0.596591</td>\n",
       "      <td>0.551536</td>\n",
       "    </tr>\n",
       "    <tr>\n",
       "      <th>1</th>\n",
       "      <td>0.116162</td>\n",
       "      <td>0.000000</td>\n",
       "      <td>0.454545</td>\n",
       "      <td>0.601010</td>\n",
       "      <td>0.022858</td>\n",
       "      <td>0.648363</td>\n",
       "      <td>0.666237</td>\n",
       "    </tr>\n",
       "    <tr>\n",
       "      <th>2</th>\n",
       "      <td>0.090909</td>\n",
       "      <td>0.000000</td>\n",
       "      <td>0.454545</td>\n",
       "      <td>1.000000</td>\n",
       "      <td>0.020653</td>\n",
       "      <td>0.671870</td>\n",
       "      <td>0.678567</td>\n",
       "    </tr>\n",
       "    <tr>\n",
       "      <th>3</th>\n",
       "      <td>0.242424</td>\n",
       "      <td>0.000000</td>\n",
       "      <td>1.000000</td>\n",
       "      <td>0.199495</td>\n",
       "      <td>0.046555</td>\n",
       "      <td>0.383147</td>\n",
       "      <td>0.412262</td>\n",
       "    </tr>\n",
       "    <tr>\n",
       "      <th>4</th>\n",
       "      <td>0.116162</td>\n",
       "      <td>0.121622</td>\n",
       "      <td>0.454545</td>\n",
       "      <td>0.199495</td>\n",
       "      <td>0.043912</td>\n",
       "      <td>0.590555</td>\n",
       "      <td>0.619033</td>\n",
       "    </tr>\n",
       "    <tr>\n",
       "      <th>5</th>\n",
       "      <td>0.070707</td>\n",
       "      <td>0.301802</td>\n",
       "      <td>0.272727</td>\n",
       "      <td>0.199495</td>\n",
       "      <td>0.092743</td>\n",
       "      <td>0.638046</td>\n",
       "      <td>0.680991</td>\n",
       "    </tr>\n",
       "    <tr>\n",
       "      <th>6</th>\n",
       "      <td>0.308081</td>\n",
       "      <td>0.121622</td>\n",
       "      <td>0.454545</td>\n",
       "      <td>0.199495</td>\n",
       "      <td>0.043912</td>\n",
       "      <td>0.420906</td>\n",
       "      <td>0.401395</td>\n",
       "    </tr>\n",
       "    <tr>\n",
       "      <th>7</th>\n",
       "      <td>0.015152</td>\n",
       "      <td>0.090090</td>\n",
       "      <td>0.727273</td>\n",
       "      <td>0.199495</td>\n",
       "      <td>0.052836</td>\n",
       "      <td>0.579068</td>\n",
       "      <td>0.583010</td>\n",
       "    </tr>\n",
       "    <tr>\n",
       "      <th>8</th>\n",
       "      <td>0.030303</td>\n",
       "      <td>0.328829</td>\n",
       "      <td>0.727273</td>\n",
       "      <td>0.199495</td>\n",
       "      <td>0.205952</td>\n",
       "      <td>0.609434</td>\n",
       "      <td>0.653180</td>\n",
       "    </tr>\n",
       "    <tr>\n",
       "      <th>9</th>\n",
       "      <td>0.040404</td>\n",
       "      <td>0.238739</td>\n",
       "      <td>0.727273</td>\n",
       "      <td>0.199495</td>\n",
       "      <td>0.098992</td>\n",
       "      <td>0.590342</td>\n",
       "      <td>0.674641</td>\n",
       "    </tr>\n",
       "    <tr>\n",
       "      <th>10</th>\n",
       "      <td>0.070707</td>\n",
       "      <td>0.693694</td>\n",
       "      <td>0.090909</td>\n",
       "      <td>0.601010</td>\n",
       "      <td>0.461843</td>\n",
       "      <td>0.659984</td>\n",
       "      <td>0.589422</td>\n",
       "    </tr>\n",
       "    <tr>\n",
       "      <th>11</th>\n",
       "      <td>0.015152</td>\n",
       "      <td>0.427928</td>\n",
       "      <td>0.000000</td>\n",
       "      <td>0.199495</td>\n",
       "      <td>0.070634</td>\n",
       "      <td>0.545484</td>\n",
       "      <td>0.553845</td>\n",
       "    </tr>\n",
       "    <tr>\n",
       "      <th>12</th>\n",
       "      <td>0.015152</td>\n",
       "      <td>0.427928</td>\n",
       "      <td>0.000000</td>\n",
       "      <td>0.000000</td>\n",
       "      <td>0.072626</td>\n",
       "      <td>0.625043</td>\n",
       "      <td>0.550452</td>\n",
       "    </tr>\n",
       "    <tr>\n",
       "      <th>13</th>\n",
       "      <td>0.191919</td>\n",
       "      <td>0.427928</td>\n",
       "      <td>0.000000</td>\n",
       "      <td>1.000000</td>\n",
       "      <td>0.065606</td>\n",
       "      <td>0.820486</td>\n",
       "      <td>0.740590</td>\n",
       "    </tr>\n",
       "    <tr>\n",
       "      <th>14</th>\n",
       "      <td>0.070707</td>\n",
       "      <td>0.238739</td>\n",
       "      <td>0.727273</td>\n",
       "      <td>1.000000</td>\n",
       "      <td>0.082632</td>\n",
       "      <td>0.720079</td>\n",
       "      <td>0.684165</td>\n",
       "    </tr>\n",
       "    <tr>\n",
       "      <th>15</th>\n",
       "      <td>0.116162</td>\n",
       "      <td>0.378378</td>\n",
       "      <td>0.090909</td>\n",
       "      <td>1.000000</td>\n",
       "      <td>0.084372</td>\n",
       "      <td>0.820220</td>\n",
       "      <td>0.756975</td>\n",
       "    </tr>\n",
       "    <tr>\n",
       "      <th>16</th>\n",
       "      <td>0.010101</td>\n",
       "      <td>0.427928</td>\n",
       "      <td>0.000000</td>\n",
       "      <td>0.199495</td>\n",
       "      <td>0.070634</td>\n",
       "      <td>0.472625</td>\n",
       "      <td>0.544846</td>\n",
       "    </tr>\n",
       "    <tr>\n",
       "      <th>17</th>\n",
       "      <td>0.191919</td>\n",
       "      <td>0.328829</td>\n",
       "      <td>0.727273</td>\n",
       "      <td>1.000000</td>\n",
       "      <td>0.173067</td>\n",
       "      <td>0.420879</td>\n",
       "      <td>0.361900</td>\n",
       "    </tr>\n",
       "    <tr>\n",
       "      <th>18</th>\n",
       "      <td>0.191919</td>\n",
       "      <td>0.090090</td>\n",
       "      <td>0.727273</td>\n",
       "      <td>0.199495</td>\n",
       "      <td>0.052836</td>\n",
       "      <td>0.447975</td>\n",
       "      <td>0.469053</td>\n",
       "    </tr>\n",
       "    <tr>\n",
       "      <th>19</th>\n",
       "      <td>0.005808</td>\n",
       "      <td>1.000000</td>\n",
       "      <td>0.000000</td>\n",
       "      <td>1.000000</td>\n",
       "      <td>0.362298</td>\n",
       "      <td>0.331773</td>\n",
       "      <td>0.447948</td>\n",
       "    </tr>\n",
       "    <tr>\n",
       "      <th>20</th>\n",
       "      <td>0.070707</td>\n",
       "      <td>0.554054</td>\n",
       "      <td>0.272727</td>\n",
       "      <td>0.199495</td>\n",
       "      <td>0.696874</td>\n",
       "      <td>0.385434</td>\n",
       "      <td>0.374660</td>\n",
       "    </tr>\n",
       "    <tr>\n",
       "      <th>21</th>\n",
       "      <td>0.030303</td>\n",
       "      <td>0.702703</td>\n",
       "      <td>0.272727</td>\n",
       "      <td>0.199495</td>\n",
       "      <td>0.904111</td>\n",
       "      <td>0.414391</td>\n",
       "      <td>0.405992</td>\n",
       "    </tr>\n",
       "    <tr>\n",
       "      <th>22</th>\n",
       "      <td>0.191919</td>\n",
       "      <td>0.238739</td>\n",
       "      <td>0.727273</td>\n",
       "      <td>1.000000</td>\n",
       "      <td>0.082632</td>\n",
       "      <td>0.450714</td>\n",
       "      <td>0.443780</td>\n",
       "    </tr>\n",
       "    <tr>\n",
       "      <th>23</th>\n",
       "      <td>0.116162</td>\n",
       "      <td>0.554054</td>\n",
       "      <td>0.272727</td>\n",
       "      <td>0.601010</td>\n",
       "      <td>0.627861</td>\n",
       "      <td>0.363603</td>\n",
       "      <td>0.395483</td>\n",
       "    </tr>\n",
       "    <tr>\n",
       "      <th>24</th>\n",
       "      <td>0.116162</td>\n",
       "      <td>0.238739</td>\n",
       "      <td>0.727273</td>\n",
       "      <td>0.199495</td>\n",
       "      <td>0.098992</td>\n",
       "      <td>0.339591</td>\n",
       "      <td>0.430997</td>\n",
       "    </tr>\n",
       "    <tr>\n",
       "      <th>25</th>\n",
       "      <td>0.191919</td>\n",
       "      <td>0.572072</td>\n",
       "      <td>0.000000</td>\n",
       "      <td>1.000000</td>\n",
       "      <td>0.203068</td>\n",
       "      <td>0.755923</td>\n",
       "      <td>0.629415</td>\n",
       "    </tr>\n",
       "    <tr>\n",
       "      <th>26</th>\n",
       "      <td>0.053030</td>\n",
       "      <td>0.427928</td>\n",
       "      <td>0.000000</td>\n",
       "      <td>0.601010</td>\n",
       "      <td>0.067707</td>\n",
       "      <td>0.766400</td>\n",
       "      <td>0.664267</td>\n",
       "    </tr>\n",
       "    <tr>\n",
       "      <th>27</th>\n",
       "      <td>0.053030</td>\n",
       "      <td>0.554054</td>\n",
       "      <td>0.272727</td>\n",
       "      <td>0.000000</td>\n",
       "      <td>0.714954</td>\n",
       "      <td>0.409153</td>\n",
       "      <td>0.386565</td>\n",
       "    </tr>\n",
       "    <tr>\n",
       "      <th>28</th>\n",
       "      <td>0.010101</td>\n",
       "      <td>0.135135</td>\n",
       "      <td>1.000000</td>\n",
       "      <td>1.000000</td>\n",
       "      <td>0.066481</td>\n",
       "      <td>0.643072</td>\n",
       "      <td>0.608097</td>\n",
       "    </tr>\n",
       "    <tr>\n",
       "      <th>29</th>\n",
       "      <td>0.116162</td>\n",
       "      <td>1.000000</td>\n",
       "      <td>0.000000</td>\n",
       "      <td>1.000000</td>\n",
       "      <td>0.362298</td>\n",
       "      <td>0.604063</td>\n",
       "      <td>0.603643</td>\n",
       "    </tr>\n",
       "    <tr>\n",
       "      <th>30</th>\n",
       "      <td>0.116162</td>\n",
       "      <td>0.180180</td>\n",
       "      <td>0.727273</td>\n",
       "      <td>0.000000</td>\n",
       "      <td>0.080847</td>\n",
       "      <td>0.447496</td>\n",
       "      <td>0.456243</td>\n",
       "    </tr>\n",
       "  </tbody>\n",
       "</table>\n",
       "</div>"
      ],
      "text/plain": [
       "           0         1         2         3         4         5   Predict\n",
       "0   0.040404  0.783784  0.000000  1.000000  0.270697  0.596591  0.551536\n",
       "1   0.116162  0.000000  0.454545  0.601010  0.022858  0.648363  0.666237\n",
       "2   0.090909  0.000000  0.454545  1.000000  0.020653  0.671870  0.678567\n",
       "3   0.242424  0.000000  1.000000  0.199495  0.046555  0.383147  0.412262\n",
       "4   0.116162  0.121622  0.454545  0.199495  0.043912  0.590555  0.619033\n",
       "5   0.070707  0.301802  0.272727  0.199495  0.092743  0.638046  0.680991\n",
       "6   0.308081  0.121622  0.454545  0.199495  0.043912  0.420906  0.401395\n",
       "7   0.015152  0.090090  0.727273  0.199495  0.052836  0.579068  0.583010\n",
       "8   0.030303  0.328829  0.727273  0.199495  0.205952  0.609434  0.653180\n",
       "9   0.040404  0.238739  0.727273  0.199495  0.098992  0.590342  0.674641\n",
       "10  0.070707  0.693694  0.090909  0.601010  0.461843  0.659984  0.589422\n",
       "11  0.015152  0.427928  0.000000  0.199495  0.070634  0.545484  0.553845\n",
       "12  0.015152  0.427928  0.000000  0.000000  0.072626  0.625043  0.550452\n",
       "13  0.191919  0.427928  0.000000  1.000000  0.065606  0.820486  0.740590\n",
       "14  0.070707  0.238739  0.727273  1.000000  0.082632  0.720079  0.684165\n",
       "15  0.116162  0.378378  0.090909  1.000000  0.084372  0.820220  0.756975\n",
       "16  0.010101  0.427928  0.000000  0.199495  0.070634  0.472625  0.544846\n",
       "17  0.191919  0.328829  0.727273  1.000000  0.173067  0.420879  0.361900\n",
       "18  0.191919  0.090090  0.727273  0.199495  0.052836  0.447975  0.469053\n",
       "19  0.005808  1.000000  0.000000  1.000000  0.362298  0.331773  0.447948\n",
       "20  0.070707  0.554054  0.272727  0.199495  0.696874  0.385434  0.374660\n",
       "21  0.030303  0.702703  0.272727  0.199495  0.904111  0.414391  0.405992\n",
       "22  0.191919  0.238739  0.727273  1.000000  0.082632  0.450714  0.443780\n",
       "23  0.116162  0.554054  0.272727  0.601010  0.627861  0.363603  0.395483\n",
       "24  0.116162  0.238739  0.727273  0.199495  0.098992  0.339591  0.430997\n",
       "25  0.191919  0.572072  0.000000  1.000000  0.203068  0.755923  0.629415\n",
       "26  0.053030  0.427928  0.000000  0.601010  0.067707  0.766400  0.664267\n",
       "27  0.053030  0.554054  0.272727  0.000000  0.714954  0.409153  0.386565\n",
       "28  0.010101  0.135135  1.000000  1.000000  0.066481  0.643072  0.608097\n",
       "29  0.116162  1.000000  0.000000  1.000000  0.362298  0.604063  0.603643\n",
       "30  0.116162  0.180180  0.727273  0.000000  0.080847  0.447496  0.456243"
      ]
     },
     "execution_count": 49,
     "metadata": {},
     "output_type": "execute_result"
    }
   ],
   "source": [
    "df.resume3"
   ]
  },
  {
   "cell_type": "markdown",
   "metadata": {},
   "source": [
    "# Determination of partial derivatives using the finite difference method."
   ]
  },
  {
   "cell_type": "code",
   "execution_count": 54,
   "metadata": {},
   "outputs": [],
   "source": [
    "#criar a coluna de predict delta x1 "
   ]
  },
  {
   "cell_type": "code",
   "execution_count": 55,
   "metadata": {},
   "outputs": [],
   "source": [
    "#incerteza de x1 (medidor de frequência) * h=ux1"
   ]
  },
  {
   "cell_type": "code",
   "execution_count": 56,
   "metadata": {},
   "outputs": [],
   "source": [
    "h1=0.000001\n",
    "h2=0.000001\n",
    "h3=0.000001\n",
    "h4=0.000001\n",
    "h5=0.000001"
   ]
  },
  {
   "cell_type": "code",
   "execution_count": 57,
   "metadata": {},
   "outputs": [],
   "source": [
    "deltax1=X_test[:31]+np.array([h1,0,0,0,0])"
   ]
  },
  {
   "cell_type": "code",
   "execution_count": 58,
   "metadata": {},
   "outputs": [
    {
     "name": "stdout",
     "output_type": "stream",
     "text": [
      "1/1 [==============================] - 0s 16ms/step\n"
     ]
    }
   ],
   "source": [
    "previsãodeltax1=model.predict(deltax1[:31])\n"
   ]
  },
  {
   "cell_type": "code",
   "execution_count": 59,
   "metadata": {},
   "outputs": [],
   "source": [
    "colnames=[\"Predict Deltax1\"]\n",
    "previsãodeltax1=pd.DataFrame(previsãodeltax1, columns=colnames)"
   ]
  },
  {
   "cell_type": "code",
   "execution_count": 60,
   "metadata": {},
   "outputs": [],
   "source": [
    "#criar a coluna de predict delta x2"
   ]
  },
  {
   "cell_type": "code",
   "execution_count": 61,
   "metadata": {},
   "outputs": [],
   "source": [
    "#incerteza de x2 (medidor de ângulo)"
   ]
  },
  {
   "cell_type": "code",
   "execution_count": 62,
   "metadata": {},
   "outputs": [],
   "source": [
    "deltax2=X_test[:31]+np.array([0,h2,0,0,0])"
   ]
  },
  {
   "cell_type": "code",
   "execution_count": 63,
   "metadata": {},
   "outputs": [
    {
     "name": "stdout",
     "output_type": "stream",
     "text": [
      "1/1 [==============================] - 0s 16ms/step\n"
     ]
    }
   ],
   "source": [
    "previsãodeltax2=model.predict(deltax2[:31])"
   ]
  },
  {
   "cell_type": "code",
   "execution_count": 64,
   "metadata": {},
   "outputs": [],
   "source": [
    "colnames=[\"Predict Deltax2\"]\n",
    "previsãodeltax2=pd.DataFrame(previsãodeltax2, columns=colnames)"
   ]
  },
  {
   "cell_type": "code",
   "execution_count": 65,
   "metadata": {},
   "outputs": [],
   "source": [
    "#criar a coluna de predict delta x3"
   ]
  },
  {
   "cell_type": "code",
   "execution_count": 66,
   "metadata": {},
   "outputs": [],
   "source": [
    "#incerteza de x3 (medidor de comprimento)"
   ]
  },
  {
   "cell_type": "code",
   "execution_count": 67,
   "metadata": {},
   "outputs": [],
   "source": [
    "deltax3=X_test[:31]+np.array([0,0,h3,0,0])"
   ]
  },
  {
   "cell_type": "code",
   "execution_count": 68,
   "metadata": {},
   "outputs": [
    {
     "name": "stdout",
     "output_type": "stream",
     "text": [
      "1/1 [==============================] - 0s 15ms/step\n"
     ]
    }
   ],
   "source": [
    "previsãodeltax3=model.predict(deltax3[:31])"
   ]
  },
  {
   "cell_type": "code",
   "execution_count": 69,
   "metadata": {},
   "outputs": [],
   "source": [
    "colnames=[\"Predict Deltax3\"]\n",
    "previsãodeltax3=pd.DataFrame(previsãodeltax3, columns=colnames)"
   ]
  },
  {
   "cell_type": "code",
   "execution_count": 70,
   "metadata": {},
   "outputs": [],
   "source": [
    "#criar a coluna de predict delta x4"
   ]
  },
  {
   "cell_type": "code",
   "execution_count": 71,
   "metadata": {},
   "outputs": [],
   "source": [
    "#incerteza de x4 (medidor de velocidade)."
   ]
  },
  {
   "cell_type": "code",
   "execution_count": 72,
   "metadata": {},
   "outputs": [],
   "source": [
    "deltax4=X_test[:31]+np.array([0,0,0,h4,0])"
   ]
  },
  {
   "cell_type": "code",
   "execution_count": 73,
   "metadata": {},
   "outputs": [
    {
     "name": "stdout",
     "output_type": "stream",
     "text": [
      "1/1 [==============================] - 0s 17ms/step\n"
     ]
    }
   ],
   "source": [
    "previsãodeltax4=model.predict(deltax4[:31])"
   ]
  },
  {
   "cell_type": "code",
   "execution_count": 74,
   "metadata": {},
   "outputs": [],
   "source": [
    "colnames=[\"Predict Deltax4\"]\n",
    "previsãodeltax4=pd.DataFrame(previsãodeltax4, columns=colnames)"
   ]
  },
  {
   "cell_type": "code",
   "execution_count": 75,
   "metadata": {},
   "outputs": [],
   "source": [
    "#criar a coluna de predict delta x5"
   ]
  },
  {
   "cell_type": "code",
   "execution_count": 76,
   "metadata": {},
   "outputs": [],
   "source": [
    "#incerteza de x5 (medidor de sucção)"
   ]
  },
  {
   "cell_type": "code",
   "execution_count": 77,
   "metadata": {},
   "outputs": [],
   "source": [
    "deltax5=X_test[:31]+np.array([0,0,0,0,h5])"
   ]
  },
  {
   "cell_type": "code",
   "execution_count": 78,
   "metadata": {},
   "outputs": [
    {
     "name": "stdout",
     "output_type": "stream",
     "text": [
      "1/1 [==============================] - 0s 16ms/step\n"
     ]
    }
   ],
   "source": [
    "previsãodeltax5=model.predict(deltax5[:31])"
   ]
  },
  {
   "cell_type": "code",
   "execution_count": 79,
   "metadata": {},
   "outputs": [],
   "source": [
    "colnames=[\"Predict Deltax5\"]\n",
    "previsãodeltax5=pd.DataFrame(previsãodeltax5, columns=colnames)"
   ]
  },
  {
   "cell_type": "code",
   "execution_count": 80,
   "metadata": {},
   "outputs": [
    {
     "name": "stderr",
     "output_type": "stream",
     "text": [
      "C:\\Users\\AdmPDI\\AppData\\Local\\Temp\\ipykernel_16876\\2651709830.py:1: UserWarning: Pandas doesn't allow columns to be created via a new attribute name - see https://pandas.pydata.org/pandas-docs/stable/indexing.html#attribute-access\n",
      "  df.total=pd.concat([y_test,previsão1,previsãodeltax1,previsãodeltax2,previsãodeltax3,previsãodeltax4,previsãodeltax5],axis=1)\n"
     ]
    }
   ],
   "source": [
    "df.total=pd.concat([y_test,previsão1,previsãodeltax1,previsãodeltax2,previsãodeltax3,previsãodeltax4,previsãodeltax5],axis=1)"
   ]
  },
  {
   "cell_type": "code",
   "execution_count": 81,
   "metadata": {},
   "outputs": [],
   "source": [
    "df.total['c1']=(df.total['Predict Deltax1']-df.total['Predict'])/h1\n"
   ]
  },
  {
   "cell_type": "code",
   "execution_count": 82,
   "metadata": {},
   "outputs": [],
   "source": [
    "df.total['c2']=(df.total['Predict Deltax2']-df.total['Predict'])/h2\n"
   ]
  },
  {
   "cell_type": "code",
   "execution_count": 83,
   "metadata": {},
   "outputs": [],
   "source": [
    "df.total['c3']=(df.total['Predict Deltax3']-df.total['Predict'])/h3"
   ]
  },
  {
   "cell_type": "code",
   "execution_count": 84,
   "metadata": {},
   "outputs": [],
   "source": [
    "df.total['c4']=(df.total['Predict Deltax4']-df.total['Predict'])/h4"
   ]
  },
  {
   "cell_type": "code",
   "execution_count": 85,
   "metadata": {},
   "outputs": [],
   "source": [
    "df.total['c5']=(df.total['Predict Deltax5']-df.total['Predict'])/h5"
   ]
  },
  {
   "cell_type": "code",
   "execution_count": 86,
   "metadata": {},
   "outputs": [
    {
     "data": {
      "text/html": [
       "<div>\n",
       "<style scoped>\n",
       "    .dataframe tbody tr th:only-of-type {\n",
       "        vertical-align: middle;\n",
       "    }\n",
       "\n",
       "    .dataframe tbody tr th {\n",
       "        vertical-align: top;\n",
       "    }\n",
       "\n",
       "    .dataframe thead th {\n",
       "        text-align: right;\n",
       "    }\n",
       "</style>\n",
       "<table border=\"1\" class=\"dataframe\">\n",
       "  <thead>\n",
       "    <tr style=\"text-align: right;\">\n",
       "      <th></th>\n",
       "      <th>5</th>\n",
       "      <th>Predict</th>\n",
       "      <th>Predict Deltax1</th>\n",
       "      <th>Predict Deltax2</th>\n",
       "      <th>Predict Deltax3</th>\n",
       "      <th>Predict Deltax4</th>\n",
       "      <th>Predict Deltax5</th>\n",
       "      <th>c1</th>\n",
       "      <th>c2</th>\n",
       "      <th>c3</th>\n",
       "      <th>c4</th>\n",
       "      <th>c5</th>\n",
       "    </tr>\n",
       "  </thead>\n",
       "  <tbody>\n",
       "    <tr>\n",
       "      <th>0</th>\n",
       "      <td>0.596591</td>\n",
       "      <td>0.551536</td>\n",
       "      <td>0.551540</td>\n",
       "      <td>0.551536</td>\n",
       "      <td>0.551537</td>\n",
       "      <td>0.551536</td>\n",
       "      <td>0.551536</td>\n",
       "      <td>3.457069</td>\n",
       "      <td>-0.298023</td>\n",
       "      <td>0.894070</td>\n",
       "      <td>-0.059605</td>\n",
       "      <td>-0.059605</td>\n",
       "    </tr>\n",
       "    <tr>\n",
       "      <th>1</th>\n",
       "      <td>0.648363</td>\n",
       "      <td>0.666237</td>\n",
       "      <td>0.666236</td>\n",
       "      <td>0.666237</td>\n",
       "      <td>0.666236</td>\n",
       "      <td>0.666237</td>\n",
       "      <td>0.666236</td>\n",
       "      <td>-0.655651</td>\n",
       "      <td>0.000000</td>\n",
       "      <td>-0.357628</td>\n",
       "      <td>0.000000</td>\n",
       "      <td>-0.596046</td>\n",
       "    </tr>\n",
       "    <tr>\n",
       "      <th>2</th>\n",
       "      <td>0.671870</td>\n",
       "      <td>0.678567</td>\n",
       "      <td>0.678567</td>\n",
       "      <td>0.678567</td>\n",
       "      <td>0.678567</td>\n",
       "      <td>0.678567</td>\n",
       "      <td>0.678567</td>\n",
       "      <td>0.298023</td>\n",
       "      <td>0.357628</td>\n",
       "      <td>-0.178814</td>\n",
       "      <td>0.000000</td>\n",
       "      <td>0.238419</td>\n",
       "    </tr>\n",
       "    <tr>\n",
       "      <th>3</th>\n",
       "      <td>0.383147</td>\n",
       "      <td>0.412262</td>\n",
       "      <td>0.412261</td>\n",
       "      <td>0.412262</td>\n",
       "      <td>0.412262</td>\n",
       "      <td>0.412262</td>\n",
       "      <td>0.412261</td>\n",
       "      <td>-0.625849</td>\n",
       "      <td>-0.268221</td>\n",
       "      <td>-0.059605</td>\n",
       "      <td>0.089407</td>\n",
       "      <td>-0.596046</td>\n",
       "    </tr>\n",
       "    <tr>\n",
       "      <th>4</th>\n",
       "      <td>0.590555</td>\n",
       "      <td>0.619033</td>\n",
       "      <td>0.619031</td>\n",
       "      <td>0.619033</td>\n",
       "      <td>0.619033</td>\n",
       "      <td>0.619033</td>\n",
       "      <td>0.619032</td>\n",
       "      <td>-1.728535</td>\n",
       "      <td>-0.417233</td>\n",
       "      <td>-0.357628</td>\n",
       "      <td>0.178814</td>\n",
       "      <td>-0.894070</td>\n",
       "    </tr>\n",
       "    <tr>\n",
       "      <th>5</th>\n",
       "      <td>0.638046</td>\n",
       "      <td>0.680991</td>\n",
       "      <td>0.680987</td>\n",
       "      <td>0.680991</td>\n",
       "      <td>0.680991</td>\n",
       "      <td>0.680991</td>\n",
       "      <td>0.680990</td>\n",
       "      <td>-3.635883</td>\n",
       "      <td>-0.417233</td>\n",
       "      <td>-0.298023</td>\n",
       "      <td>0.178814</td>\n",
       "      <td>-1.251698</td>\n",
       "    </tr>\n",
       "    <tr>\n",
       "      <th>6</th>\n",
       "      <td>0.420906</td>\n",
       "      <td>0.401395</td>\n",
       "      <td>0.401394</td>\n",
       "      <td>0.401394</td>\n",
       "      <td>0.401395</td>\n",
       "      <td>0.401395</td>\n",
       "      <td>0.401394</td>\n",
       "      <td>-0.804663</td>\n",
       "      <td>-0.476837</td>\n",
       "      <td>-0.178814</td>\n",
       "      <td>0.089407</td>\n",
       "      <td>-0.894070</td>\n",
       "    </tr>\n",
       "    <tr>\n",
       "      <th>7</th>\n",
       "      <td>0.579068</td>\n",
       "      <td>0.583010</td>\n",
       "      <td>0.583015</td>\n",
       "      <td>0.583010</td>\n",
       "      <td>0.583010</td>\n",
       "      <td>0.583010</td>\n",
       "      <td>0.583011</td>\n",
       "      <td>4.827976</td>\n",
       "      <td>0.119209</td>\n",
       "      <td>0.059605</td>\n",
       "      <td>0.000000</td>\n",
       "      <td>0.774860</td>\n",
       "    </tr>\n",
       "    <tr>\n",
       "      <th>8</th>\n",
       "      <td>0.609434</td>\n",
       "      <td>0.653180</td>\n",
       "      <td>0.653176</td>\n",
       "      <td>0.653179</td>\n",
       "      <td>0.653179</td>\n",
       "      <td>0.653180</td>\n",
       "      <td>0.653179</td>\n",
       "      <td>-3.695488</td>\n",
       "      <td>-0.417233</td>\n",
       "      <td>-0.298023</td>\n",
       "      <td>0.119209</td>\n",
       "      <td>-0.298023</td>\n",
       "    </tr>\n",
       "    <tr>\n",
       "      <th>9</th>\n",
       "      <td>0.590342</td>\n",
       "      <td>0.674641</td>\n",
       "      <td>0.674639</td>\n",
       "      <td>0.674641</td>\n",
       "      <td>0.674641</td>\n",
       "      <td>0.674641</td>\n",
       "      <td>0.674641</td>\n",
       "      <td>-2.264977</td>\n",
       "      <td>0.178814</td>\n",
       "      <td>-0.417233</td>\n",
       "      <td>0.059605</td>\n",
       "      <td>-0.178814</td>\n",
       "    </tr>\n",
       "    <tr>\n",
       "      <th>10</th>\n",
       "      <td>0.659984</td>\n",
       "      <td>0.589422</td>\n",
       "      <td>0.589420</td>\n",
       "      <td>0.589422</td>\n",
       "      <td>0.589422</td>\n",
       "      <td>0.589422</td>\n",
       "      <td>0.589422</td>\n",
       "      <td>-2.264977</td>\n",
       "      <td>-0.059605</td>\n",
       "      <td>-0.059605</td>\n",
       "      <td>0.059605</td>\n",
       "      <td>-0.417233</td>\n",
       "    </tr>\n",
       "    <tr>\n",
       "      <th>11</th>\n",
       "      <td>0.545484</td>\n",
       "      <td>0.553845</td>\n",
       "      <td>0.553847</td>\n",
       "      <td>0.553845</td>\n",
       "      <td>0.553845</td>\n",
       "      <td>0.553845</td>\n",
       "      <td>0.553845</td>\n",
       "      <td>2.205372</td>\n",
       "      <td>-0.119209</td>\n",
       "      <td>0.178814</td>\n",
       "      <td>0.000000</td>\n",
       "      <td>0.298023</td>\n",
       "    </tr>\n",
       "    <tr>\n",
       "      <th>12</th>\n",
       "      <td>0.625043</td>\n",
       "      <td>0.550452</td>\n",
       "      <td>0.550455</td>\n",
       "      <td>0.550452</td>\n",
       "      <td>0.550453</td>\n",
       "      <td>0.550453</td>\n",
       "      <td>0.550453</td>\n",
       "      <td>2.264977</td>\n",
       "      <td>-0.059605</td>\n",
       "      <td>0.238419</td>\n",
       "      <td>0.059605</td>\n",
       "      <td>0.357628</td>\n",
       "    </tr>\n",
       "    <tr>\n",
       "      <th>13</th>\n",
       "      <td>0.820486</td>\n",
       "      <td>0.740590</td>\n",
       "      <td>0.740588</td>\n",
       "      <td>0.740589</td>\n",
       "      <td>0.740589</td>\n",
       "      <td>0.740590</td>\n",
       "      <td>0.740590</td>\n",
       "      <td>-1.788139</td>\n",
       "      <td>-0.655651</td>\n",
       "      <td>-0.655651</td>\n",
       "      <td>0.119209</td>\n",
       "      <td>-0.059605</td>\n",
       "    </tr>\n",
       "    <tr>\n",
       "      <th>14</th>\n",
       "      <td>0.720079</td>\n",
       "      <td>0.684165</td>\n",
       "      <td>0.684161</td>\n",
       "      <td>0.684165</td>\n",
       "      <td>0.684164</td>\n",
       "      <td>0.684165</td>\n",
       "      <td>0.684164</td>\n",
       "      <td>-3.516674</td>\n",
       "      <td>-0.059605</td>\n",
       "      <td>-0.655651</td>\n",
       "      <td>0.178814</td>\n",
       "      <td>-0.238419</td>\n",
       "    </tr>\n",
       "    <tr>\n",
       "      <th>15</th>\n",
       "      <td>0.820220</td>\n",
       "      <td>0.756975</td>\n",
       "      <td>0.756974</td>\n",
       "      <td>0.756975</td>\n",
       "      <td>0.756975</td>\n",
       "      <td>0.756975</td>\n",
       "      <td>0.756975</td>\n",
       "      <td>-1.072884</td>\n",
       "      <td>0.000000</td>\n",
       "      <td>-0.119209</td>\n",
       "      <td>0.119209</td>\n",
       "      <td>-0.119209</td>\n",
       "    </tr>\n",
       "    <tr>\n",
       "      <th>16</th>\n",
       "      <td>0.472625</td>\n",
       "      <td>0.544846</td>\n",
       "      <td>0.544847</td>\n",
       "      <td>0.544846</td>\n",
       "      <td>0.544846</td>\n",
       "      <td>0.544846</td>\n",
       "      <td>0.544846</td>\n",
       "      <td>1.251698</td>\n",
       "      <td>-0.178814</td>\n",
       "      <td>0.178814</td>\n",
       "      <td>0.000000</td>\n",
       "      <td>0.059605</td>\n",
       "    </tr>\n",
       "    <tr>\n",
       "      <th>17</th>\n",
       "      <td>0.420879</td>\n",
       "      <td>0.361900</td>\n",
       "      <td>0.361899</td>\n",
       "      <td>0.361900</td>\n",
       "      <td>0.361900</td>\n",
       "      <td>0.361900</td>\n",
       "      <td>0.361900</td>\n",
       "      <td>-0.864267</td>\n",
       "      <td>-0.387430</td>\n",
       "      <td>-0.268221</td>\n",
       "      <td>0.059605</td>\n",
       "      <td>-0.149012</td>\n",
       "    </tr>\n",
       "    <tr>\n",
       "      <th>18</th>\n",
       "      <td>0.447975</td>\n",
       "      <td>0.469053</td>\n",
       "      <td>0.469052</td>\n",
       "      <td>0.469052</td>\n",
       "      <td>0.469053</td>\n",
       "      <td>0.469053</td>\n",
       "      <td>0.469052</td>\n",
       "      <td>-0.834465</td>\n",
       "      <td>-0.298023</td>\n",
       "      <td>-0.119209</td>\n",
       "      <td>0.089407</td>\n",
       "      <td>-0.625849</td>\n",
       "    </tr>\n",
       "    <tr>\n",
       "      <th>19</th>\n",
       "      <td>0.331773</td>\n",
       "      <td>0.447948</td>\n",
       "      <td>0.447952</td>\n",
       "      <td>0.447948</td>\n",
       "      <td>0.447949</td>\n",
       "      <td>0.447948</td>\n",
       "      <td>0.447948</td>\n",
       "      <td>4.559755</td>\n",
       "      <td>0.238419</td>\n",
       "      <td>0.864267</td>\n",
       "      <td>-0.089407</td>\n",
       "      <td>0.149012</td>\n",
       "    </tr>\n",
       "    <tr>\n",
       "      <th>20</th>\n",
       "      <td>0.385434</td>\n",
       "      <td>0.374660</td>\n",
       "      <td>0.374657</td>\n",
       "      <td>0.374660</td>\n",
       "      <td>0.374660</td>\n",
       "      <td>0.374660</td>\n",
       "      <td>0.374660</td>\n",
       "      <td>-2.771616</td>\n",
       "      <td>0.178814</td>\n",
       "      <td>-0.417233</td>\n",
       "      <td>0.208616</td>\n",
       "      <td>-0.417233</td>\n",
       "    </tr>\n",
       "    <tr>\n",
       "      <th>21</th>\n",
       "      <td>0.414391</td>\n",
       "      <td>0.405992</td>\n",
       "      <td>0.405990</td>\n",
       "      <td>0.405992</td>\n",
       "      <td>0.405992</td>\n",
       "      <td>0.405992</td>\n",
       "      <td>0.405992</td>\n",
       "      <td>-2.473593</td>\n",
       "      <td>0.059605</td>\n",
       "      <td>-0.059605</td>\n",
       "      <td>0.119209</td>\n",
       "      <td>-0.417233</td>\n",
       "    </tr>\n",
       "    <tr>\n",
       "      <th>22</th>\n",
       "      <td>0.450714</td>\n",
       "      <td>0.443780</td>\n",
       "      <td>0.443779</td>\n",
       "      <td>0.443780</td>\n",
       "      <td>0.443780</td>\n",
       "      <td>0.443780</td>\n",
       "      <td>0.443779</td>\n",
       "      <td>-0.953674</td>\n",
       "      <td>-0.506639</td>\n",
       "      <td>-0.119209</td>\n",
       "      <td>0.119209</td>\n",
       "      <td>-0.834465</td>\n",
       "    </tr>\n",
       "    <tr>\n",
       "      <th>23</th>\n",
       "      <td>0.363603</td>\n",
       "      <td>0.395483</td>\n",
       "      <td>0.395481</td>\n",
       "      <td>0.395483</td>\n",
       "      <td>0.395483</td>\n",
       "      <td>0.395483</td>\n",
       "      <td>0.395483</td>\n",
       "      <td>-1.907349</td>\n",
       "      <td>0.059605</td>\n",
       "      <td>-0.536442</td>\n",
       "      <td>0.238419</td>\n",
       "      <td>-0.357628</td>\n",
       "    </tr>\n",
       "    <tr>\n",
       "      <th>24</th>\n",
       "      <td>0.339591</td>\n",
       "      <td>0.430997</td>\n",
       "      <td>0.430996</td>\n",
       "      <td>0.430997</td>\n",
       "      <td>0.430997</td>\n",
       "      <td>0.430997</td>\n",
       "      <td>0.430996</td>\n",
       "      <td>-1.072884</td>\n",
       "      <td>-0.476837</td>\n",
       "      <td>-0.178814</td>\n",
       "      <td>0.089407</td>\n",
       "      <td>-0.774860</td>\n",
       "    </tr>\n",
       "    <tr>\n",
       "      <th>25</th>\n",
       "      <td>0.755923</td>\n",
       "      <td>0.629415</td>\n",
       "      <td>0.629414</td>\n",
       "      <td>0.629415</td>\n",
       "      <td>0.629415</td>\n",
       "      <td>0.629416</td>\n",
       "      <td>0.629415</td>\n",
       "      <td>-0.953674</td>\n",
       "      <td>0.000000</td>\n",
       "      <td>-0.476837</td>\n",
       "      <td>0.178814</td>\n",
       "      <td>-0.596046</td>\n",
       "    </tr>\n",
       "    <tr>\n",
       "      <th>26</th>\n",
       "      <td>0.766400</td>\n",
       "      <td>0.664267</td>\n",
       "      <td>0.664268</td>\n",
       "      <td>0.664267</td>\n",
       "      <td>0.664267</td>\n",
       "      <td>0.664267</td>\n",
       "      <td>0.664267</td>\n",
       "      <td>1.311302</td>\n",
       "      <td>0.357628</td>\n",
       "      <td>0.596046</td>\n",
       "      <td>0.000000</td>\n",
       "      <td>-0.059605</td>\n",
       "    </tr>\n",
       "    <tr>\n",
       "      <th>27</th>\n",
       "      <td>0.409153</td>\n",
       "      <td>0.386565</td>\n",
       "      <td>0.386562</td>\n",
       "      <td>0.386565</td>\n",
       "      <td>0.386565</td>\n",
       "      <td>0.386565</td>\n",
       "      <td>0.386565</td>\n",
       "      <td>-3.337860</td>\n",
       "      <td>0.238419</td>\n",
       "      <td>-0.417233</td>\n",
       "      <td>0.178814</td>\n",
       "      <td>-0.417233</td>\n",
       "    </tr>\n",
       "    <tr>\n",
       "      <th>28</th>\n",
       "      <td>0.643072</td>\n",
       "      <td>0.608097</td>\n",
       "      <td>0.608102</td>\n",
       "      <td>0.608097</td>\n",
       "      <td>0.608097</td>\n",
       "      <td>0.608097</td>\n",
       "      <td>0.608098</td>\n",
       "      <td>5.006790</td>\n",
       "      <td>0.238419</td>\n",
       "      <td>0.059605</td>\n",
       "      <td>0.059605</td>\n",
       "      <td>0.834465</td>\n",
       "    </tr>\n",
       "    <tr>\n",
       "      <th>29</th>\n",
       "      <td>0.604063</td>\n",
       "      <td>0.603643</td>\n",
       "      <td>0.603643</td>\n",
       "      <td>0.603643</td>\n",
       "      <td>0.603643</td>\n",
       "      <td>0.603643</td>\n",
       "      <td>0.603643</td>\n",
       "      <td>-0.417233</td>\n",
       "      <td>0.059605</td>\n",
       "      <td>-0.238419</td>\n",
       "      <td>0.000000</td>\n",
       "      <td>-0.119209</td>\n",
       "    </tr>\n",
       "    <tr>\n",
       "      <th>30</th>\n",
       "      <td>0.447496</td>\n",
       "      <td>0.456243</td>\n",
       "      <td>0.456242</td>\n",
       "      <td>0.456243</td>\n",
       "      <td>0.456243</td>\n",
       "      <td>0.456243</td>\n",
       "      <td>0.456242</td>\n",
       "      <td>-1.102686</td>\n",
       "      <td>-0.506639</td>\n",
       "      <td>-0.089407</td>\n",
       "      <td>0.119209</td>\n",
       "      <td>-0.983477</td>\n",
       "    </tr>\n",
       "  </tbody>\n",
       "</table>\n",
       "</div>"
      ],
      "text/plain": [
       "           5   Predict  Predict Deltax1  Predict Deltax2  Predict Deltax3  \\\n",
       "0   0.596591  0.551536         0.551540         0.551536         0.551537   \n",
       "1   0.648363  0.666237         0.666236         0.666237         0.666236   \n",
       "2   0.671870  0.678567         0.678567         0.678567         0.678567   \n",
       "3   0.383147  0.412262         0.412261         0.412262         0.412262   \n",
       "4   0.590555  0.619033         0.619031         0.619033         0.619033   \n",
       "5   0.638046  0.680991         0.680987         0.680991         0.680991   \n",
       "6   0.420906  0.401395         0.401394         0.401394         0.401395   \n",
       "7   0.579068  0.583010         0.583015         0.583010         0.583010   \n",
       "8   0.609434  0.653180         0.653176         0.653179         0.653179   \n",
       "9   0.590342  0.674641         0.674639         0.674641         0.674641   \n",
       "10  0.659984  0.589422         0.589420         0.589422         0.589422   \n",
       "11  0.545484  0.553845         0.553847         0.553845         0.553845   \n",
       "12  0.625043  0.550452         0.550455         0.550452         0.550453   \n",
       "13  0.820486  0.740590         0.740588         0.740589         0.740589   \n",
       "14  0.720079  0.684165         0.684161         0.684165         0.684164   \n",
       "15  0.820220  0.756975         0.756974         0.756975         0.756975   \n",
       "16  0.472625  0.544846         0.544847         0.544846         0.544846   \n",
       "17  0.420879  0.361900         0.361899         0.361900         0.361900   \n",
       "18  0.447975  0.469053         0.469052         0.469052         0.469053   \n",
       "19  0.331773  0.447948         0.447952         0.447948         0.447949   \n",
       "20  0.385434  0.374660         0.374657         0.374660         0.374660   \n",
       "21  0.414391  0.405992         0.405990         0.405992         0.405992   \n",
       "22  0.450714  0.443780         0.443779         0.443780         0.443780   \n",
       "23  0.363603  0.395483         0.395481         0.395483         0.395483   \n",
       "24  0.339591  0.430997         0.430996         0.430997         0.430997   \n",
       "25  0.755923  0.629415         0.629414         0.629415         0.629415   \n",
       "26  0.766400  0.664267         0.664268         0.664267         0.664267   \n",
       "27  0.409153  0.386565         0.386562         0.386565         0.386565   \n",
       "28  0.643072  0.608097         0.608102         0.608097         0.608097   \n",
       "29  0.604063  0.603643         0.603643         0.603643         0.603643   \n",
       "30  0.447496  0.456243         0.456242         0.456243         0.456243   \n",
       "\n",
       "    Predict Deltax4  Predict Deltax5        c1        c2        c3        c4  \\\n",
       "0          0.551536         0.551536  3.457069 -0.298023  0.894070 -0.059605   \n",
       "1          0.666237         0.666236 -0.655651  0.000000 -0.357628  0.000000   \n",
       "2          0.678567         0.678567  0.298023  0.357628 -0.178814  0.000000   \n",
       "3          0.412262         0.412261 -0.625849 -0.268221 -0.059605  0.089407   \n",
       "4          0.619033         0.619032 -1.728535 -0.417233 -0.357628  0.178814   \n",
       "5          0.680991         0.680990 -3.635883 -0.417233 -0.298023  0.178814   \n",
       "6          0.401395         0.401394 -0.804663 -0.476837 -0.178814  0.089407   \n",
       "7          0.583010         0.583011  4.827976  0.119209  0.059605  0.000000   \n",
       "8          0.653180         0.653179 -3.695488 -0.417233 -0.298023  0.119209   \n",
       "9          0.674641         0.674641 -2.264977  0.178814 -0.417233  0.059605   \n",
       "10         0.589422         0.589422 -2.264977 -0.059605 -0.059605  0.059605   \n",
       "11         0.553845         0.553845  2.205372 -0.119209  0.178814  0.000000   \n",
       "12         0.550453         0.550453  2.264977 -0.059605  0.238419  0.059605   \n",
       "13         0.740590         0.740590 -1.788139 -0.655651 -0.655651  0.119209   \n",
       "14         0.684165         0.684164 -3.516674 -0.059605 -0.655651  0.178814   \n",
       "15         0.756975         0.756975 -1.072884  0.000000 -0.119209  0.119209   \n",
       "16         0.544846         0.544846  1.251698 -0.178814  0.178814  0.000000   \n",
       "17         0.361900         0.361900 -0.864267 -0.387430 -0.268221  0.059605   \n",
       "18         0.469053         0.469052 -0.834465 -0.298023 -0.119209  0.089407   \n",
       "19         0.447948         0.447948  4.559755  0.238419  0.864267 -0.089407   \n",
       "20         0.374660         0.374660 -2.771616  0.178814 -0.417233  0.208616   \n",
       "21         0.405992         0.405992 -2.473593  0.059605 -0.059605  0.119209   \n",
       "22         0.443780         0.443779 -0.953674 -0.506639 -0.119209  0.119209   \n",
       "23         0.395483         0.395483 -1.907349  0.059605 -0.536442  0.238419   \n",
       "24         0.430997         0.430996 -1.072884 -0.476837 -0.178814  0.089407   \n",
       "25         0.629416         0.629415 -0.953674  0.000000 -0.476837  0.178814   \n",
       "26         0.664267         0.664267  1.311302  0.357628  0.596046  0.000000   \n",
       "27         0.386565         0.386565 -3.337860  0.238419 -0.417233  0.178814   \n",
       "28         0.608097         0.608098  5.006790  0.238419  0.059605  0.059605   \n",
       "29         0.603643         0.603643 -0.417233  0.059605 -0.238419  0.000000   \n",
       "30         0.456243         0.456242 -1.102686 -0.506639 -0.089407  0.119209   \n",
       "\n",
       "          c5  \n",
       "0  -0.059605  \n",
       "1  -0.596046  \n",
       "2   0.238419  \n",
       "3  -0.596046  \n",
       "4  -0.894070  \n",
       "5  -1.251698  \n",
       "6  -0.894070  \n",
       "7   0.774860  \n",
       "8  -0.298023  \n",
       "9  -0.178814  \n",
       "10 -0.417233  \n",
       "11  0.298023  \n",
       "12  0.357628  \n",
       "13 -0.059605  \n",
       "14 -0.238419  \n",
       "15 -0.119209  \n",
       "16  0.059605  \n",
       "17 -0.149012  \n",
       "18 -0.625849  \n",
       "19  0.149012  \n",
       "20 -0.417233  \n",
       "21 -0.417233  \n",
       "22 -0.834465  \n",
       "23 -0.357628  \n",
       "24 -0.774860  \n",
       "25 -0.596046  \n",
       "26 -0.059605  \n",
       "27 -0.417233  \n",
       "28  0.834465  \n",
       "29 -0.119209  \n",
       "30 -0.983477  "
      ]
     },
     "execution_count": 86,
     "metadata": {},
     "output_type": "execute_result"
    }
   ],
   "source": [
    "df.total"
   ]
  },
  {
   "cell_type": "code",
   "execution_count": 87,
   "metadata": {},
   "outputs": [],
   "source": [
    "#cálculo da incerteza combinada : \n",
    "#x1: medidor de frequencia sonora.0,034% do valor médio da escala\n",
    "#x2: medidor de angulo :0,4% do valor médio da escala\n",
    "#x3: medidor de comprimento 0,14% do valor médio da escala\n",
    "#x4: medidor de velocidade do vento Pesquisando a incerteza em tuneis de vento chega a 1,9% do valor médio da escala\n",
    "#x5: medidor de sucção 10% do valor médio da escala\n",
    "#y: pressão somora: 0,8% do valor médio da escala\n",
    " "
   ]
  },
  {
   "cell_type": "code",
   "execution_count": 88,
   "metadata": {},
   "outputs": [],
   "source": [
    "upx1=0.0003468*0.5/2\n",
    "upx2=0.00488*0.5/2\n",
    "upx3=0.001470*0.5/2\n",
    "upx4=0.01966*0.5/2\n",
    "upx5=0.1*0.5/2\n",
    "upy=0.008*0.5/2"
   ]
  },
  {
   "cell_type": "markdown",
   "metadata": {},
   "source": [
    "# Determination of the correlation between input variables"
   ]
  },
  {
   "cell_type": "code",
   "execution_count": 89,
   "metadata": {},
   "outputs": [],
   "source": [
    "df_n.rename(columns={\n",
    "    0: 'Frequency',1:'Angle',2:'Length',3:'Velocity',4:'Suction Side',5:'Pressure'\n",
    "   \n",
    "},inplace=True)"
   ]
  },
  {
   "cell_type": "code",
   "execution_count": 90,
   "metadata": {},
   "outputs": [],
   "source": [
    "correlation= df_n.corr()"
   ]
  },
  {
   "cell_type": "code",
   "execution_count": 91,
   "metadata": {},
   "outputs": [
    {
     "data": {
      "text/html": [
       "<div>\n",
       "<style scoped>\n",
       "    .dataframe tbody tr th:only-of-type {\n",
       "        vertical-align: middle;\n",
       "    }\n",
       "\n",
       "    .dataframe tbody tr th {\n",
       "        vertical-align: top;\n",
       "    }\n",
       "\n",
       "    .dataframe thead th {\n",
       "        text-align: right;\n",
       "    }\n",
       "</style>\n",
       "<table border=\"1\" class=\"dataframe\">\n",
       "  <thead>\n",
       "    <tr style=\"text-align: right;\">\n",
       "      <th></th>\n",
       "      <th>Frequency</th>\n",
       "      <th>Angle</th>\n",
       "      <th>Length</th>\n",
       "      <th>Velocity</th>\n",
       "      <th>Suction Side</th>\n",
       "      <th>Pressure</th>\n",
       "    </tr>\n",
       "  </thead>\n",
       "  <tbody>\n",
       "    <tr>\n",
       "      <th>Frequency</th>\n",
       "      <td>1.000000</td>\n",
       "      <td>-0.272765</td>\n",
       "      <td>-0.003661</td>\n",
       "      <td>0.133664</td>\n",
       "      <td>-0.230107</td>\n",
       "      <td>-0.390711</td>\n",
       "    </tr>\n",
       "    <tr>\n",
       "      <th>Angle</th>\n",
       "      <td>-0.272765</td>\n",
       "      <td>1.000000</td>\n",
       "      <td>-0.504868</td>\n",
       "      <td>0.058760</td>\n",
       "      <td>0.753394</td>\n",
       "      <td>-0.156108</td>\n",
       "    </tr>\n",
       "    <tr>\n",
       "      <th>Length</th>\n",
       "      <td>-0.003661</td>\n",
       "      <td>-0.504868</td>\n",
       "      <td>1.000000</td>\n",
       "      <td>0.003787</td>\n",
       "      <td>-0.220842</td>\n",
       "      <td>-0.236162</td>\n",
       "    </tr>\n",
       "    <tr>\n",
       "      <th>Velocity</th>\n",
       "      <td>0.133664</td>\n",
       "      <td>0.058760</td>\n",
       "      <td>0.003787</td>\n",
       "      <td>1.000000</td>\n",
       "      <td>-0.003974</td>\n",
       "      <td>0.125103</td>\n",
       "    </tr>\n",
       "    <tr>\n",
       "      <th>Suction Side</th>\n",
       "      <td>-0.230107</td>\n",
       "      <td>0.753394</td>\n",
       "      <td>-0.220842</td>\n",
       "      <td>-0.003974</td>\n",
       "      <td>1.000000</td>\n",
       "      <td>-0.312670</td>\n",
       "    </tr>\n",
       "    <tr>\n",
       "      <th>Pressure</th>\n",
       "      <td>-0.390711</td>\n",
       "      <td>-0.156108</td>\n",
       "      <td>-0.236162</td>\n",
       "      <td>0.125103</td>\n",
       "      <td>-0.312670</td>\n",
       "      <td>1.000000</td>\n",
       "    </tr>\n",
       "  </tbody>\n",
       "</table>\n",
       "</div>"
      ],
      "text/plain": [
       "              Frequency     Angle    Length  Velocity  Suction Side  Pressure\n",
       "Frequency      1.000000 -0.272765 -0.003661  0.133664     -0.230107 -0.390711\n",
       "Angle         -0.272765  1.000000 -0.504868  0.058760      0.753394 -0.156108\n",
       "Length        -0.003661 -0.504868  1.000000  0.003787     -0.220842 -0.236162\n",
       "Velocity       0.133664  0.058760  0.003787  1.000000     -0.003974  0.125103\n",
       "Suction Side  -0.230107  0.753394 -0.220842 -0.003974      1.000000 -0.312670\n",
       "Pressure      -0.390711 -0.156108 -0.236162  0.125103     -0.312670  1.000000"
      ]
     },
     "execution_count": 91,
     "metadata": {},
     "output_type": "execute_result"
    }
   ],
   "source": [
    "correlation"
   ]
  },
  {
   "cell_type": "code",
   "execution_count": 92,
   "metadata": {},
   "outputs": [],
   "source": [
    "r_12=correlation['Frequency']['Angle']"
   ]
  },
  {
   "cell_type": "code",
   "execution_count": 93,
   "metadata": {},
   "outputs": [],
   "source": [
    "r_13=correlation['Frequency']['Length']"
   ]
  },
  {
   "cell_type": "code",
   "execution_count": 94,
   "metadata": {},
   "outputs": [],
   "source": [
    "r_14=correlation['Frequency']['Velocity']"
   ]
  },
  {
   "cell_type": "code",
   "execution_count": 95,
   "metadata": {},
   "outputs": [],
   "source": [
    "r_15=correlation['Frequency']['Suction Side']"
   ]
  },
  {
   "cell_type": "code",
   "execution_count": 96,
   "metadata": {},
   "outputs": [],
   "source": [
    "r_21=correlation['Frequency']['Angle']"
   ]
  },
  {
   "cell_type": "code",
   "execution_count": 97,
   "metadata": {},
   "outputs": [],
   "source": [
    "r_23=correlation['Angle']['Length']"
   ]
  },
  {
   "cell_type": "code",
   "execution_count": 98,
   "metadata": {},
   "outputs": [],
   "source": [
    "r_24=correlation['Angle']['Velocity']"
   ]
  },
  {
   "cell_type": "code",
   "execution_count": 99,
   "metadata": {},
   "outputs": [],
   "source": [
    "r_25=correlation['Angle']['Suction Side']"
   ]
  },
  {
   "cell_type": "code",
   "execution_count": 100,
   "metadata": {},
   "outputs": [],
   "source": [
    "r_31=correlation['Frequency']['Length']"
   ]
  },
  {
   "cell_type": "code",
   "execution_count": 101,
   "metadata": {},
   "outputs": [],
   "source": [
    "r_32=correlation['Angle']['Length']"
   ]
  },
  {
   "cell_type": "code",
   "execution_count": 102,
   "metadata": {},
   "outputs": [],
   "source": [
    "r_34=correlation['Length']['Suction Side']"
   ]
  },
  {
   "cell_type": "code",
   "execution_count": 103,
   "metadata": {},
   "outputs": [],
   "source": [
    "r_35=correlation['Length']['Velocity']"
   ]
  },
  {
   "cell_type": "code",
   "execution_count": 104,
   "metadata": {},
   "outputs": [],
   "source": [
    "r_41=correlation['Frequency']['Velocity']"
   ]
  },
  {
   "cell_type": "code",
   "execution_count": 105,
   "metadata": {},
   "outputs": [],
   "source": [
    "r_42=correlation['Angle']['Velocity']"
   ]
  },
  {
   "cell_type": "code",
   "execution_count": 106,
   "metadata": {},
   "outputs": [],
   "source": [
    "r_43=correlation['Length']['Suction Side']"
   ]
  },
  {
   "cell_type": "code",
   "execution_count": 107,
   "metadata": {},
   "outputs": [],
   "source": [
    "r_45=correlation['Velocity']['Suction Side']"
   ]
  },
  {
   "cell_type": "code",
   "execution_count": 108,
   "metadata": {},
   "outputs": [],
   "source": [
    "r_51=correlation['Frequency']['Suction Side']"
   ]
  },
  {
   "cell_type": "code",
   "execution_count": 109,
   "metadata": {},
   "outputs": [],
   "source": [
    "r_52=correlation['Angle']['Suction Side']"
   ]
  },
  {
   "cell_type": "code",
   "execution_count": 110,
   "metadata": {},
   "outputs": [],
   "source": [
    "r_53=correlation['Length']['Velocity']"
   ]
  },
  {
   "cell_type": "code",
   "execution_count": 111,
   "metadata": {},
   "outputs": [],
   "source": [
    "r_54=correlation['Velocity']['Suction Side']"
   ]
  },
  {
   "cell_type": "code",
   "execution_count": 112,
   "metadata": {},
   "outputs": [
    {
     "data": {
      "text/plain": [
       "<AxesSubplot:>"
      ]
     },
     "execution_count": 112,
     "metadata": {},
     "output_type": "execute_result"
    },
    {
     "data": {
      "image/png": "[encoded data removed]",
      "text/plain": [
       "<Figure size 640x480 with 2 Axes>"
      ]
     },
     "metadata": {},
     "output_type": "display_data"
    }
   ],
   "source": [
    "plot = sns.heatmap(correlation, annot = True, fmt=\".1f\", linewidths=.6)\n",
    "\n",
    "plot"
   ]
  },
  {
   "cell_type": "markdown",
   "metadata": {},
   "source": [
    "# Uncertainty with correlation"
   ]
  },
  {
   "cell_type": "code",
   "execution_count": 113,
   "metadata": {},
   "outputs": [],
   "source": [
    "#incerteza combinada aleatória \n",
    "ucca=((df.total['c1']*upx1)**2+\n",
    "      (df.total['c2']*upx2)**2+\n",
    "      (df.total['c3']*upx3)**2+\n",
    "      (df.total['c4']*upx4)**2+\n",
    "      (df.total['c5']*upx5)**2+\n",
    "      2*df.total['c1']*df.total['c2']*upx1*upx2*r_12+\n",
    "      2*df.total['c1']*df.total['c3']*upx1*upx3*r_13+\n",
    "      2*df.total['c1']*df.total['c4']*upx1*upx4*r_14+\n",
    "      2*df.total['c1']*df.total['c5']*upx1*upx5*r_15+\n",
    "      2*df.total['c2']*df.total['c3']*upx2*upx3*r_23+\n",
    "      2*df.total['c2']*df.total['c4']*upx2*upx4*r_24+\n",
    "      2*df.total['c2']*df.total['c5']*upx2*upx5*r_25+\n",
    "      2*df.total['c3']*df.total['c4']*upx3*upx4*r_34+\n",
    "      2*df.total['c3']*df.total['c5']*upx3*upx5*r_35+\n",
    "      2*df.total['c4']*df.total['c5']*upx4*upx5*r_45\n",
    "                  +upy**2)**0.5"
   ]
  },
  {
   "cell_type": "code",
   "execution_count": 114,
   "metadata": {},
   "outputs": [],
   "source": [
    "#incerteza epistêmica \n",
    "ucce=((ea)**2)**0.5"
   ]
  },
  {
   "cell_type": "code",
   "execution_count": 115,
   "metadata": {},
   "outputs": [],
   "source": [
    "#incerteza combinada preditiva \n",
    "ucc=(ucca**2+ucce**2)**0.5"
   ]
  },
  {
   "cell_type": "code",
   "execution_count": 116,
   "metadata": {},
   "outputs": [],
   "source": [
    "#Incerteza Expandida 95,45%\n",
    "U= 2*ucc+abs(es)"
   ]
  },
  {
   "cell_type": "code",
   "execution_count": 117,
   "metadata": {},
   "outputs": [],
   "source": [
    "df.total['ucca']=ucca\n",
    "df.total['ucce']=ucce\n",
    "df.total['ucc']=ucc\n",
    "df.total['U']=U"
   ]
  },
  {
   "cell_type": "code",
   "execution_count": 118,
   "metadata": {},
   "outputs": [
    {
     "data": {
      "text/html": [
       "<div>\n",
       "<style scoped>\n",
       "    .dataframe tbody tr th:only-of-type {\n",
       "        vertical-align: middle;\n",
       "    }\n",
       "\n",
       "    .dataframe tbody tr th {\n",
       "        vertical-align: top;\n",
       "    }\n",
       "\n",
       "    .dataframe thead th {\n",
       "        text-align: right;\n",
       "    }\n",
       "</style>\n",
       "<table border=\"1\" class=\"dataframe\">\n",
       "  <thead>\n",
       "    <tr style=\"text-align: right;\">\n",
       "      <th></th>\n",
       "      <th>5</th>\n",
       "      <th>Predict</th>\n",
       "      <th>Predict Deltax1</th>\n",
       "      <th>Predict Deltax2</th>\n",
       "      <th>Predict Deltax3</th>\n",
       "      <th>Predict Deltax4</th>\n",
       "      <th>Predict Deltax5</th>\n",
       "      <th>c1</th>\n",
       "      <th>c2</th>\n",
       "      <th>c3</th>\n",
       "      <th>c4</th>\n",
       "      <th>c5</th>\n",
       "      <th>ucca</th>\n",
       "      <th>ucce</th>\n",
       "      <th>ucc</th>\n",
       "      <th>U</th>\n",
       "    </tr>\n",
       "  </thead>\n",
       "  <tbody>\n",
       "    <tr>\n",
       "      <th>0</th>\n",
       "      <td>0.596591</td>\n",
       "      <td>0.551536</td>\n",
       "      <td>0.551540</td>\n",
       "      <td>0.551536</td>\n",
       "      <td>0.551537</td>\n",
       "      <td>0.551536</td>\n",
       "      <td>0.551536</td>\n",
       "      <td>3.457069</td>\n",
       "      <td>-0.298023</td>\n",
       "      <td>0.894070</td>\n",
       "      <td>-0.059605</td>\n",
       "      <td>-0.059605</td>\n",
       "      <td>0.002804</td>\n",
       "      <td>0.068023</td>\n",
       "      <td>0.068081</td>\n",
       "      <td>0.142572</td>\n",
       "    </tr>\n",
       "    <tr>\n",
       "      <th>1</th>\n",
       "      <td>0.648363</td>\n",
       "      <td>0.666237</td>\n",
       "      <td>0.666236</td>\n",
       "      <td>0.666237</td>\n",
       "      <td>0.666236</td>\n",
       "      <td>0.666237</td>\n",
       "      <td>0.666236</td>\n",
       "      <td>-0.655651</td>\n",
       "      <td>0.000000</td>\n",
       "      <td>-0.357628</td>\n",
       "      <td>0.000000</td>\n",
       "      <td>-0.596046</td>\n",
       "      <td>0.015023</td>\n",
       "      <td>0.068023</td>\n",
       "      <td>0.069662</td>\n",
       "      <td>0.145735</td>\n",
       "    </tr>\n",
       "    <tr>\n",
       "      <th>2</th>\n",
       "      <td>0.671870</td>\n",
       "      <td>0.678567</td>\n",
       "      <td>0.678567</td>\n",
       "      <td>0.678567</td>\n",
       "      <td>0.678567</td>\n",
       "      <td>0.678567</td>\n",
       "      <td>0.678567</td>\n",
       "      <td>0.298023</td>\n",
       "      <td>0.357628</td>\n",
       "      <td>-0.178814</td>\n",
       "      <td>0.000000</td>\n",
       "      <td>0.238419</td>\n",
       "      <td>0.006602</td>\n",
       "      <td>0.068023</td>\n",
       "      <td>0.068343</td>\n",
       "      <td>0.143096</td>\n",
       "    </tr>\n",
       "    <tr>\n",
       "      <th>3</th>\n",
       "      <td>0.383147</td>\n",
       "      <td>0.412262</td>\n",
       "      <td>0.412261</td>\n",
       "      <td>0.412262</td>\n",
       "      <td>0.412262</td>\n",
       "      <td>0.412262</td>\n",
       "      <td>0.412261</td>\n",
       "      <td>-0.625849</td>\n",
       "      <td>-0.268221</td>\n",
       "      <td>-0.059605</td>\n",
       "      <td>0.089407</td>\n",
       "      <td>-0.596046</td>\n",
       "      <td>0.015276</td>\n",
       "      <td>0.068023</td>\n",
       "      <td>0.069717</td>\n",
       "      <td>0.145845</td>\n",
       "    </tr>\n",
       "    <tr>\n",
       "      <th>4</th>\n",
       "      <td>0.590555</td>\n",
       "      <td>0.619033</td>\n",
       "      <td>0.619031</td>\n",
       "      <td>0.619033</td>\n",
       "      <td>0.619033</td>\n",
       "      <td>0.619033</td>\n",
       "      <td>0.619032</td>\n",
       "      <td>-1.728535</td>\n",
       "      <td>-0.417233</td>\n",
       "      <td>-0.357628</td>\n",
       "      <td>0.178814</td>\n",
       "      <td>-0.894070</td>\n",
       "      <td>0.022810</td>\n",
       "      <td>0.068023</td>\n",
       "      <td>0.071746</td>\n",
       "      <td>0.149902</td>\n",
       "    </tr>\n",
       "    <tr>\n",
       "      <th>5</th>\n",
       "      <td>0.638046</td>\n",
       "      <td>0.680991</td>\n",
       "      <td>0.680987</td>\n",
       "      <td>0.680991</td>\n",
       "      <td>0.680991</td>\n",
       "      <td>0.680991</td>\n",
       "      <td>0.680990</td>\n",
       "      <td>-3.635883</td>\n",
       "      <td>-0.417233</td>\n",
       "      <td>-0.298023</td>\n",
       "      <td>0.178814</td>\n",
       "      <td>-1.251698</td>\n",
       "      <td>0.031683</td>\n",
       "      <td>0.068023</td>\n",
       "      <td>0.075040</td>\n",
       "      <td>0.156490</td>\n",
       "    </tr>\n",
       "    <tr>\n",
       "      <th>6</th>\n",
       "      <td>0.420906</td>\n",
       "      <td>0.401395</td>\n",
       "      <td>0.401394</td>\n",
       "      <td>0.401394</td>\n",
       "      <td>0.401395</td>\n",
       "      <td>0.401395</td>\n",
       "      <td>0.401394</td>\n",
       "      <td>-0.804663</td>\n",
       "      <td>-0.476837</td>\n",
       "      <td>-0.178814</td>\n",
       "      <td>0.089407</td>\n",
       "      <td>-0.894070</td>\n",
       "      <td>0.022870</td>\n",
       "      <td>0.068023</td>\n",
       "      <td>0.071765</td>\n",
       "      <td>0.149940</td>\n",
       "    </tr>\n",
       "    <tr>\n",
       "      <th>7</th>\n",
       "      <td>0.579068</td>\n",
       "      <td>0.583010</td>\n",
       "      <td>0.583015</td>\n",
       "      <td>0.583010</td>\n",
       "      <td>0.583010</td>\n",
       "      <td>0.583010</td>\n",
       "      <td>0.583011</td>\n",
       "      <td>4.827976</td>\n",
       "      <td>0.119209</td>\n",
       "      <td>0.059605</td>\n",
       "      <td>0.000000</td>\n",
       "      <td>0.774860</td>\n",
       "      <td>0.019492</td>\n",
       "      <td>0.068023</td>\n",
       "      <td>0.070761</td>\n",
       "      <td>0.147932</td>\n",
       "    </tr>\n",
       "    <tr>\n",
       "      <th>8</th>\n",
       "      <td>0.609434</td>\n",
       "      <td>0.653180</td>\n",
       "      <td>0.653176</td>\n",
       "      <td>0.653179</td>\n",
       "      <td>0.653179</td>\n",
       "      <td>0.653180</td>\n",
       "      <td>0.653179</td>\n",
       "      <td>-3.695488</td>\n",
       "      <td>-0.417233</td>\n",
       "      <td>-0.298023</td>\n",
       "      <td>0.119209</td>\n",
       "      <td>-0.298023</td>\n",
       "      <td>0.008043</td>\n",
       "      <td>0.068023</td>\n",
       "      <td>0.068497</td>\n",
       "      <td>0.143404</td>\n",
       "    </tr>\n",
       "    <tr>\n",
       "      <th>9</th>\n",
       "      <td>0.590342</td>\n",
       "      <td>0.674641</td>\n",
       "      <td>0.674639</td>\n",
       "      <td>0.674641</td>\n",
       "      <td>0.674641</td>\n",
       "      <td>0.674641</td>\n",
       "      <td>0.674641</td>\n",
       "      <td>-2.264977</td>\n",
       "      <td>0.178814</td>\n",
       "      <td>-0.417233</td>\n",
       "      <td>0.059605</td>\n",
       "      <td>-0.178814</td>\n",
       "      <td>0.004732</td>\n",
       "      <td>0.068023</td>\n",
       "      <td>0.068187</td>\n",
       "      <td>0.142786</td>\n",
       "    </tr>\n",
       "    <tr>\n",
       "      <th>10</th>\n",
       "      <td>0.659984</td>\n",
       "      <td>0.589422</td>\n",
       "      <td>0.589420</td>\n",
       "      <td>0.589422</td>\n",
       "      <td>0.589422</td>\n",
       "      <td>0.589422</td>\n",
       "      <td>0.589422</td>\n",
       "      <td>-2.264977</td>\n",
       "      <td>-0.059605</td>\n",
       "      <td>-0.059605</td>\n",
       "      <td>0.059605</td>\n",
       "      <td>-0.417233</td>\n",
       "      <td>0.010636</td>\n",
       "      <td>0.068023</td>\n",
       "      <td>0.068850</td>\n",
       "      <td>0.144110</td>\n",
       "    </tr>\n",
       "    <tr>\n",
       "      <th>11</th>\n",
       "      <td>0.545484</td>\n",
       "      <td>0.553845</td>\n",
       "      <td>0.553847</td>\n",
       "      <td>0.553845</td>\n",
       "      <td>0.553845</td>\n",
       "      <td>0.553845</td>\n",
       "      <td>0.553845</td>\n",
       "      <td>2.205372</td>\n",
       "      <td>-0.119209</td>\n",
       "      <td>0.178814</td>\n",
       "      <td>0.000000</td>\n",
       "      <td>0.298023</td>\n",
       "      <td>0.007571</td>\n",
       "      <td>0.068023</td>\n",
       "      <td>0.068443</td>\n",
       "      <td>0.143297</td>\n",
       "    </tr>\n",
       "    <tr>\n",
       "      <th>12</th>\n",
       "      <td>0.625043</td>\n",
       "      <td>0.550452</td>\n",
       "      <td>0.550455</td>\n",
       "      <td>0.550452</td>\n",
       "      <td>0.550453</td>\n",
       "      <td>0.550453</td>\n",
       "      <td>0.550453</td>\n",
       "      <td>2.264977</td>\n",
       "      <td>-0.059605</td>\n",
       "      <td>0.238419</td>\n",
       "      <td>0.059605</td>\n",
       "      <td>0.357628</td>\n",
       "      <td>0.009071</td>\n",
       "      <td>0.068023</td>\n",
       "      <td>0.068625</td>\n",
       "      <td>0.143661</td>\n",
       "    </tr>\n",
       "    <tr>\n",
       "      <th>13</th>\n",
       "      <td>0.820486</td>\n",
       "      <td>0.740590</td>\n",
       "      <td>0.740588</td>\n",
       "      <td>0.740589</td>\n",
       "      <td>0.740589</td>\n",
       "      <td>0.740590</td>\n",
       "      <td>0.740590</td>\n",
       "      <td>-1.788139</td>\n",
       "      <td>-0.655651</td>\n",
       "      <td>-0.655651</td>\n",
       "      <td>0.119209</td>\n",
       "      <td>-0.059605</td>\n",
       "      <td>0.002951</td>\n",
       "      <td>0.068023</td>\n",
       "      <td>0.068087</td>\n",
       "      <td>0.142585</td>\n",
       "    </tr>\n",
       "    <tr>\n",
       "      <th>14</th>\n",
       "      <td>0.720079</td>\n",
       "      <td>0.684165</td>\n",
       "      <td>0.684161</td>\n",
       "      <td>0.684165</td>\n",
       "      <td>0.684164</td>\n",
       "      <td>0.684165</td>\n",
       "      <td>0.684164</td>\n",
       "      <td>-3.516674</td>\n",
       "      <td>-0.059605</td>\n",
       "      <td>-0.655651</td>\n",
       "      <td>0.178814</td>\n",
       "      <td>-0.238419</td>\n",
       "      <td>0.006349</td>\n",
       "      <td>0.068023</td>\n",
       "      <td>0.068319</td>\n",
       "      <td>0.143048</td>\n",
       "    </tr>\n",
       "    <tr>\n",
       "      <th>15</th>\n",
       "      <td>0.820220</td>\n",
       "      <td>0.756975</td>\n",
       "      <td>0.756974</td>\n",
       "      <td>0.756975</td>\n",
       "      <td>0.756975</td>\n",
       "      <td>0.756975</td>\n",
       "      <td>0.756975</td>\n",
       "      <td>-1.072884</td>\n",
       "      <td>0.000000</td>\n",
       "      <td>-0.119209</td>\n",
       "      <td>0.119209</td>\n",
       "      <td>-0.119209</td>\n",
       "      <td>0.003622</td>\n",
       "      <td>0.068023</td>\n",
       "      <td>0.068119</td>\n",
       "      <td>0.142650</td>\n",
       "    </tr>\n",
       "    <tr>\n",
       "      <th>16</th>\n",
       "      <td>0.472625</td>\n",
       "      <td>0.544846</td>\n",
       "      <td>0.544847</td>\n",
       "      <td>0.544846</td>\n",
       "      <td>0.544846</td>\n",
       "      <td>0.544846</td>\n",
       "      <td>0.544846</td>\n",
       "      <td>1.251698</td>\n",
       "      <td>-0.178814</td>\n",
       "      <td>0.178814</td>\n",
       "      <td>0.000000</td>\n",
       "      <td>0.059605</td>\n",
       "      <td>0.002397</td>\n",
       "      <td>0.068023</td>\n",
       "      <td>0.068065</td>\n",
       "      <td>0.142541</td>\n",
       "    </tr>\n",
       "    <tr>\n",
       "      <th>17</th>\n",
       "      <td>0.420879</td>\n",
       "      <td>0.361900</td>\n",
       "      <td>0.361899</td>\n",
       "      <td>0.361900</td>\n",
       "      <td>0.361900</td>\n",
       "      <td>0.361900</td>\n",
       "      <td>0.361900</td>\n",
       "      <td>-0.864267</td>\n",
       "      <td>-0.387430</td>\n",
       "      <td>-0.268221</td>\n",
       "      <td>0.059605</td>\n",
       "      <td>-0.149012</td>\n",
       "      <td>0.004546</td>\n",
       "      <td>0.068023</td>\n",
       "      <td>0.068175</td>\n",
       "      <td>0.142760</td>\n",
       "    </tr>\n",
       "    <tr>\n",
       "      <th>18</th>\n",
       "      <td>0.447975</td>\n",
       "      <td>0.469053</td>\n",
       "      <td>0.469052</td>\n",
       "      <td>0.469052</td>\n",
       "      <td>0.469053</td>\n",
       "      <td>0.469053</td>\n",
       "      <td>0.469052</td>\n",
       "      <td>-0.834465</td>\n",
       "      <td>-0.298023</td>\n",
       "      <td>-0.119209</td>\n",
       "      <td>0.089407</td>\n",
       "      <td>-0.625849</td>\n",
       "      <td>0.016037</td>\n",
       "      <td>0.068023</td>\n",
       "      <td>0.069888</td>\n",
       "      <td>0.146187</td>\n",
       "    </tr>\n",
       "    <tr>\n",
       "      <th>19</th>\n",
       "      <td>0.331773</td>\n",
       "      <td>0.447948</td>\n",
       "      <td>0.447952</td>\n",
       "      <td>0.447948</td>\n",
       "      <td>0.447949</td>\n",
       "      <td>0.447948</td>\n",
       "      <td>0.447948</td>\n",
       "      <td>4.559755</td>\n",
       "      <td>0.238419</td>\n",
       "      <td>0.864267</td>\n",
       "      <td>-0.089407</td>\n",
       "      <td>0.149012</td>\n",
       "      <td>0.004386</td>\n",
       "      <td>0.068023</td>\n",
       "      <td>0.068164</td>\n",
       "      <td>0.142739</td>\n",
       "    </tr>\n",
       "    <tr>\n",
       "      <th>20</th>\n",
       "      <td>0.385434</td>\n",
       "      <td>0.374660</td>\n",
       "      <td>0.374657</td>\n",
       "      <td>0.374660</td>\n",
       "      <td>0.374660</td>\n",
       "      <td>0.374660</td>\n",
       "      <td>0.374660</td>\n",
       "      <td>-2.771616</td>\n",
       "      <td>0.178814</td>\n",
       "      <td>-0.417233</td>\n",
       "      <td>0.208616</td>\n",
       "      <td>-0.417233</td>\n",
       "      <td>0.010468</td>\n",
       "      <td>0.068023</td>\n",
       "      <td>0.068824</td>\n",
       "      <td>0.144058</td>\n",
       "    </tr>\n",
       "    <tr>\n",
       "      <th>21</th>\n",
       "      <td>0.414391</td>\n",
       "      <td>0.405992</td>\n",
       "      <td>0.405990</td>\n",
       "      <td>0.405992</td>\n",
       "      <td>0.405992</td>\n",
       "      <td>0.405992</td>\n",
       "      <td>0.405992</td>\n",
       "      <td>-2.473593</td>\n",
       "      <td>0.059605</td>\n",
       "      <td>-0.059605</td>\n",
       "      <td>0.119209</td>\n",
       "      <td>-0.417233</td>\n",
       "      <td>0.010539</td>\n",
       "      <td>0.068023</td>\n",
       "      <td>0.068834</td>\n",
       "      <td>0.144080</td>\n",
       "    </tr>\n",
       "    <tr>\n",
       "      <th>22</th>\n",
       "      <td>0.450714</td>\n",
       "      <td>0.443780</td>\n",
       "      <td>0.443779</td>\n",
       "      <td>0.443780</td>\n",
       "      <td>0.443780</td>\n",
       "      <td>0.443780</td>\n",
       "      <td>0.443779</td>\n",
       "      <td>-0.953674</td>\n",
       "      <td>-0.506639</td>\n",
       "      <td>-0.119209</td>\n",
       "      <td>0.119209</td>\n",
       "      <td>-0.834465</td>\n",
       "      <td>0.021415</td>\n",
       "      <td>0.068023</td>\n",
       "      <td>0.071314</td>\n",
       "      <td>0.149039</td>\n",
       "    </tr>\n",
       "    <tr>\n",
       "      <th>23</th>\n",
       "      <td>0.363603</td>\n",
       "      <td>0.395483</td>\n",
       "      <td>0.395481</td>\n",
       "      <td>0.395483</td>\n",
       "      <td>0.395483</td>\n",
       "      <td>0.395483</td>\n",
       "      <td>0.395483</td>\n",
       "      <td>-1.907349</td>\n",
       "      <td>0.059605</td>\n",
       "      <td>-0.536442</td>\n",
       "      <td>0.238419</td>\n",
       "      <td>-0.357628</td>\n",
       "      <td>0.009160</td>\n",
       "      <td>0.068023</td>\n",
       "      <td>0.068637</td>\n",
       "      <td>0.143685</td>\n",
       "    </tr>\n",
       "    <tr>\n",
       "      <th>24</th>\n",
       "      <td>0.339591</td>\n",
       "      <td>0.430997</td>\n",
       "      <td>0.430996</td>\n",
       "      <td>0.430997</td>\n",
       "      <td>0.430997</td>\n",
       "      <td>0.430997</td>\n",
       "      <td>0.430996</td>\n",
       "      <td>-1.072884</td>\n",
       "      <td>-0.476837</td>\n",
       "      <td>-0.178814</td>\n",
       "      <td>0.089407</td>\n",
       "      <td>-0.774860</td>\n",
       "      <td>0.019898</td>\n",
       "      <td>0.068023</td>\n",
       "      <td>0.070874</td>\n",
       "      <td>0.148158</td>\n",
       "    </tr>\n",
       "    <tr>\n",
       "      <th>25</th>\n",
       "      <td>0.755923</td>\n",
       "      <td>0.629415</td>\n",
       "      <td>0.629414</td>\n",
       "      <td>0.629415</td>\n",
       "      <td>0.629415</td>\n",
       "      <td>0.629416</td>\n",
       "      <td>0.629415</td>\n",
       "      <td>-0.953674</td>\n",
       "      <td>0.000000</td>\n",
       "      <td>-0.476837</td>\n",
       "      <td>0.178814</td>\n",
       "      <td>-0.596046</td>\n",
       "      <td>0.015049</td>\n",
       "      <td>0.068023</td>\n",
       "      <td>0.069668</td>\n",
       "      <td>0.145746</td>\n",
       "    </tr>\n",
       "    <tr>\n",
       "      <th>26</th>\n",
       "      <td>0.766400</td>\n",
       "      <td>0.664267</td>\n",
       "      <td>0.664268</td>\n",
       "      <td>0.664267</td>\n",
       "      <td>0.664267</td>\n",
       "      <td>0.664267</td>\n",
       "      <td>0.664267</td>\n",
       "      <td>1.311302</td>\n",
       "      <td>0.357628</td>\n",
       "      <td>0.596046</td>\n",
       "      <td>0.000000</td>\n",
       "      <td>-0.059605</td>\n",
       "      <td>0.002333</td>\n",
       "      <td>0.068023</td>\n",
       "      <td>0.068063</td>\n",
       "      <td>0.142537</td>\n",
       "    </tr>\n",
       "    <tr>\n",
       "      <th>27</th>\n",
       "      <td>0.409153</td>\n",
       "      <td>0.386565</td>\n",
       "      <td>0.386562</td>\n",
       "      <td>0.386565</td>\n",
       "      <td>0.386565</td>\n",
       "      <td>0.386565</td>\n",
       "      <td>0.386565</td>\n",
       "      <td>-3.337860</td>\n",
       "      <td>0.238419</td>\n",
       "      <td>-0.417233</td>\n",
       "      <td>0.178814</td>\n",
       "      <td>-0.417233</td>\n",
       "      <td>0.010392</td>\n",
       "      <td>0.068023</td>\n",
       "      <td>0.068812</td>\n",
       "      <td>0.144035</td>\n",
       "    </tr>\n",
       "    <tr>\n",
       "      <th>28</th>\n",
       "      <td>0.643072</td>\n",
       "      <td>0.608097</td>\n",
       "      <td>0.608102</td>\n",
       "      <td>0.608097</td>\n",
       "      <td>0.608097</td>\n",
       "      <td>0.608097</td>\n",
       "      <td>0.608098</td>\n",
       "      <td>5.006790</td>\n",
       "      <td>0.238419</td>\n",
       "      <td>0.059605</td>\n",
       "      <td>0.059605</td>\n",
       "      <td>0.834465</td>\n",
       "      <td>0.021082</td>\n",
       "      <td>0.068023</td>\n",
       "      <td>0.071215</td>\n",
       "      <td>0.148841</td>\n",
       "    </tr>\n",
       "    <tr>\n",
       "      <th>29</th>\n",
       "      <td>0.604063</td>\n",
       "      <td>0.603643</td>\n",
       "      <td>0.603643</td>\n",
       "      <td>0.603643</td>\n",
       "      <td>0.603643</td>\n",
       "      <td>0.603643</td>\n",
       "      <td>0.603643</td>\n",
       "      <td>-0.417233</td>\n",
       "      <td>0.059605</td>\n",
       "      <td>-0.238419</td>\n",
       "      <td>0.000000</td>\n",
       "      <td>-0.119209</td>\n",
       "      <td>0.003540</td>\n",
       "      <td>0.068023</td>\n",
       "      <td>0.068115</td>\n",
       "      <td>0.142641</td>\n",
       "    </tr>\n",
       "    <tr>\n",
       "      <th>30</th>\n",
       "      <td>0.447496</td>\n",
       "      <td>0.456243</td>\n",
       "      <td>0.456242</td>\n",
       "      <td>0.456243</td>\n",
       "      <td>0.456243</td>\n",
       "      <td>0.456243</td>\n",
       "      <td>0.456242</td>\n",
       "      <td>-1.102686</td>\n",
       "      <td>-0.506639</td>\n",
       "      <td>-0.089407</td>\n",
       "      <td>0.119209</td>\n",
       "      <td>-0.983477</td>\n",
       "      <td>0.025121</td>\n",
       "      <td>0.068023</td>\n",
       "      <td>0.072514</td>\n",
       "      <td>0.151438</td>\n",
       "    </tr>\n",
       "  </tbody>\n",
       "</table>\n",
       "</div>"
      ],
      "text/plain": [
       "           5   Predict  Predict Deltax1  Predict Deltax2  Predict Deltax3  \\\n",
       "0   0.596591  0.551536         0.551540         0.551536         0.551537   \n",
       "1   0.648363  0.666237         0.666236         0.666237         0.666236   \n",
       "2   0.671870  0.678567         0.678567         0.678567         0.678567   \n",
       "3   0.383147  0.412262         0.412261         0.412262         0.412262   \n",
       "4   0.590555  0.619033         0.619031         0.619033         0.619033   \n",
       "5   0.638046  0.680991         0.680987         0.680991         0.680991   \n",
       "6   0.420906  0.401395         0.401394         0.401394         0.401395   \n",
       "7   0.579068  0.583010         0.583015         0.583010         0.583010   \n",
       "8   0.609434  0.653180         0.653176         0.653179         0.653179   \n",
       "9   0.590342  0.674641         0.674639         0.674641         0.674641   \n",
       "10  0.659984  0.589422         0.589420         0.589422         0.589422   \n",
       "11  0.545484  0.553845         0.553847         0.553845         0.553845   \n",
       "12  0.625043  0.550452         0.550455         0.550452         0.550453   \n",
       "13  0.820486  0.740590         0.740588         0.740589         0.740589   \n",
       "14  0.720079  0.684165         0.684161         0.684165         0.684164   \n",
       "15  0.820220  0.756975         0.756974         0.756975         0.756975   \n",
       "16  0.472625  0.544846         0.544847         0.544846         0.544846   \n",
       "17  0.420879  0.361900         0.361899         0.361900         0.361900   \n",
       "18  0.447975  0.469053         0.469052         0.469052         0.469053   \n",
       "19  0.331773  0.447948         0.447952         0.447948         0.447949   \n",
       "20  0.385434  0.374660         0.374657         0.374660         0.374660   \n",
       "21  0.414391  0.405992         0.405990         0.405992         0.405992   \n",
       "22  0.450714  0.443780         0.443779         0.443780         0.443780   \n",
       "23  0.363603  0.395483         0.395481         0.395483         0.395483   \n",
       "24  0.339591  0.430997         0.430996         0.430997         0.430997   \n",
       "25  0.755923  0.629415         0.629414         0.629415         0.629415   \n",
       "26  0.766400  0.664267         0.664268         0.664267         0.664267   \n",
       "27  0.409153  0.386565         0.386562         0.386565         0.386565   \n",
       "28  0.643072  0.608097         0.608102         0.608097         0.608097   \n",
       "29  0.604063  0.603643         0.603643         0.603643         0.603643   \n",
       "30  0.447496  0.456243         0.456242         0.456243         0.456243   \n",
       "\n",
       "    Predict Deltax4  Predict Deltax5        c1        c2        c3        c4  \\\n",
       "0          0.551536         0.551536  3.457069 -0.298023  0.894070 -0.059605   \n",
       "1          0.666237         0.666236 -0.655651  0.000000 -0.357628  0.000000   \n",
       "2          0.678567         0.678567  0.298023  0.357628 -0.178814  0.000000   \n",
       "3          0.412262         0.412261 -0.625849 -0.268221 -0.059605  0.089407   \n",
       "4          0.619033         0.619032 -1.728535 -0.417233 -0.357628  0.178814   \n",
       "5          0.680991         0.680990 -3.635883 -0.417233 -0.298023  0.178814   \n",
       "6          0.401395         0.401394 -0.804663 -0.476837 -0.178814  0.089407   \n",
       "7          0.583010         0.583011  4.827976  0.119209  0.059605  0.000000   \n",
       "8          0.653180         0.653179 -3.695488 -0.417233 -0.298023  0.119209   \n",
       "9          0.674641         0.674641 -2.264977  0.178814 -0.417233  0.059605   \n",
       "10         0.589422         0.589422 -2.264977 -0.059605 -0.059605  0.059605   \n",
       "11         0.553845         0.553845  2.205372 -0.119209  0.178814  0.000000   \n",
       "12         0.550453         0.550453  2.264977 -0.059605  0.238419  0.059605   \n",
       "13         0.740590         0.740590 -1.788139 -0.655651 -0.655651  0.119209   \n",
       "14         0.684165         0.684164 -3.516674 -0.059605 -0.655651  0.178814   \n",
       "15         0.756975         0.756975 -1.072884  0.000000 -0.119209  0.119209   \n",
       "16         0.544846         0.544846  1.251698 -0.178814  0.178814  0.000000   \n",
       "17         0.361900         0.361900 -0.864267 -0.387430 -0.268221  0.059605   \n",
       "18         0.469053         0.469052 -0.834465 -0.298023 -0.119209  0.089407   \n",
       "19         0.447948         0.447948  4.559755  0.238419  0.864267 -0.089407   \n",
       "20         0.374660         0.374660 -2.771616  0.178814 -0.417233  0.208616   \n",
       "21         0.405992         0.405992 -2.473593  0.059605 -0.059605  0.119209   \n",
       "22         0.443780         0.443779 -0.953674 -0.506639 -0.119209  0.119209   \n",
       "23         0.395483         0.395483 -1.907349  0.059605 -0.536442  0.238419   \n",
       "24         0.430997         0.430996 -1.072884 -0.476837 -0.178814  0.089407   \n",
       "25         0.629416         0.629415 -0.953674  0.000000 -0.476837  0.178814   \n",
       "26         0.664267         0.664267  1.311302  0.357628  0.596046  0.000000   \n",
       "27         0.386565         0.386565 -3.337860  0.238419 -0.417233  0.178814   \n",
       "28         0.608097         0.608098  5.006790  0.238419  0.059605  0.059605   \n",
       "29         0.603643         0.603643 -0.417233  0.059605 -0.238419  0.000000   \n",
       "30         0.456243         0.456242 -1.102686 -0.506639 -0.089407  0.119209   \n",
       "\n",
       "          c5      ucca      ucce       ucc         U  \n",
       "0  -0.059605  0.002804  0.068023  0.068081  0.142572  \n",
       "1  -0.596046  0.015023  0.068023  0.069662  0.145735  \n",
       "2   0.238419  0.006602  0.068023  0.068343  0.143096  \n",
       "3  -0.596046  0.015276  0.068023  0.069717  0.145845  \n",
       "4  -0.894070  0.022810  0.068023  0.071746  0.149902  \n",
       "5  -1.251698  0.031683  0.068023  0.075040  0.156490  \n",
       "6  -0.894070  0.022870  0.068023  0.071765  0.149940  \n",
       "7   0.774860  0.019492  0.068023  0.070761  0.147932  \n",
       "8  -0.298023  0.008043  0.068023  0.068497  0.143404  \n",
       "9  -0.178814  0.004732  0.068023  0.068187  0.142786  \n",
       "10 -0.417233  0.010636  0.068023  0.068850  0.144110  \n",
       "11  0.298023  0.007571  0.068023  0.068443  0.143297  \n",
       "12  0.357628  0.009071  0.068023  0.068625  0.143661  \n",
       "13 -0.059605  0.002951  0.068023  0.068087  0.142585  \n",
       "14 -0.238419  0.006349  0.068023  0.068319  0.143048  \n",
       "15 -0.119209  0.003622  0.068023  0.068119  0.142650  \n",
       "16  0.059605  0.002397  0.068023  0.068065  0.142541  \n",
       "17 -0.149012  0.004546  0.068023  0.068175  0.142760  \n",
       "18 -0.625849  0.016037  0.068023  0.069888  0.146187  \n",
       "19  0.149012  0.004386  0.068023  0.068164  0.142739  \n",
       "20 -0.417233  0.010468  0.068023  0.068824  0.144058  \n",
       "21 -0.417233  0.010539  0.068023  0.068834  0.144080  \n",
       "22 -0.834465  0.021415  0.068023  0.071314  0.149039  \n",
       "23 -0.357628  0.009160  0.068023  0.068637  0.143685  \n",
       "24 -0.774860  0.019898  0.068023  0.070874  0.148158  \n",
       "25 -0.596046  0.015049  0.068023  0.069668  0.145746  \n",
       "26 -0.059605  0.002333  0.068023  0.068063  0.142537  \n",
       "27 -0.417233  0.010392  0.068023  0.068812  0.144035  \n",
       "28  0.834465  0.021082  0.068023  0.071215  0.148841  \n",
       "29 -0.119209  0.003540  0.068023  0.068115  0.142641  \n",
       "30 -0.983477  0.025121  0.068023  0.072514  0.151438  "
      ]
     },
     "execution_count": 118,
     "metadata": {},
     "output_type": "execute_result"
    }
   ],
   "source": [
    "df.total"
   ]
  },
  {
   "cell_type": "markdown",
   "metadata": {},
   "source": [
    "# Monte Carlo simulator for the test data "
   ]
  },
  {
   "cell_type": "markdown",
   "metadata": {},
   "source": [
    "# simulation mc  v0 "
   ]
  },
  {
   "cell_type": "code",
   "execution_count": 119,
   "metadata": {},
   "outputs": [
    {
     "name": "stdout",
     "output_type": "stream",
     "text": [
      "31250/31250 [==============================] - 16s 524us/step\n"
     ]
    },
    {
     "name": "stderr",
     "output_type": "stream",
     "text": [
      "C:\\Users\\AdmPDI\\Documents\\anaconda\\lib\\site-packages\\numpy\\core\\fromnumeric.py:3438: FutureWarning: In a future version, DataFrame.mean(axis=None) will return a scalar mean over the entire DataFrame. To retain the old behavior, use 'frame.mean(axis=0)' or just 'frame.mean()'\n",
      "  return mean(axis=axis, dtype=dtype, out=out, **kwargs)\n"
     ]
    }
   ],
   "source": [
    "i=0\n",
    "# Defina a média e a matriz de covariância da distribuição multivariada\n",
    "mean = [X_test.iloc[i,0], X_test.iloc[i,1],X_test.iloc[i,2], X_test.iloc[i,3], X_test.iloc[i,4]]  # Média dos valores em cada dimensão\n",
    "cov_matrix = [[upx1**2,        upx1*upx2*r_12,   upx1*upx3*r_13, upx1*upx4*r_14,   upx1*upx5*r_15],\n",
    "              [upx2*upx1*r_21, upx2**2,          upx2*upx3*r_23, upx2*upx4*r_24,   upx2*upx5*r_25],\n",
    "              [upx3*upx1*r_31, upx3*upx2*r_32,   upx3**2,        upx3*upx4*r_34,   upx3*upx5*r_35],\n",
    "              [upx4*upx1*r_41, upx4*upx2*r_42,   upx4*upx3*r_43, upx4**2,          upx4*upx5*r_45],\n",
    "              [upx5*upx1*r_51, upx5*upx2*r_52,   upx5*upx3*r_53, upx5*upx4*r_54,   upx5**2]] #Matriz de covariância através da relação com a correlação\n",
    "\n",
    "# Defina o tamanho da amostra desejada\n",
    "sample_size = 1000000\n",
    "# Gere números aleatórios em uma distribuição multivariada\n",
    "random_samples = np.random.multivariate_normal(mean, cov_matrix, sample_size)\n",
    "random_samples=pd.DataFrame(random_samples)\n",
    "x_1 =pd.DataFrame(random_samples[0])\n",
    "x_2 =pd.DataFrame(random_samples[1])\n",
    "x_3 =pd.DataFrame(random_samples[2])\n",
    "x_4 =pd.DataFrame(random_samples[3])\n",
    "x_5 =pd.DataFrame(random_samples[4])\n",
    "\n",
    "x_teste=pd.concat([x_1,x_2,x_3,x_4,x_5],axis=1)\n",
    "x_teste=pd.DataFrame(x_teste)\n",
    "previsão=model.predict(x_teste)\n",
    "previsão=pd.DataFrame(previsão)\n",
    "nomes_colunas = ['Frequency','Angle','Length','Velocity','Suction Side']\n",
    "nomes_colunas2 = ['Pressure']\n",
    "previsão.columns=nomes_colunas2\n",
    "x_teste.columns = nomes_colunas\n",
    "UMC0=np.std(previsão)\n",
    "MMC0=np.mean(previsão)"
   ]
  },
  {
   "cell_type": "code",
   "execution_count": 314,
   "metadata": {},
   "outputs": [
    {
     "data": {
      "image/png": "[encoded data removed]",
      "text/plain": [
       "<Figure size 640x480 with 1 Axes>"
      ]
     },
     "metadata": {},
     "output_type": "display_data"
    }
   ],
   "source": [
    "# Exemplo de conjunto de dados (pode ser substituído pelos seus próprios dados)\n",
    "dados = previsão['Pressure']\n",
    "dados = sorted(dados)\n",
    "# Calcula a CDF dos dados\n",
    "cdf = np.cumsum(np.ones_like(dados)) / len(dados)\n",
    "p=np.arange(0,0.05,0.0001)\n",
    "x = [] \n",
    "for index, element in enumerate(p):\n",
    "    x.append(element)\n",
    "res=pd.DataFrame(x) \n",
    "def IT(p):\n",
    "    resultado = dados[np.argmax(cdf >= p+0.95)]-dados[np.argmax(cdf >= p)]\n",
    "    return resultado\n",
    "res[0] = res[0].apply(IT)\n",
    "\n",
    "# Plota a CDF\n",
    "plt.plot(dados, cdf, marker='o')\n",
    "plt.xlabel('Values')\n",
    "plt.ylabel('Accumulated Probability ')\n",
    "plt.title('CDF -Cumulative Distribution Function -v0')\n",
    "plt.grid(True)\n",
    "plt.savefig(\"CDF\")\n",
    "plt.show()\n",
    "\n",
    "\n"
   ]
  },
  {
   "cell_type": "code",
   "execution_count": 313,
   "metadata": {},
   "outputs": [
    {
     "name": "stdout",
     "output_type": "stream",
     "text": [
      "0    0.05479\n",
      "dtype: float64\n"
     ]
    },
    {
     "data": {
      "image/png": "[encoded data removed]",
      "text/plain": [
       "<Figure size 640x480 with 1 Axes>"
      ]
     },
     "metadata": {},
     "output_type": "display_data"
    }
   ],
   "source": [
    "minvalue_IT0 = res.min()\n",
    "print(minvalue_IT0)\n",
    "plt.plot(x, res, marker='o')\n",
    "plt.xlabel('Values')\n",
    "plt.ylabel('Width of the Tolerance Interval')\n",
    "plt.title('95% Range Interval- v0')\n",
    "plt.grid(True)\n",
    "plt.savefig(\"IT\",format='pdf')\n",
    "plt.show()"
   ]
  },
  {
   "cell_type": "code",
   "execution_count": 290,
   "metadata": {},
   "outputs": [
    {
     "data": {
      "text/plain": [
       "<AxesSubplot:ylabel='Count'>"
      ]
     },
     "execution_count": 290,
     "metadata": {},
     "output_type": "execute_result"
    },
    {
     "data": {
      "image/png": "[encoded data removed]",
      "text/plain": [
       "<Figure size 640x480 with 1 Axes>"
      ]
     },
     "metadata": {},
     "output_type": "display_data"
    }
   ],
   "source": [
    "sns.histplot(previsão,)\n"
   ]
  },
  {
   "cell_type": "markdown",
   "metadata": {},
   "source": [
    "# Encontrar ymin e ymax "
   ]
  },
  {
   "cell_type": "code",
   "execution_count": 291,
   "metadata": {},
   "outputs": [
    {
     "name": "stdout",
     "output_type": "stream",
     "text": [
      "0.4154340624809265\n",
      "0.501663863658905\n"
     ]
    }
   ],
   "source": [
    "res_df=pd.DataFrame(res)\n",
    "res_df[0].idxmpmin=0.005\n",
    "pmin=x[res_df[0].idxmin()]\n",
    "\n",
    "from scipy.interpolate import interp1d\n",
    "inverse_cdf = interp1d(cdf, dados, kind='linear', fill_value='extrapolate')\n",
    "\n",
    "percentile1 = pmin\n",
    "ymin_0= inverse_cdf(percentile1)\n",
    "percentile2 = pmin+0.95\n",
    "ymax_0= inverse_cdf(percentile2)\n",
    "\n",
    "print(ymin_0)\n",
    "print(ymax_0)\n"
   ]
  },
  {
   "cell_type": "markdown",
   "metadata": {},
   "source": [
    "# simulação mc v1 "
   ]
  },
  {
   "cell_type": "code",
   "execution_count": 292,
   "metadata": {},
   "outputs": [
    {
     "name": "stdout",
     "output_type": "stream",
     "text": [
      "31250/31250 [==============================] - 17s 546us/step\n"
     ]
    },
    {
     "name": "stderr",
     "output_type": "stream",
     "text": [
      "C:\\Users\\AdmPDI\\Documents\\anaconda\\lib\\site-packages\\numpy\\core\\fromnumeric.py:3438: FutureWarning: In a future version, DataFrame.mean(axis=None) will return a scalar mean over the entire DataFrame. To retain the old behavior, use 'frame.mean(axis=0)' or just 'frame.mean()'\n",
      "  return mean(axis=axis, dtype=dtype, out=out, **kwargs)\n"
     ]
    }
   ],
   "source": [
    "i=1\n",
    "# Defina a média e a matriz de covariância da distribuição multivariada\n",
    "mean = [X_test.iloc[i,0], X_test.iloc[i,1],X_test.iloc[i,2], X_test.iloc[i,3], X_test.iloc[i,4]]  # Média dos valores em cada dimensão\n",
    "cov_matrix = [[upx1**2,        upx1*upx2*r_12,   upx1*upx3*r_13, upx1*upx4*r_14,   upx1*upx5*r_15],\n",
    "              [upx2*upx1*r_21, upx2**2,          upx2*upx3*r_23, upx2*upx4*r_24,   upx2*upx5*r_25],\n",
    "              [upx3*upx1*r_31, upx3*upx2*r_32,   upx3**2,        upx3*upx4*r_34,   upx3*upx5*r_35],\n",
    "              [upx4*upx1*r_41, upx4*upx2*r_42,   upx4*upx3*r_43, upx4**2,          upx4*upx5*r_45],\n",
    "              [upx5*upx1*r_51, upx5*upx2*r_52,   upx5*upx3*r_53, upx5*upx4*r_54,   upx5**2]] #Matriz de covariância através da relação com a correlação\n",
    "\n",
    "# Defina o tamanho da amostra desejada\n",
    "sample_size = 1000000\n",
    "# Gere números aleatórios em uma distribuição multivariada\n",
    "random_samples = np.random.multivariate_normal(mean, cov_matrix, sample_size)\n",
    "random_samples=pd.DataFrame(random_samples)\n",
    "x_1 =pd.DataFrame(random_samples[0])\n",
    "x_2 =pd.DataFrame(random_samples[1])\n",
    "x_3 =pd.DataFrame(random_samples[2])\n",
    "x_4 =pd.DataFrame(random_samples[3])\n",
    "x_5 =pd.DataFrame(random_samples[4])\n",
    "\n",
    "x_teste=pd.concat([x_1,x_2,x_3,x_4,x_5],axis=1)\n",
    "x_teste=pd.DataFrame(x_teste)\n",
    "previsão=model.predict(x_teste)\n",
    "previsão=pd.DataFrame(previsão)\n",
    "nomes_colunas = ['Frequency','Angle','Length','Velocity','Suction Side']\n",
    "nomes_colunas2 = ['Pressure']\n",
    "previsão.columns=nomes_colunas2\n",
    "x_teste.columns = nomes_colunas\n",
    "UMC1=np.std(previsão)\n",
    "MMC1=np.mean(previsão)"
   ]
  },
  {
   "cell_type": "code",
   "execution_count": 293,
   "metadata": {},
   "outputs": [
    {
     "data": {
      "text/plain": [
       "<AxesSubplot:ylabel='Count'>"
      ]
     },
     "execution_count": 293,
     "metadata": {},
     "output_type": "execute_result"
    },
    {
     "data": {
      "image/png": "[encoded data removed]",
      "text/plain": [
       "<Figure size 640x480 with 1 Axes>"
      ]
     },
     "metadata": {},
     "output_type": "display_data"
    }
   ],
   "source": [
    "sns.histplot(previsão,)"
   ]
  },
  {
   "cell_type": "code",
   "execution_count": 294,
   "metadata": {},
   "outputs": [
    {
     "data": {
      "image/png": "[encoded data removed]",
      "text/plain": [
       "<Figure size 640x480 with 1 Axes>"
      ]
     },
     "metadata": {},
     "output_type": "display_data"
    },
    {
     "name": "stdout",
     "output_type": "stream",
     "text": [
      "0    0.042452\n",
      "dtype: float64\n"
     ]
    },
    {
     "data": {
      "image/png": "[encoded data removed]",
      "text/plain": [
       "<Figure size 640x480 with 1 Axes>"
      ]
     },
     "metadata": {},
     "output_type": "display_data"
    }
   ],
   "source": [
    "# Exemplo de conjunto de dados (pode ser substituído pelos seus próprios dados)\n",
    "dados = previsão['Pressure']\n",
    "dados = sorted(dados)\n",
    "# Calcula a CDF dos dados\n",
    "cdf = np.cumsum(np.ones_like(dados)) / len(dados)\n",
    "p=np.arange(0,0.05,0.0001)\n",
    "x = [] \n",
    "for index, element in enumerate(p):\n",
    "    x.append(element)\n",
    "res=pd.DataFrame(x) \n",
    "def IT(p):\n",
    "    resultado = dados[np.argmax(cdf >= p+0.95)]-dados[np.argmax(cdf >= p)]\n",
    "    return resultado\n",
    "res[0] = res[0].apply(IT)\n",
    "\n",
    "# Plota a CDF\n",
    "plt.plot(dados, cdf, marker='o')\n",
    "plt.xlabel('Valores')\n",
    "plt.ylabel('Probabilidade Acumulada ')\n",
    "plt.title('CDF - Função de Distribuição Acumulada-v1')\n",
    "plt.grid(True)\n",
    "plt.show()\n",
    "\n",
    "minvalue_IT1 = res.min()\n",
    "print(minvalue_IT1)\n",
    "\n",
    "\n",
    "plt.plot(x, res, marker='o')\n",
    "plt.xlabel('Valores')\n",
    "plt.ylabel('Largura do IT')\n",
    "plt.title('Intervalor de Abrangência 95% - v1')\n",
    "plt.grid(True)\n",
    "plt.show()"
   ]
  },
  {
   "cell_type": "code",
   "execution_count": 295,
   "metadata": {},
   "outputs": [
    {
     "name": "stdout",
     "output_type": "stream",
     "text": [
      "0.639975905418396\n",
      "0.6824275255203247\n"
     ]
    }
   ],
   "source": [
    "res_df=pd.DataFrame(res)\n",
    "res_df[0].idxmpmin=0.005\n",
    "pmin=x[res_df[0].idxmin()]\n",
    "\n",
    "inverse_cdf = interp1d(cdf, dados, kind='linear', fill_value='extrapolate')\n",
    "\n",
    "percentile1 = pmin\n",
    "ymin_1= inverse_cdf(percentile1)\n",
    "percentile2 = pmin+0.95\n",
    "ymax_1= inverse_cdf(percentile2)\n",
    "\n",
    "print(ymin_1)\n",
    "print(ymax_1)\n"
   ]
  },
  {
   "cell_type": "markdown",
   "metadata": {},
   "source": [
    "# simulação mc v2 "
   ]
  },
  {
   "cell_type": "code",
   "execution_count": 296,
   "metadata": {},
   "outputs": [
    {
     "name": "stdout",
     "output_type": "stream",
     "text": [
      "31250/31250 [==============================] - 17s 542us/step\n"
     ]
    },
    {
     "name": "stderr",
     "output_type": "stream",
     "text": [
      "C:\\Users\\AdmPDI\\Documents\\anaconda\\lib\\site-packages\\numpy\\core\\fromnumeric.py:3438: FutureWarning: In a future version, DataFrame.mean(axis=None) will return a scalar mean over the entire DataFrame. To retain the old behavior, use 'frame.mean(axis=0)' or just 'frame.mean()'\n",
      "  return mean(axis=axis, dtype=dtype, out=out, **kwargs)\n"
     ]
    }
   ],
   "source": [
    "i=2\n",
    "# Defina a média e a matriz de covariância da distribuição multivariada\n",
    "mean = [X_test.iloc[i,0], X_test.iloc[i,1],X_test.iloc[i,2], X_test.iloc[i,3], X_test.iloc[i,4]]  # Média dos valores em cada dimensão\n",
    "cov_matrix = [[upx1**2,        upx1*upx2*r_12,   upx1*upx3*r_13, upx1*upx4*r_14,   upx1*upx5*r_15],\n",
    "              [upx2*upx1*r_21, upx2**2,          upx2*upx3*r_23, upx2*upx4*r_24,   upx2*upx5*r_25],\n",
    "              [upx3*upx1*r_31, upx3*upx2*r_32,   upx3**2,        upx3*upx4*r_34,   upx3*upx5*r_35],\n",
    "              [upx4*upx1*r_41, upx4*upx2*r_42,   upx4*upx3*r_43, upx4**2,          upx4*upx5*r_45],\n",
    "              [upx5*upx1*r_51, upx5*upx2*r_52,   upx5*upx3*r_53, upx5*upx4*r_54,   upx5**2]] #Matriz de covariância através da relação com a correlação\n",
    "\n",
    "# Defina o tamanho da amostra desejada\n",
    "sample_size = 1000000\n",
    "# Gere números aleatórios em uma distribuição multivariada\n",
    "random_samples = np.random.multivariate_normal(mean, cov_matrix, sample_size)\n",
    "random_samples=pd.DataFrame(random_samples)\n",
    "x_1 =pd.DataFrame(random_samples[0])\n",
    "x_2 =pd.DataFrame(random_samples[1])\n",
    "x_3 =pd.DataFrame(random_samples[2])\n",
    "x_4 =pd.DataFrame(random_samples[3])\n",
    "x_5 =pd.DataFrame(random_samples[4])\n",
    "\n",
    "x_teste=pd.concat([x_1,x_2,x_3,x_4,x_5],axis=1)\n",
    "x_teste=pd.DataFrame(x_teste)\n",
    "previsão=model.predict(x_teste)\n",
    "previsão=pd.DataFrame(previsão)\n",
    "nomes_colunas = ['Frequency','Angle','Length','Velocity','Suction Side']\n",
    "nomes_colunas2 = ['Pressure']\n",
    "previsão.columns=nomes_colunas2\n",
    "x_teste.columns = nomes_colunas\n",
    "UMC2=np.std(previsão)\n",
    "MMC2=np.mean(previsão)"
   ]
  },
  {
   "cell_type": "code",
   "execution_count": 297,
   "metadata": {},
   "outputs": [
    {
     "data": {
      "text/plain": [
       "<AxesSubplot:ylabel='Count'>"
      ]
     },
     "execution_count": 297,
     "metadata": {},
     "output_type": "execute_result"
    },
    {
     "data": {
      "image/png": "[encoded data removed]",
      "text/plain": [
       "<Figure size 640x480 with 1 Axes>"
      ]
     },
     "metadata": {},
     "output_type": "display_data"
    }
   ],
   "source": [
    "sns.histplot(previsão,)"
   ]
  },
  {
   "cell_type": "code",
   "execution_count": 298,
   "metadata": {},
   "outputs": [
    {
     "data": {
      "image/png": "[encoded data removed]",
      "text/plain": [
       "<Figure size 640x480 with 1 Axes>"
      ]
     },
     "metadata": {},
     "output_type": "display_data"
    },
    {
     "name": "stdout",
     "output_type": "stream",
     "text": [
      "0    0.01826\n",
      "dtype: float64\n"
     ]
    },
    {
     "data": {
      "image/png": "[encoded data removed]",
      "text/plain": [
       "<Figure size 640x480 with 1 Axes>"
      ]
     },
     "metadata": {},
     "output_type": "display_data"
    }
   ],
   "source": [
    "# Exemplo de conjunto de dados (pode ser substituído pelos seus próprios dados)\n",
    "dados = previsão['Pressure']\n",
    "dados = sorted(dados)\n",
    "# Calcula a CDF dos dados\n",
    "cdf = np.cumsum(np.ones_like(dados)) / len(dados)\n",
    "p=np.arange(0,0.05,0.0001)\n",
    "x = [] \n",
    "for index, element in enumerate(p):\n",
    "    x.append(element)\n",
    "res=pd.DataFrame(x) \n",
    "def IT(p):\n",
    "    resultado = dados[np.argmax(cdf >= p+0.95)]-dados[np.argmax(cdf >= p)]\n",
    "    return resultado\n",
    "res[0] = res[0].apply(IT)\n",
    "\n",
    "# Plota a CDF\n",
    "plt.plot(dados, cdf, marker='o')\n",
    "plt.xlabel('Valores')\n",
    "plt.ylabel('Probabilidade Acumulada ')\n",
    "plt.title('CDF - Função de Distribuição Acumulada-v2')\n",
    "plt.grid(True)\n",
    "plt.show()\n",
    "\n",
    "minvalue_IT2 = res.min()\n",
    "print(minvalue_IT2)\n",
    "plt.plot(x, res, marker='o')\n",
    "plt.xlabel('Valores')\n",
    "plt.ylabel('Largura do IT')\n",
    "plt.title('Intervalor de Abrangência 95% - v2')\n",
    "plt.grid(True)\n",
    "plt.show()"
   ]
  },
  {
   "cell_type": "code",
   "execution_count": 299,
   "metadata": {},
   "outputs": [
    {
     "name": "stdout",
     "output_type": "stream",
     "text": [
      "0.6721848845481873\n",
      "0.6904445886611938\n"
     ]
    }
   ],
   "source": [
    "res_df=pd.DataFrame(res)\n",
    "res_df[0].idxmpmin=0.005\n",
    "pmin=x[res_df[0].idxmin()]\n",
    "\n",
    "inverse_cdf = interp1d(cdf, dados, kind='linear', fill_value='extrapolate')\n",
    "\n",
    "percentile1 = pmin\n",
    "ymin_2= inverse_cdf(percentile1)\n",
    "percentile2 = pmin+0.95\n",
    "ymax_2= inverse_cdf(percentile2)\n",
    "\n",
    "print(ymin_2)\n",
    "print(ymax_2)\n"
   ]
  },
  {
   "cell_type": "markdown",
   "metadata": {},
   "source": [
    "# simulação mc v3 "
   ]
  },
  {
   "cell_type": "code",
   "execution_count": 301,
   "metadata": {},
   "outputs": [
    {
     "name": "stdout",
     "output_type": "stream",
     "text": [
      "31250/31250 [==============================] - 17s 541us/step\n"
     ]
    },
    {
     "name": "stderr",
     "output_type": "stream",
     "text": [
      "C:\\Users\\AdmPDI\\Documents\\anaconda\\lib\\site-packages\\numpy\\core\\fromnumeric.py:3438: FutureWarning: In a future version, DataFrame.mean(axis=None) will return a scalar mean over the entire DataFrame. To retain the old behavior, use 'frame.mean(axis=0)' or just 'frame.mean()'\n",
      "  return mean(axis=axis, dtype=dtype, out=out, **kwargs)\n"
     ]
    }
   ],
   "source": [
    "i=3\n",
    "# Defina a média e a matriz de covariância da distribuição multivariada\n",
    "mean = [X_test.iloc[i,0], X_test.iloc[i,1],X_test.iloc[i,2], X_test.iloc[i,3], X_test.iloc[i,4]]  # Média dos valores em cada dimensão\n",
    "cov_matrix = [[upx1**2,        upx1*upx2*r_12,   upx1*upx3*r_13, upx1*upx4*r_14,   upx1*upx5*r_15],\n",
    "              [upx2*upx1*r_21, upx2**2,          upx2*upx3*r_23, upx2*upx4*r_24,   upx2*upx5*r_25],\n",
    "              [upx3*upx1*r_31, upx3*upx2*r_32,   upx3**2,        upx3*upx4*r_34,   upx3*upx5*r_35],\n",
    "              [upx4*upx1*r_41, upx4*upx2*r_42,   upx4*upx3*r_43, upx4**2,          upx4*upx5*r_45],\n",
    "              [upx5*upx1*r_51, upx5*upx2*r_52,   upx5*upx3*r_53, upx5*upx4*r_54,   upx5**2]] #Matriz de covariância através da relação com a correlação\n",
    "\n",
    "# Defina o tamanho da amostra desejada\n",
    "sample_size = 1000000\n",
    "# Gere números aleatórios em uma distribuição multivariada\n",
    "random_samples = np.random.multivariate_normal(mean, cov_matrix, sample_size)\n",
    "random_samples=pd.DataFrame(random_samples)\n",
    "x_1 =pd.DataFrame(random_samples[0])\n",
    "x_2 =pd.DataFrame(random_samples[1])\n",
    "x_3 =pd.DataFrame(random_samples[2])\n",
    "x_4 =pd.DataFrame(random_samples[3])\n",
    "x_5 =pd.DataFrame(random_samples[4])\n",
    "\n",
    "x_teste=pd.concat([x_1,x_2,x_3,x_4,x_5],axis=1)\n",
    "x_teste=pd.DataFrame(x_teste)\n",
    "previsão=model.predict(x_teste)\n",
    "previsão=pd.DataFrame(previsão)\n",
    "nomes_colunas = ['Frequency','Angle','Length','Velocity','Suction Side']\n",
    "nomes_colunas2 = ['Pressure']\n",
    "previsão.columns=nomes_colunas2\n",
    "x_teste.columns = nomes_colunas\n",
    "UMC3=np.std(previsão)\n",
    "MMC3=np.mean(previsão)"
   ]
  },
  {
   "cell_type": "code",
   "execution_count": null,
   "metadata": {},
   "outputs": [],
   "source": [
    "sns.histplot(previsão,)"
   ]
  },
  {
   "cell_type": "code",
   "execution_count": null,
   "metadata": {},
   "outputs": [],
   "source": [
    "# Exemplo de conjunto de dados (pode ser substituído pelos seus próprios dados)\n",
    "dados = previsão['Pressure']\n",
    "dados = sorted(dados)\n",
    "# Calcula a CDF dos dados\n",
    "cdf = np.cumsum(np.ones_like(dados)) / len(dados)\n",
    "p=np.arange(0,0.05,0.0001)\n",
    "x = [] \n",
    "for index, element in enumerate(p):\n",
    "    x.append(element)\n",
    "res=pd.DataFrame(x) \n",
    "def IT(p):\n",
    "    resultado = dados[np.argmax(cdf >= p+0.95)]-dados[np.argmax(cdf >= p)]\n",
    "    return resultado\n",
    "res[0] = res[0].apply(IT)\n",
    "\n",
    "# Plota a CDF\n",
    "plt.plot(dados, cdf, marker='o')\n",
    "plt.xlabel('Valores')\n",
    "plt.ylabel('Probabilidade Acumulada ')\n",
    "plt.title('CDF - Função de Distribuição Acumulada-v3')\n",
    "plt.grid(True)\n",
    "plt.show()\n",
    "\n",
    "minvalue_IT3 = res.min()\n",
    "print(minvalue_IT3)\n",
    "plt.plot(x, res, marker='o')\n",
    "plt.xlabel('Valores')\n",
    "plt.ylabel('Largura do IT')\n",
    "plt.title('Intervalor de Abrangência 95% - v3')\n",
    "plt.grid(True)\n",
    "plt.show()"
   ]
  },
  {
   "cell_type": "code",
   "execution_count": null,
   "metadata": {},
   "outputs": [],
   "source": [
    "res_df=pd.DataFrame(res)\n",
    "res_df[0].idxmpmin=0.005\n",
    "pmin=x[res_df[0].idxmin()]\n",
    "\n",
    "inverse_cdf = interp1d(cdf, dados, kind='linear', fill_value='extrapolate')\n",
    "\n",
    "percentile1 = pmin\n",
    "ymin_3= inverse_cdf(percentile1)\n",
    "percentile2 = pmin+0.95\n",
    "ymax_3= inverse_cdf(percentile2)\n",
    "\n",
    "print(ymin_3)\n",
    "print(ymax_3)\n"
   ]
  },
  {
   "cell_type": "markdown",
   "metadata": {},
   "source": [
    "# simulação mc v4"
   ]
  },
  {
   "cell_type": "code",
   "execution_count": null,
   "metadata": {},
   "outputs": [],
   "source": [
    "i=4\n",
    "# Defina a média e a matriz de covariância da distribuição multivariada\n",
    "mean = [X_test.iloc[i,0], X_test.iloc[i,1],X_test.iloc[i,2], X_test.iloc[i,3], X_test.iloc[i,4]]  # Média dos valores em cada dimensão\n",
    "cov_matrix = [[upx1**2,        upx1*upx2*r_12,   upx1*upx3*r_13, upx1*upx4*r_14,   upx1*upx5*r_15],\n",
    "              [upx2*upx1*r_21, upx2**2,          upx2*upx3*r_23, upx2*upx4*r_24,   upx2*upx5*r_25],\n",
    "              [upx3*upx1*r_31, upx3*upx2*r_32,   upx3**2,        upx3*upx4*r_34,   upx3*upx5*r_35],\n",
    "              [upx4*upx1*r_41, upx4*upx2*r_42,   upx4*upx3*r_43, upx4**2,          upx4*upx5*r_45],\n",
    "              [upx5*upx1*r_51, upx5*upx2*r_52,   upx5*upx3*r_53, upx5*upx4*r_54,   upx5**2]] #Matriz de covariância através da relação com a correlação\n",
    "\n",
    "# Defina o tamanho da amostra desejada\n",
    "sample_size = 1000000\n",
    "# Gere números aleatórios em uma distribuição multivariada\n",
    "random_samples = np.random.multivariate_normal(mean, cov_matrix, sample_size)\n",
    "random_samples=pd.DataFrame(random_samples)\n",
    "x_1 =pd.DataFrame(random_samples[0])\n",
    "x_2 =pd.DataFrame(random_samples[1])\n",
    "x_3 =pd.DataFrame(random_samples[2])\n",
    "x_4 =pd.DataFrame(random_samples[3])\n",
    "x_5 =pd.DataFrame(random_samples[4])\n",
    "\n",
    "x_teste=pd.concat([x_1,x_2,x_3,x_4,x_5],axis=1)\n",
    "x_teste=pd.DataFrame(x_teste)\n",
    "previsão=model.predict(x_teste)\n",
    "previsão=pd.DataFrame(previsão)\n",
    "nomes_colunas = ['Frequency','Angle','Length','Velocity','Suction Side']\n",
    "nomes_colunas2 = ['Pressure']\n",
    "previsão.columns=nomes_colunas2\n",
    "x_teste.columns = nomes_colunas\n",
    "UMC4=np.std(previsão)\n",
    "MMC4=np.mean(previsão)"
   ]
  },
  {
   "cell_type": "code",
   "execution_count": null,
   "metadata": {},
   "outputs": [],
   "source": [
    "sns.histplot(previsão,)"
   ]
  },
  {
   "cell_type": "code",
   "execution_count": null,
   "metadata": {},
   "outputs": [],
   "source": [
    "# Exemplo de conjunto de dados (pode ser substituído pelos seus próprios dados)\n",
    "dados = previsão['Pressure']\n",
    "dados = sorted(dados)\n",
    "# Calcula a CDF dos dados\n",
    "cdf = np.cumsum(np.ones_like(dados)) / len(dados)\n",
    "p=np.arange(0,0.05,0.0001)\n",
    "x = [] \n",
    "for index, element in enumerate(p):\n",
    "    x.append(element)\n",
    "res=pd.DataFrame(x) \n",
    "def IT(p):\n",
    "    resultado = dados[np.argmax(cdf >= p+0.95)]-dados[np.argmax(cdf >= p)]\n",
    "    return resultado\n",
    "res[0] = res[0].apply(IT)\n",
    "\n",
    "# Plota a CDF\n",
    "plt.plot(dados, cdf, marker='o')\n",
    "plt.xlabel('Valores')\n",
    "plt.ylabel('Probabilidade Acumulada ')\n",
    "plt.title('CDF - Função de Distribuição Acumulada-v4')\n",
    "plt.grid(True)\n",
    "plt.show()\n",
    "\n",
    "minvalue_IT4 = res.min()\n",
    "print(minvalue_IT4)\n",
    "plt.plot(x, res, marker='o')\n",
    "plt.xlabel('Valores')\n",
    "plt.ylabel('Largura do IT')\n",
    "plt.title('Intervalor de Abrangência 95% - v4')\n",
    "plt.grid(True)\n",
    "plt.show()"
   ]
  },
  {
   "cell_type": "code",
   "execution_count": null,
   "metadata": {},
   "outputs": [],
   "source": [
    "res_df=pd.DataFrame(res)\n",
    "res_df[0].idxmpmin=0.005\n",
    "pmin=x[res_df[0].idxmin()]\n",
    "\n",
    "inverse_cdf = interp1d(cdf, dados, kind='linear', fill_value='extrapolate')\n",
    "\n",
    "percentile1 = pmin\n",
    "ymin_4= inverse_cdf(percentile1)\n",
    "percentile2 = pmin+0.95\n",
    "ymax_4= inverse_cdf(percentile2)\n",
    "\n",
    "print(ymin_4)\n",
    "print(ymax_4)\n"
   ]
  },
  {
   "cell_type": "markdown",
   "metadata": {},
   "source": [
    "# simulação mc v5 "
   ]
  },
  {
   "cell_type": "code",
   "execution_count": null,
   "metadata": {},
   "outputs": [],
   "source": [
    "i=5\n",
    "# Defina a média e a matriz de covariância da distribuição multivariada\n",
    "mean = [X_test.iloc[i,0], X_test.iloc[i,1],X_test.iloc[i,2], X_test.iloc[i,3], X_test.iloc[i,4]]  # Média dos valores em cada dimensão\n",
    "cov_matrix = [[upx1**2,        upx1*upx2*r_12,   upx1*upx3*r_13, upx1*upx4*r_14,   upx1*upx5*r_15],\n",
    "              [upx2*upx1*r_21, upx2**2,          upx2*upx3*r_23, upx2*upx4*r_24,   upx2*upx5*r_25],\n",
    "              [upx3*upx1*r_31, upx3*upx2*r_32,   upx3**2,        upx3*upx4*r_34,   upx3*upx5*r_35],\n",
    "              [upx4*upx1*r_41, upx4*upx2*r_42,   upx4*upx3*r_43, upx4**2,          upx4*upx5*r_45],\n",
    "              [upx5*upx1*r_51, upx5*upx2*r_52,   upx5*upx3*r_53, upx5*upx4*r_54,   upx5**2]] #Matriz de covariância através da relação com a correlação\n",
    "\n",
    "# Defina o tamanho da amostra desejada\n",
    "sample_size = 1000000\n",
    "# Gere números aleatórios em uma distribuição multivariada\n",
    "random_samples = np.random.multivariate_normal(mean, cov_matrix, sample_size)\n",
    "random_samples=pd.DataFrame(random_samples)\n",
    "x_1 =pd.DataFrame(random_samples[0])\n",
    "x_2 =pd.DataFrame(random_samples[1])\n",
    "x_3 =pd.DataFrame(random_samples[2])\n",
    "x_4 =pd.DataFrame(random_samples[3])\n",
    "x_5 =pd.DataFrame(random_samples[4])\n",
    "\n",
    "x_teste=pd.concat([x_1,x_2,x_3,x_4,x_5],axis=1)\n",
    "x_teste=pd.DataFrame(x_teste)\n",
    "previsão=model.predict(x_teste)\n",
    "previsão=pd.DataFrame(previsão)\n",
    "nomes_colunas = ['Frequency','Angle','Length','Velocity','Suction Side']\n",
    "nomes_colunas2 = ['Pressure']\n",
    "previsão.columns=nomes_colunas2\n",
    "x_teste.columns = nomes_colunas\n",
    "UMC5=np.std(previsão)\n",
    "MMC5=np.mean(previsão)"
   ]
  },
  {
   "cell_type": "code",
   "execution_count": null,
   "metadata": {},
   "outputs": [],
   "source": [
    "sns.histplot(previsão,)"
   ]
  },
  {
   "cell_type": "code",
   "execution_count": null,
   "metadata": {},
   "outputs": [],
   "source": [
    "# Exemplo de conjunto de dados (pode ser substituído pelos seus próprios dados)\n",
    "dados = previsão['Pressure']\n",
    "dados = sorted(dados)\n",
    "# Calcula a CDF dos dados\n",
    "cdf = np.cumsum(np.ones_like(dados)) / len(dados)\n",
    "p=np.arange(0,0.05,0.0001)\n",
    "x = [] \n",
    "for index, element in enumerate(p):\n",
    "    x.append(element)\n",
    "res=pd.DataFrame(x) \n",
    "def IT(p):\n",
    "    resultado = dados[np.argmax(cdf >= p+0.95)]-dados[np.argmax(cdf >= p)]\n",
    "    return resultado\n",
    "res[0] = res[0].apply(IT)\n",
    "\n",
    "# Plota a CDF\n",
    "plt.plot(dados, cdf, marker='o')\n",
    "plt.xlabel('Valores')\n",
    "plt.ylabel('Probabilidade Acumulada ')\n",
    "plt.title('CDF - Função de Distribuição Acumulada-v3')\n",
    "plt.grid(True)\n",
    "plt.show()\n",
    "\n",
    "minvalue_IT5 = res.min()\n",
    "print(minvalue_IT5)\n",
    "plt.plot(x, res, marker='o')\n",
    "plt.xlabel('Valores')\n",
    "plt.ylabel('Largura do IT')\n",
    "plt.title('Intervalor de Abrangência 95% - v5')\n",
    "plt.grid(True)\n",
    "plt.show()"
   ]
  },
  {
   "cell_type": "code",
   "execution_count": null,
   "metadata": {},
   "outputs": [],
   "source": [
    "res_df=pd.DataFrame(res)\n",
    "res_df[0].idxmpmin=0.005\n",
    "pmin=x[res_df[0].idxmin()]\n",
    "\n",
    "inverse_cdf = interp1d(cdf, dados, kind='linear', fill_value='extrapolate')\n",
    "\n",
    "percentile1 = pmin\n",
    "ymin_5= inverse_cdf(percentile1)\n",
    "percentile2 = pmin+0.95\n",
    "ymax_5= inverse_cdf(percentile2)\n",
    "\n",
    "print(ymin_5)\n",
    "print(ymax_5)"
   ]
  },
  {
   "cell_type": "markdown",
   "metadata": {},
   "source": [
    "# simulação mc v6 "
   ]
  },
  {
   "cell_type": "code",
   "execution_count": null,
   "metadata": {},
   "outputs": [],
   "source": [
    "i=6\n",
    "# Defina a média e a matriz de covariância da distribuição multivariada\n",
    "mean = [X_test.iloc[i,0], X_test.iloc[i,1],X_test.iloc[i,2], X_test.iloc[i,3], X_test.iloc[i,4]]  # Média dos valores em cada dimensão\n",
    "cov_matrix = [[upx1**2,        upx1*upx2*r_12,   upx1*upx3*r_13, upx1*upx4*r_14,   upx1*upx5*r_15],\n",
    "              [upx2*upx1*r_21, upx2**2,          upx2*upx3*r_23, upx2*upx4*r_24,   upx2*upx5*r_25],\n",
    "              [upx3*upx1*r_31, upx3*upx2*r_32,   upx3**2,        upx3*upx4*r_34,   upx3*upx5*r_35],\n",
    "              [upx4*upx1*r_41, upx4*upx2*r_42,   upx4*upx3*r_43, upx4**2,          upx4*upx5*r_45],\n",
    "              [upx5*upx1*r_51, upx5*upx2*r_52,   upx5*upx3*r_53, upx5*upx4*r_54,   upx5**2]] #Matriz de covariância através da relação com a correlação\n",
    "\n",
    "# Defina o tamanho da amostra desejada\n",
    "sample_size = 1000000\n",
    "# Gere números aleatórios em uma distribuição multivariada\n",
    "random_samples = np.random.multivariate_normal(mean, cov_matrix, sample_size)\n",
    "random_samples=pd.DataFrame(random_samples)\n",
    "x_1 =pd.DataFrame(random_samples[0])\n",
    "x_2 =pd.DataFrame(random_samples[1])\n",
    "x_3 =pd.DataFrame(random_samples[2])\n",
    "x_4 =pd.DataFrame(random_samples[3])\n",
    "x_5 =pd.DataFrame(random_samples[4])\n",
    "\n",
    "x_teste=pd.concat([x_1,x_2,x_3,x_4,x_5],axis=1)\n",
    "x_teste=pd.DataFrame(x_teste)\n",
    "previsão=model.predict(x_teste)\n",
    "previsão=pd.DataFrame(previsão)\n",
    "nomes_colunas = ['Frequency','Angle','Length','Velocity','Suction Side']\n",
    "nomes_colunas2 = ['Pressure']\n",
    "previsão.columns=nomes_colunas2\n",
    "x_teste.columns = nomes_colunas\n",
    "UMC6=np.std(previsão)\n",
    "MMC6=np.mean(previsão)"
   ]
  },
  {
   "cell_type": "code",
   "execution_count": null,
   "metadata": {},
   "outputs": [],
   "source": [
    "sns.histplot(previsão,)"
   ]
  },
  {
   "cell_type": "code",
   "execution_count": null,
   "metadata": {},
   "outputs": [],
   "source": [
    "# Exemplo de conjunto de dados (pode ser substituído pelos seus próprios dados)\n",
    "dados = previsão['Pressure']\n",
    "dados = sorted(dados)\n",
    "# Calcula a CDF dos dados\n",
    "cdf = np.cumsum(np.ones_like(dados)) / len(dados)\n",
    "p=np.arange(0,0.05,0.0001)\n",
    "x = [] \n",
    "for index, element in enumerate(p):\n",
    "    x.append(element)\n",
    "res=pd.DataFrame(x) \n",
    "def IT(p):\n",
    "    resultado = dados[np.argmax(cdf >= p+0.95)]-dados[np.argmax(cdf >= p)]\n",
    "    return resultado\n",
    "res[0] = res[0].apply(IT)\n",
    "\n",
    "# Plota a CDF\n",
    "plt.plot(dados, cdf, marker='o')\n",
    "plt.xlabel('Valores')\n",
    "plt.ylabel('Probabilidade Acumulada ')\n",
    "plt.title('CDF - Função de Distribuição Acumulada-v6')\n",
    "plt.grid(True)\n",
    "plt.show()\n",
    "\n",
    "minvalue_IT6 = res.min()\n",
    "print(minvalue_IT6)\n",
    "plt.plot(x, res, marker='o')\n",
    "plt.xlabel('Valores')\n",
    "plt.ylabel('Largura do IT')\n",
    "plt.title('Intervalor de Abrangência 95% - v6')\n",
    "plt.grid(True)\n",
    "plt.show()"
   ]
  },
  {
   "cell_type": "code",
   "execution_count": null,
   "metadata": {},
   "outputs": [],
   "source": [
    "res_df=pd.DataFrame(res)\n",
    "res_df[0].idxmpmin=0.005\n",
    "pmin=x[res_df[0].idxmin()]\n",
    "\n",
    "inverse_cdf = interp1d(cdf, dados, kind='linear', fill_value='extrapolate')\n",
    "\n",
    "percentile1 = pmin\n",
    "ymin_6= inverse_cdf(percentile1)\n",
    "percentile2 = pmin+0.95\n",
    "ymax_6= inverse_cdf(percentile2)\n",
    "print(ymin_6)\n",
    "print(ymax_6)"
   ]
  },
  {
   "cell_type": "markdown",
   "metadata": {},
   "source": [
    "# simulação mc v7 "
   ]
  },
  {
   "cell_type": "code",
   "execution_count": null,
   "metadata": {},
   "outputs": [],
   "source": [
    "i=7\n",
    "# Defina a média e a matriz de covariância da distribuição multivariada\n",
    "mean = [X_test.iloc[i,0], X_test.iloc[i,1],X_test.iloc[i,2], X_test.iloc[i,3], X_test.iloc[i,4]]  # Média dos valores em cada dimensão\n",
    "cov_matrix = [[upx1**2,        upx1*upx2*r_12,   upx1*upx3*r_13, upx1*upx4*r_14,   upx1*upx5*r_15],\n",
    "              [upx2*upx1*r_21, upx2**2,          upx2*upx3*r_23, upx2*upx4*r_24,   upx2*upx5*r_25],\n",
    "              [upx3*upx1*r_31, upx3*upx2*r_32,   upx3**2,        upx3*upx4*r_34,   upx3*upx5*r_35],\n",
    "              [upx4*upx1*r_41, upx4*upx2*r_42,   upx4*upx3*r_43, upx4**2,          upx4*upx5*r_45],\n",
    "              [upx5*upx1*r_51, upx5*upx2*r_52,   upx5*upx3*r_53, upx5*upx4*r_54,   upx5**2]] #Matriz de covariância através da relação com a correlação\n",
    "\n",
    "# Defina o tamanho da amostra desejada\n",
    "sample_size = 1000000\n",
    "# Gere números aleatórios em uma distribuição multivariada\n",
    "random_samples = np.random.multivariate_normal(mean, cov_matrix, sample_size)\n",
    "random_samples=pd.DataFrame(random_samples)\n",
    "x_1 =pd.DataFrame(random_samples[0])\n",
    "x_2 =pd.DataFrame(random_samples[1])\n",
    "x_3 =pd.DataFrame(random_samples[2])\n",
    "x_4 =pd.DataFrame(random_samples[3])\n",
    "x_5 =pd.DataFrame(random_samples[4])\n",
    "\n",
    "x_teste=pd.concat([x_1,x_2,x_3,x_4,x_5],axis=1)\n",
    "x_teste=pd.DataFrame(x_teste)\n",
    "previsão=model.predict(x_teste)\n",
    "previsão=pd.DataFrame(previsão)\n",
    "nomes_colunas = ['Frequency','Angle','Length','Velocity','Suction Side']\n",
    "nomes_colunas2 = ['Pressure']\n",
    "previsão.columns=nomes_colunas2\n",
    "x_teste.columns = nomes_colunas\n",
    "UMC7=np.std(previsão)\n",
    "MMC7=np.mean(previsão)"
   ]
  },
  {
   "cell_type": "code",
   "execution_count": null,
   "metadata": {},
   "outputs": [],
   "source": [
    "sns.histplot(previsão,)"
   ]
  },
  {
   "cell_type": "code",
   "execution_count": null,
   "metadata": {},
   "outputs": [],
   "source": [
    "# Exemplo de conjunto de dados (pode ser substituído pelos seus próprios dados)\n",
    "dados = previsão['Pressure']\n",
    "dados = sorted(dados)\n",
    "# Calcula a CDF dos dados\n",
    "cdf = np.cumsum(np.ones_like(dados)) / len(dados)\n",
    "p=np.arange(0,0.05,0.0001)\n",
    "x = [] \n",
    "for index, element in enumerate(p):\n",
    "    x.append(element)\n",
    "res=pd.DataFrame(x) \n",
    "def IT(p):\n",
    "    resultado = dados[np.argmax(cdf >= p+0.95)]-dados[np.argmax(cdf >= p)]\n",
    "    return resultado\n",
    "res[0] = res[0].apply(IT)\n",
    "\n",
    "# Plota a CDF\n",
    "plt.plot(dados, cdf, marker='o')\n",
    "plt.xlabel('Valores')\n",
    "plt.ylabel('Probabilidade Acumulada ')\n",
    "plt.title('CDF - Função de Distribuição Acumulada-v7')\n",
    "plt.grid(True)\n",
    "plt.show()\n",
    "\n",
    "minvalue_IT7 = res.min()\n",
    "print(minvalue_IT7)\n",
    "plt.plot(x, res, marker='o')\n",
    "plt.xlabel('Valores')\n",
    "plt.ylabel('Largura do IT')\n",
    "plt.title('Intervalor de Abrangência 95% - v7')\n",
    "plt.grid(True)\n",
    "plt.show()"
   ]
  },
  {
   "cell_type": "code",
   "execution_count": null,
   "metadata": {},
   "outputs": [],
   "source": [
    "res_df=pd.DataFrame(res)\n",
    "res_df[0].idxmpmin=0.005\n",
    "pmin=x[res_df[0].idxmin()]\n",
    "\n",
    "inverse_cdf = interp1d(cdf, dados, kind='linear', fill_value='extrapolate')\n",
    "\n",
    "percentile1 = pmin\n",
    "ymin_7= inverse_cdf(percentile1)\n",
    "percentile2 = pmin+0.95\n",
    "ymax_7= inverse_cdf(percentile2)\n",
    "print(ymin_7)\n",
    "print(ymax_7)"
   ]
  },
  {
   "cell_type": "markdown",
   "metadata": {},
   "source": [
    "# simulação mc v8 "
   ]
  },
  {
   "cell_type": "code",
   "execution_count": null,
   "metadata": {},
   "outputs": [],
   "source": [
    "i=8\n",
    "# Defina a média e a matriz de covariância da distribuição multivariada\n",
    "mean = [X_test.iloc[i,0], X_test.iloc[i,1],X_test.iloc[i,2], X_test.iloc[i,3], X_test.iloc[i,4]]  # Média dos valores em cada dimensão\n",
    "cov_matrix = [[upx1**2,        upx1*upx2*r_12,   upx1*upx3*r_13, upx1*upx4*r_14,   upx1*upx5*r_15],\n",
    "              [upx2*upx1*r_21, upx2**2,          upx2*upx3*r_23, upx2*upx4*r_24,   upx2*upx5*r_25],\n",
    "              [upx3*upx1*r_31, upx3*upx2*r_32,   upx3**2,        upx3*upx4*r_34,   upx3*upx5*r_35],\n",
    "              [upx4*upx1*r_41, upx4*upx2*r_42,   upx4*upx3*r_43, upx4**2,          upx4*upx5*r_45],\n",
    "              [upx5*upx1*r_51, upx5*upx2*r_52,   upx5*upx3*r_53, upx5*upx4*r_54,   upx5**2]] #Matriz de covariância através da relação com a correlação\n",
    "\n",
    "# Defina o tamanho da amostra desejada\n",
    "sample_size = 1000000\n",
    "# Gere números aleatórios em uma distribuição multivariada\n",
    "random_samples = np.random.multivariate_normal(mean, cov_matrix, sample_size)\n",
    "random_samples=pd.DataFrame(random_samples)\n",
    "x_1 =pd.DataFrame(random_samples[0])\n",
    "x_2 =pd.DataFrame(random_samples[1])\n",
    "x_3 =pd.DataFrame(random_samples[2])\n",
    "x_4 =pd.DataFrame(random_samples[3])\n",
    "x_5 =pd.DataFrame(random_samples[4])\n",
    "\n",
    "x_teste=pd.concat([x_1,x_2,x_3,x_4,x_5],axis=1)\n",
    "x_teste=pd.DataFrame(x_teste)\n",
    "previsão=model.predict(x_teste)\n",
    "previsão=pd.DataFrame(previsão)\n",
    "nomes_colunas = ['Frequency','Angle','Length','Velocity','Suction Side']\n",
    "nomes_colunas2 = ['Pressure']\n",
    "previsão.columns=nomes_colunas2\n",
    "x_teste.columns = nomes_colunas\n",
    "UMC8=np.std(previsão)\n",
    "MMC8=np.mean(previsão)"
   ]
  },
  {
   "cell_type": "code",
   "execution_count": null,
   "metadata": {},
   "outputs": [],
   "source": [
    "sns.histplot(previsão,)"
   ]
  },
  {
   "cell_type": "code",
   "execution_count": null,
   "metadata": {},
   "outputs": [],
   "source": [
    "# Exemplo de conjunto de dados (pode ser substituído pelos seus próprios dados)\n",
    "dados = previsão['Pressure']\n",
    "dados = sorted(dados)\n",
    "# Calcula a CDF dos dados\n",
    "cdf = np.cumsum(np.ones_like(dados)) / len(dados)\n",
    "p=np.arange(0,0.05,0.0001)\n",
    "x = [] \n",
    "for index, element in enumerate(p):\n",
    "    x.append(element)\n",
    "res=pd.DataFrame(x) \n",
    "def IT(p):\n",
    "    resultado = dados[np.argmax(cdf >= p+0.95)]-dados[np.argmax(cdf >= p)]\n",
    "    return resultado\n",
    "res[0] = res[0].apply(IT)\n",
    "\n",
    "# Plota a CDF\n",
    "plt.plot(dados, cdf, marker='o')\n",
    "plt.xlabel('Valores')\n",
    "plt.ylabel('Probabilidade Acumulada ')\n",
    "plt.title('CDF - Função de Distribuição Acumulada-v8')\n",
    "plt.grid(True)\n",
    "plt.show()\n",
    "\n",
    "minvalue_IT8 = res.min()\n",
    "print(minvalue_IT8)\n",
    "plt.plot(x, res, marker='o')\n",
    "plt.xlabel('Valores')\n",
    "plt.ylabel('Largura do IT')\n",
    "plt.title('Intervalos de Abrangência 95% - v8')\n",
    "plt.grid(True)\n",
    "plt.show()"
   ]
  },
  {
   "cell_type": "code",
   "execution_count": null,
   "metadata": {},
   "outputs": [],
   "source": [
    "res_df=pd.DataFrame(res)\n",
    "res_df[0].idxmpmin=0.005\n",
    "pmin=x[res_df[0].idxmin()]\n",
    "\n",
    "inverse_cdf = interp1d(cdf, dados, kind='linear', fill_value='extrapolate')\n",
    "\n",
    "percentile1 = pmin\n",
    "ymin_8= inverse_cdf(percentile1)\n",
    "percentile2 = pmin+0.95\n",
    "ymax_8= inverse_cdf(percentile2)\n",
    "print(ymin_8)\n",
    "print(ymax_8)"
   ]
  },
  {
   "cell_type": "markdown",
   "metadata": {},
   "source": [
    "# simulação mc v9"
   ]
  },
  {
   "cell_type": "code",
   "execution_count": null,
   "metadata": {},
   "outputs": [],
   "source": [
    "i=9\n",
    "# Defina a média e a matriz de covariância da distribuição multivariada\n",
    "mean = [X_test.iloc[i,0], X_test.iloc[i,1],X_test.iloc[i,2], X_test.iloc[i,3], X_test.iloc[i,4]]  # Média dos valores em cada dimensão\n",
    "cov_matrix = [[upx1**2,        upx1*upx2*r_12,   upx1*upx3*r_13, upx1*upx4*r_14,   upx1*upx5*r_15],\n",
    "              [upx2*upx1*r_21, upx2**2,          upx2*upx3*r_23, upx2*upx4*r_24,   upx2*upx5*r_25],\n",
    "              [upx3*upx1*r_31, upx3*upx2*r_32,   upx3**2,        upx3*upx4*r_34,   upx3*upx5*r_35],\n",
    "              [upx4*upx1*r_41, upx4*upx2*r_42,   upx4*upx3*r_43, upx4**2,          upx4*upx5*r_45],\n",
    "              [upx5*upx1*r_51, upx5*upx2*r_52,   upx5*upx3*r_53, upx5*upx4*r_54,   upx5**2]] #Matriz de covariância através da relação com a correlação\n",
    "\n",
    "# Defina o tamanho da amostra desejada\n",
    "sample_size = 1000000\n",
    "# Gere números aleatórios em uma distribuição multivariada\n",
    "random_samples = np.random.multivariate_normal(mean, cov_matrix, sample_size)\n",
    "random_samples=pd.DataFrame(random_samples)\n",
    "x_1 =pd.DataFrame(random_samples[0])\n",
    "x_2 =pd.DataFrame(random_samples[1])\n",
    "x_3 =pd.DataFrame(random_samples[2])\n",
    "x_4 =pd.DataFrame(random_samples[3])\n",
    "x_5 =pd.DataFrame(random_samples[4])\n",
    "\n",
    "x_teste=pd.concat([x_1,x_2,x_3,x_4,x_5],axis=1)\n",
    "x_teste=pd.DataFrame(x_teste)\n",
    "previsão=model.predict(x_teste)\n",
    "previsão=pd.DataFrame(previsão)\n",
    "nomes_colunas = ['Frequency','Angle','Length','Velocity','Suction Side']\n",
    "nomes_colunas2 = ['Pressure']\n",
    "previsão.columns=nomes_colunas2\n",
    "x_teste.columns = nomes_colunas\n",
    "UMC9=np.std(previsão)\n",
    "MMC9=np.mean(previsão)"
   ]
  },
  {
   "cell_type": "code",
   "execution_count": null,
   "metadata": {},
   "outputs": [],
   "source": [
    "sns.histplot(previsão,)"
   ]
  },
  {
   "cell_type": "code",
   "execution_count": null,
   "metadata": {},
   "outputs": [],
   "source": [
    "# Exemplo de conjunto de dados (pode ser substituído pelos seus próprios dados)\n",
    "dados = previsão['Pressure']\n",
    "dados = sorted(dados)\n",
    "# Calcula a CDF dos dados\n",
    "cdf = np.cumsum(np.ones_like(dados)) / len(dados)\n",
    "p=np.arange(0,0.05,0.0001)\n",
    "x = [] \n",
    "for index, element in enumerate(p):\n",
    "    x.append(element)\n",
    "res=pd.DataFrame(x) \n",
    "def IT(p):\n",
    "    resultado = dados[np.argmax(cdf >= p+0.95)]-dados[np.argmax(cdf >= p)]\n",
    "    return resultado\n",
    "res[0] = res[0].apply(IT)\n",
    "\n",
    "# Plota a CDF\n",
    "plt.plot(dados, cdf, marker='o')\n",
    "plt.xlabel('Valores')\n",
    "plt.ylabel('Probabilidade Acumulada ')\n",
    "plt.title('CDF - Função de Distribuição Acumulada-v9')\n",
    "plt.grid(True)\n",
    "plt.show()\n",
    "\n",
    "minvalue_IT9 = res.min()\n",
    "print(minvalue_IT9)\n",
    "plt.plot(x, res, marker='o')\n",
    "plt.xlabel('Valores')\n",
    "plt.ylabel('Largura do IT')\n",
    "plt.title('Intervalor de Abrangência 95% - v9')\n",
    "plt.grid(True)\n",
    "plt.show()"
   ]
  },
  {
   "cell_type": "code",
   "execution_count": null,
   "metadata": {},
   "outputs": [],
   "source": [
    "res_df=pd.DataFrame(res)\n",
    "res_df[0].idxmpmin=0.005\n",
    "pmin=x[res_df[0].idxmin()]\n",
    "\n",
    "inverse_cdf = interp1d(cdf, dados, kind='linear', fill_value='extrapolate')\n",
    "\n",
    "percentile1 = pmin\n",
    "ymin_9= inverse_cdf(percentile1)\n",
    "percentile2 = pmin+0.95\n",
    "ymax_9= inverse_cdf(percentile2)\n",
    "print(ymin_9)\n",
    "print(ymax_9)"
   ]
  },
  {
   "cell_type": "markdown",
   "metadata": {},
   "source": [
    "# simulação mc v10 "
   ]
  },
  {
   "cell_type": "code",
   "execution_count": null,
   "metadata": {},
   "outputs": [],
   "source": [
    "i=10\n",
    "# Defina a média e a matriz de covariância da distribuição multivariada\n",
    "mean = [X_test.iloc[i,0], X_test.iloc[i,1],X_test.iloc[i,2], X_test.iloc[i,3], X_test.iloc[i,4]]  # Média dos valores em cada dimensão\n",
    "cov_matrix = [[upx1**2,        upx1*upx2*r_12,   upx1*upx3*r_13, upx1*upx4*r_14,   upx1*upx5*r_15],\n",
    "              [upx2*upx1*r_21, upx2**2,          upx2*upx3*r_23, upx2*upx4*r_24,   upx2*upx5*r_25],\n",
    "              [upx3*upx1*r_31, upx3*upx2*r_32,   upx3**2,        upx3*upx4*r_34,   upx3*upx5*r_35],\n",
    "              [upx4*upx1*r_41, upx4*upx2*r_42,   upx4*upx3*r_43, upx4**2,          upx4*upx5*r_45],\n",
    "              [upx5*upx1*r_51, upx5*upx2*r_52,   upx5*upx3*r_53, upx5*upx4*r_54,   upx5**2]] #Matriz de covariância através da relação com a correlação\n",
    "\n",
    "# Defina o tamanho da amostra desejada\n",
    "sample_size = 1000000\n",
    "# Gere números aleatórios em uma distribuição multivariada\n",
    "random_samples = np.random.multivariate_normal(mean, cov_matrix, sample_size)\n",
    "random_samples=pd.DataFrame(random_samples)\n",
    "x_1 =pd.DataFrame(random_samples[0])\n",
    "x_2 =pd.DataFrame(random_samples[1])\n",
    "x_3 =pd.DataFrame(random_samples[2])\n",
    "x_4 =pd.DataFrame(random_samples[3])\n",
    "x_5 =pd.DataFrame(random_samples[4])\n",
    "\n",
    "x_teste=pd.concat([x_1,x_2,x_3,x_4,x_5],axis=1)\n",
    "x_teste=pd.DataFrame(x_teste)\n",
    "previsão=model.predict(x_teste)\n",
    "previsão=pd.DataFrame(previsão)\n",
    "nomes_colunas = ['Frequency','Angle','Length','Velocity','Suction Side']\n",
    "nomes_colunas2 = ['Pressure']\n",
    "previsão.columns=nomes_colunas2\n",
    "x_teste.columns = nomes_colunas\n",
    "UMC10=np.std(previsão)\n",
    "MMC10=np.mean(previsão)"
   ]
  },
  {
   "cell_type": "code",
   "execution_count": null,
   "metadata": {},
   "outputs": [],
   "source": [
    "sns.histplot(previsão,)"
   ]
  },
  {
   "cell_type": "code",
   "execution_count": null,
   "metadata": {},
   "outputs": [],
   "source": [
    "# Exemplo de conjunto de dados (pode ser substituído pelos seus próprios dados)\n",
    "dados = previsão['Pressure']\n",
    "dados = sorted(dados)\n",
    "# Calcula a CDF dos dados\n",
    "cdf = np.cumsum(np.ones_like(dados)) / len(dados)\n",
    "p=np.arange(0,0.05,0.0001)\n",
    "x = [] \n",
    "for index, element in enumerate(p):\n",
    "    x.append(element)\n",
    "res=pd.DataFrame(x) \n",
    "def IT(p):\n",
    "    resultado = dados[np.argmax(cdf >= p+0.95)]-dados[np.argmax(cdf >= p)]\n",
    "    return resultado\n",
    "res[0] = res[0].apply(IT)\n",
    "\n",
    "# Plota a CDF\n",
    "plt.plot(dados, cdf, marker='o')\n",
    "plt.xlabel('Valores')\n",
    "plt.ylabel('Probabilidade Acumulada ')\n",
    "plt.title('CDF - Função de Distribuição Acumulada-v10')\n",
    "plt.grid(True)\n",
    "plt.show()\n",
    "\n",
    "minvalue_IT10 = res.min()\n",
    "print(minvalue_IT10)\n",
    "plt.plot(x, res, marker='o')\n",
    "plt.xlabel('Valores')\n",
    "plt.ylabel('Largura do IT')\n",
    "plt.title('Intervalos de Abrangência 95% - v10')\n",
    "plt.grid(True)\n",
    "plt.show()"
   ]
  },
  {
   "cell_type": "code",
   "execution_count": null,
   "metadata": {},
   "outputs": [],
   "source": [
    "res_df=pd.DataFrame(res)\n",
    "res_df[0].idxmpmin=0.005\n",
    "pmin=x[res_df[0].idxmin()]\n",
    "\n",
    "inverse_cdf = interp1d(cdf, dados, kind='linear', fill_value='extrapolate')\n",
    "\n",
    "percentile1 = pmin\n",
    "ymin_10= inverse_cdf(percentile1)\n",
    "percentile2 = pmin+0.95\n",
    "ymax_10= inverse_cdf(percentile2)\n",
    "print(ymin_10)\n",
    "print(ymax_10)"
   ]
  },
  {
   "cell_type": "markdown",
   "metadata": {},
   "source": [
    "# simulação mc v11 "
   ]
  },
  {
   "cell_type": "code",
   "execution_count": null,
   "metadata": {},
   "outputs": [],
   "source": [
    "i=11\n",
    "# Defina a média e a matriz de covariância da distribuição multivariada\n",
    "mean = [X_test.iloc[i,0], X_test.iloc[i,1],X_test.iloc[i,2], X_test.iloc[i,3], X_test.iloc[i,4]]  # Média dos valores em cada dimensão\n",
    "cov_matrix = [[upx1**2,        upx1*upx2*r_12,   upx1*upx3*r_13, upx1*upx4*r_14,   upx1*upx5*r_15],\n",
    "              [upx2*upx1*r_21, upx2**2,          upx2*upx3*r_23, upx2*upx4*r_24,   upx2*upx5*r_25],\n",
    "              [upx3*upx1*r_31, upx3*upx2*r_32,   upx3**2,        upx3*upx4*r_34,   upx3*upx5*r_35],\n",
    "              [upx4*upx1*r_41, upx4*upx2*r_42,   upx4*upx3*r_43, upx4**2,          upx4*upx5*r_45],\n",
    "              [upx5*upx1*r_51, upx5*upx2*r_52,   upx5*upx3*r_53, upx5*upx4*r_54,   upx5**2]] #Matriz de covariância através da relação com a correlação\n",
    "\n",
    "# Defina o tamanho da amostra desejada\n",
    "sample_size = 1000000\n",
    "# Gere números aleatórios em uma distribuição multivariada\n",
    "random_samples = np.random.multivariate_normal(mean, cov_matrix, sample_size)\n",
    "random_samples=pd.DataFrame(random_samples)\n",
    "x_1 =pd.DataFrame(random_samples[0])\n",
    "x_2 =pd.DataFrame(random_samples[1])\n",
    "x_3 =pd.DataFrame(random_samples[2])\n",
    "x_4 =pd.DataFrame(random_samples[3])\n",
    "x_5 =pd.DataFrame(random_samples[4])\n",
    "\n",
    "x_teste=pd.concat([x_1,x_2,x_3,x_4,x_5],axis=1)\n",
    "x_teste=pd.DataFrame(x_teste)\n",
    "previsão=model.predict(x_teste)\n",
    "previsão=pd.DataFrame(previsão)\n",
    "nomes_colunas = ['Frequency','Angle','Length','Velocity','Suction Side']\n",
    "nomes_colunas2 = ['Pressure']\n",
    "previsão.columns=nomes_colunas2\n",
    "x_teste.columns = nomes_colunas\n",
    "UMC11=np.std(previsão)\n",
    "MMC11=np.mean(previsão)"
   ]
  },
  {
   "cell_type": "code",
   "execution_count": null,
   "metadata": {},
   "outputs": [],
   "source": [
    "sns.histplot(previsão,)"
   ]
  },
  {
   "cell_type": "code",
   "execution_count": null,
   "metadata": {},
   "outputs": [],
   "source": [
    "# Exemplo de conjunto de dados (pode ser substituído pelos seus próprios dados)\n",
    "dados = previsão['Pressure']\n",
    "dados = sorted(dados)\n",
    "# Calcula a CDF dos dados\n",
    "cdf = np.cumsum(np.ones_like(dados)) / len(dados)\n",
    "p=np.arange(0,0.05,0.0001)\n",
    "x = [] \n",
    "for index, element in enumerate(p):\n",
    "    x.append(element)\n",
    "res=pd.DataFrame(x) \n",
    "def IT(p):\n",
    "    resultado = dados[np.argmax(cdf >= p+0.95)]-dados[np.argmax(cdf >= p)]\n",
    "    return resultado\n",
    "res[0] = res[0].apply(IT)\n",
    "\n",
    "# Plota a CDF\n",
    "plt.plot(dados, cdf, marker='o')\n",
    "plt.xlabel('Valores')\n",
    "plt.ylabel('Probabilidade Acumulada ')\n",
    "plt.title('CDF - Função de Distribuição Acumulada-v11')\n",
    "plt.grid(True)\n",
    "plt.show()\n",
    "\n",
    "minvalue_IT11 = res.min()\n",
    "print(minvalue_IT11)\n",
    "plt.plot(x, res, marker='o')\n",
    "plt.xlabel('Valores')\n",
    "plt.ylabel('Largura do IT')\n",
    "plt.title('Intervalos de Abrangência 95% - v11')\n",
    "plt.grid(True)\n",
    "plt.show()"
   ]
  },
  {
   "cell_type": "code",
   "execution_count": null,
   "metadata": {},
   "outputs": [],
   "source": [
    "res_df=pd.DataFrame(res)\n",
    "res_df[0].idxmpmin=0.005\n",
    "pmin=x[res_df[0].idxmin()]\n",
    "\n",
    "inverse_cdf = interp1d(cdf, dados, kind='linear', fill_value='extrapolate')\n",
    "\n",
    "percentile1 = pmin\n",
    "ymin_11= inverse_cdf(percentile1)\n",
    "percentile2 = pmin+0.95\n",
    "ymax_11= inverse_cdf(percentile2)\n",
    "print(ymin_11)\n",
    "print(ymax_11)"
   ]
  },
  {
   "cell_type": "markdown",
   "metadata": {},
   "source": [
    "# simulação mc v12 "
   ]
  },
  {
   "cell_type": "code",
   "execution_count": null,
   "metadata": {},
   "outputs": [],
   "source": [
    "i=12\n",
    "# Defina a média e a matriz de covariância da distribuição multivariada\n",
    "mean = [X_test.iloc[i,0], X_test.iloc[i,1],X_test.iloc[i,2], X_test.iloc[i,3], X_test.iloc[i,4]]  # Média dos valores em cada dimensão\n",
    "cov_matrix = [[upx1**2,        upx1*upx2*r_12,   upx1*upx3*r_13, upx1*upx4*r_14,   upx1*upx5*r_15],\n",
    "              [upx2*upx1*r_21, upx2**2,          upx2*upx3*r_23, upx2*upx4*r_24,   upx2*upx5*r_25],\n",
    "              [upx3*upx1*r_31, upx3*upx2*r_32,   upx3**2,        upx3*upx4*r_34,   upx3*upx5*r_35],\n",
    "              [upx4*upx1*r_41, upx4*upx2*r_42,   upx4*upx3*r_43, upx4**2,          upx4*upx5*r_45],\n",
    "              [upx5*upx1*r_51, upx5*upx2*r_52,   upx5*upx3*r_53, upx5*upx4*r_54,   upx5**2]] #Matriz de covariância através da relação com a correlação\n",
    "\n",
    "# Defina o tamanho da amostra desejada\n",
    "sample_size = 1000000\n",
    "# Gere números aleatórios em uma distribuição multivariada\n",
    "random_samples = np.random.multivariate_normal(mean, cov_matrix, sample_size)\n",
    "random_samples=pd.DataFrame(random_samples)\n",
    "x_1 =pd.DataFrame(random_samples[0])\n",
    "x_2 =pd.DataFrame(random_samples[1])\n",
    "x_3 =pd.DataFrame(random_samples[2])\n",
    "x_4 =pd.DataFrame(random_samples[3])\n",
    "x_5 =pd.DataFrame(random_samples[4])\n",
    "\n",
    "x_teste=pd.concat([x_1,x_2,x_3,x_4,x_5],axis=1)\n",
    "x_teste=pd.DataFrame(x_teste)\n",
    "previsão=model.predict(x_teste)\n",
    "previsão=pd.DataFrame(previsão)\n",
    "nomes_colunas = ['Frequency','Angle','Length','Velocity','Suction Side']\n",
    "nomes_colunas2 = ['Pressure']\n",
    "previsão.columns=nomes_colunas2\n",
    "x_teste.columns = nomes_colunas\n",
    "UMC12=np.std(previsão)\n",
    "MMC12=np.mean(previsão)"
   ]
  },
  {
   "cell_type": "code",
   "execution_count": null,
   "metadata": {},
   "outputs": [],
   "source": [
    "sns.histplot(previsão,)"
   ]
  },
  {
   "cell_type": "code",
   "execution_count": null,
   "metadata": {},
   "outputs": [],
   "source": [
    "# Exemplo de conjunto de dados (pode ser substituído pelos seus próprios dados)\n",
    "dados = previsão['Pressure']\n",
    "dados = sorted(dados)\n",
    "# Calcula a CDF dos dados\n",
    "cdf = np.cumsum(np.ones_like(dados)) / len(dados)\n",
    "p=np.arange(0,0.05,0.0001)\n",
    "x = [] \n",
    "for index, element in enumerate(p):\n",
    "    x.append(element)\n",
    "res=pd.DataFrame(x) \n",
    "def IT(p):\n",
    "    resultado = dados[np.argmax(cdf >= p+0.95)]-dados[np.argmax(cdf >= p)]\n",
    "    return resultado\n",
    "res[0] = res[0].apply(IT)\n",
    "\n",
    "# Plota a CDF\n",
    "plt.plot(dados, cdf, marker='o')\n",
    "plt.xlabel('Valores')\n",
    "plt.ylabel('Probabilidade Acumulada ')\n",
    "plt.title('CDF - Função de Distribuição Acumulada-v12')\n",
    "plt.grid(True)\n",
    "plt.show()\n",
    "\n",
    "minvalue_IT12 = res.min()\n",
    "print(minvalue_IT12)\n",
    "plt.plot(x, res, marker='o')\n",
    "plt.xlabel('Valores')\n",
    "plt.ylabel('Largura do IT')\n",
    "plt.title('Intervalos de Abrangência 95% - v12')\n",
    "plt.grid(True)\n",
    "plt.show()"
   ]
  },
  {
   "cell_type": "code",
   "execution_count": null,
   "metadata": {},
   "outputs": [],
   "source": [
    "res_df=pd.DataFrame(res)\n",
    "res_df[0].idxmpmin=0.005\n",
    "pmin=x[res_df[0].idxmin()]\n",
    "\n",
    "inverse_cdf = interp1d(cdf, dados, kind='linear', fill_value='extrapolate')\n",
    "\n",
    "percentile1 = pmin\n",
    "ymin_12= inverse_cdf(percentile1)\n",
    "percentile2 = pmin+0.95\n",
    "ymax_12= inverse_cdf(percentile2)\n",
    "print(ymin_12)\n",
    "print(ymax_12)"
   ]
  },
  {
   "cell_type": "markdown",
   "metadata": {},
   "source": [
    "# simulação mc v13 "
   ]
  },
  {
   "cell_type": "code",
   "execution_count": null,
   "metadata": {},
   "outputs": [],
   "source": [
    "i=13\n",
    "# Defina a média e a matriz de covariância da distribuição multivariada\n",
    "mean = [X_test.iloc[i,0], X_test.iloc[i,1],X_test.iloc[i,2], X_test.iloc[i,3], X_test.iloc[i,4]]  # Média dos valores em cada dimensão\n",
    "cov_matrix = [[upx1**2,        upx1*upx2*r_12,   upx1*upx3*r_13, upx1*upx4*r_14,   upx1*upx5*r_15],\n",
    "              [upx2*upx1*r_21, upx2**2,          upx2*upx3*r_23, upx2*upx4*r_24,   upx2*upx5*r_25],\n",
    "              [upx3*upx1*r_31, upx3*upx2*r_32,   upx3**2,        upx3*upx4*r_34,   upx3*upx5*r_35],\n",
    "              [upx4*upx1*r_41, upx4*upx2*r_42,   upx4*upx3*r_43, upx4**2,          upx4*upx5*r_45],\n",
    "              [upx5*upx1*r_51, upx5*upx2*r_52,   upx5*upx3*r_53, upx5*upx4*r_54,   upx5**2]] #Matriz de covariância através da relação com a correlação\n",
    "\n",
    "# Defina o tamanho da amostra desejada\n",
    "sample_size = 1000000\n",
    "# Gere números aleatórios em uma distribuição multivariada\n",
    "random_samples = np.random.multivariate_normal(mean, cov_matrix, sample_size)\n",
    "random_samples=pd.DataFrame(random_samples)\n",
    "x_1 =pd.DataFrame(random_samples[0])\n",
    "x_2 =pd.DataFrame(random_samples[1])\n",
    "x_3 =pd.DataFrame(random_samples[2])\n",
    "x_4 =pd.DataFrame(random_samples[3])\n",
    "x_5 =pd.DataFrame(random_samples[4])\n",
    "\n",
    "x_teste=pd.concat([x_1,x_2,x_3,x_4,x_5],axis=1)\n",
    "x_teste=pd.DataFrame(x_teste)\n",
    "previsão=model.predict(x_teste)\n",
    "previsão=pd.DataFrame(previsão)\n",
    "nomes_colunas = ['Frequency','Angle','Length','Velocity','Suction Side']\n",
    "nomes_colunas2 = ['Pressure']\n",
    "previsão.columns=nomes_colunas2\n",
    "x_teste.columns = nomes_colunas\n",
    "UMC13=np.std(previsão)\n",
    "MMC13=np.mean(previsão)"
   ]
  },
  {
   "cell_type": "code",
   "execution_count": null,
   "metadata": {},
   "outputs": [],
   "source": [
    "sns.histplot(previsão,)"
   ]
  },
  {
   "cell_type": "code",
   "execution_count": null,
   "metadata": {},
   "outputs": [],
   "source": [
    "# Exemplo de conjunto de dados (pode ser substituído pelos seus próprios dados)\n",
    "dados = previsão['Pressure']\n",
    "dados = sorted(dados)\n",
    "# Calcula a CDF dos dados\n",
    "cdf = np.cumsum(np.ones_like(dados)) / len(dados)\n",
    "p=np.arange(0,0.05,0.0001)\n",
    "x = [] \n",
    "for index, element in enumerate(p):\n",
    "    x.append(element)\n",
    "res=pd.DataFrame(x) \n",
    "def IT(p):\n",
    "    resultado = dados[np.argmax(cdf >= p+0.95)]-dados[np.argmax(cdf >= p)]\n",
    "    return resultado\n",
    "res[0] = res[0].apply(IT)\n",
    "\n",
    "# Plota a CDF\n",
    "plt.plot(dados, cdf, marker='o')\n",
    "plt.xlabel('Valores')\n",
    "plt.ylabel('Probabilidade Acumulada ')\n",
    "plt.title('CDF - Função de Distribuição Acumulada-v13')\n",
    "plt.grid(True)\n",
    "plt.show()\n",
    "\n",
    "minvalue_IT13 = res.min()\n",
    "print(minvalue_IT13)\n",
    "plt.plot(x, res, marker='o')\n",
    "plt.xlabel('Valores')\n",
    "plt.ylabel('Largura do IT')\n",
    "plt.title('Intervalos de Abrangência 95% - v13')\n",
    "plt.grid(True)\n",
    "plt.show()"
   ]
  },
  {
   "cell_type": "code",
   "execution_count": null,
   "metadata": {},
   "outputs": [],
   "source": [
    "res_df=pd.DataFrame(res)\n",
    "res_df[0].idxmpmin=0.005\n",
    "pmin=x[res_df[0].idxmin()]\n",
    "\n",
    "inverse_cdf = interp1d(cdf, dados, kind='linear', fill_value='extrapolate')\n",
    "\n",
    "percentile1 = pmin\n",
    "ymin_13= inverse_cdf(percentile1)\n",
    "percentile2 = pmin+0.95\n",
    "ymax_13= inverse_cdf(percentile2)\n",
    "print(ymin_13)\n",
    "print(ymax_13)"
   ]
  },
  {
   "cell_type": "markdown",
   "metadata": {},
   "source": [
    "# simulação mc v14 "
   ]
  },
  {
   "cell_type": "code",
   "execution_count": null,
   "metadata": {},
   "outputs": [],
   "source": [
    "i=14\n",
    "# Defina a média e a matriz de covariância da distribuição multivariada\n",
    "mean = [X_test.iloc[i,0], X_test.iloc[i,1],X_test.iloc[i,2], X_test.iloc[i,3], X_test.iloc[i,4]]  # Média dos valores em cada dimensão\n",
    "cov_matrix = [[upx1**2,        upx1*upx2*r_12,   upx1*upx3*r_13, upx1*upx4*r_14,   upx1*upx5*r_15],\n",
    "              [upx2*upx1*r_21, upx2**2,          upx2*upx3*r_23, upx2*upx4*r_24,   upx2*upx5*r_25],\n",
    "              [upx3*upx1*r_31, upx3*upx2*r_32,   upx3**2,        upx3*upx4*r_34,   upx3*upx5*r_35],\n",
    "              [upx4*upx1*r_41, upx4*upx2*r_42,   upx4*upx3*r_43, upx4**2,          upx4*upx5*r_45],\n",
    "              [upx5*upx1*r_51, upx5*upx2*r_52,   upx5*upx3*r_53, upx5*upx4*r_54,   upx5**2]] #Matriz de covariância através da relação com a correlação\n",
    "\n",
    "# Defina o tamanho da amostra desejada\n",
    "sample_size = 1000000\n",
    "# Gere números aleatórios em uma distribuição multivariada\n",
    "random_samples = np.random.multivariate_normal(mean, cov_matrix, sample_size)\n",
    "random_samples=pd.DataFrame(random_samples)\n",
    "x_1 =pd.DataFrame(random_samples[0])\n",
    "x_2 =pd.DataFrame(random_samples[1])\n",
    "x_3 =pd.DataFrame(random_samples[2])\n",
    "x_4 =pd.DataFrame(random_samples[3])\n",
    "x_5 =pd.DataFrame(random_samples[4])\n",
    "\n",
    "x_teste=pd.concat([x_1,x_2,x_3,x_4,x_5],axis=1)\n",
    "x_teste=pd.DataFrame(x_teste)\n",
    "previsão=model.predict(x_teste)\n",
    "previsão=pd.DataFrame(previsão)\n",
    "nomes_colunas = ['Frequency','Angle','Length','Velocity','Suction Side']\n",
    "nomes_colunas2 = ['Pressure']\n",
    "previsão.columns=nomes_colunas2\n",
    "x_teste.columns = nomes_colunas\n",
    "UMC14=np.std(previsão)\n",
    "MMC14=np.mean(previsão)"
   ]
  },
  {
   "cell_type": "code",
   "execution_count": null,
   "metadata": {},
   "outputs": [],
   "source": [
    "sns.histplot(previsão,)"
   ]
  },
  {
   "cell_type": "code",
   "execution_count": null,
   "metadata": {},
   "outputs": [],
   "source": [
    "# Exemplo de conjunto de dados (pode ser substituído pelos seus próprios dados)\n",
    "dados = previsão['Pressure']\n",
    "dados = sorted(dados)\n",
    "# Calcula a CDF dos dados\n",
    "cdf = np.cumsum(np.ones_like(dados)) / len(dados)\n",
    "p=np.arange(0,0.05,0.0001)\n",
    "x = [] \n",
    "for index, element in enumerate(p):\n",
    "    x.append(element)\n",
    "res=pd.DataFrame(x) \n",
    "def IT(p):\n",
    "    resultado = dados[np.argmax(cdf >= p+0.95)]-dados[np.argmax(cdf >= p)]\n",
    "    return resultado\n",
    "res[0] = res[0].apply(IT)\n",
    "\n",
    "# Plota a CDF\n",
    "plt.plot(dados, cdf, marker='o')\n",
    "plt.xlabel('Valores')\n",
    "plt.ylabel('Probabilidade Acumulada ')\n",
    "plt.title('CDF - Função de Distribuição Acumulada-v14')\n",
    "plt.grid(True)\n",
    "plt.show()\n",
    "\n",
    "minvalue_IT14 = res.min()\n",
    "print(minvalue_IT14)\n",
    "plt.plot(x, res, marker='o')\n",
    "plt.xlabel('Valores')\n",
    "plt.ylabel('Largura do IT')\n",
    "plt.title('Intervalos de Abrangência 95% - v14')\n",
    "plt.grid(True)\n",
    "plt.show()"
   ]
  },
  {
   "cell_type": "code",
   "execution_count": null,
   "metadata": {},
   "outputs": [],
   "source": [
    "res_df=pd.DataFrame(res)\n",
    "res_df[0].idxmpmin=0.005\n",
    "pmin=x[res_df[0].idxmin()]\n",
    "\n",
    "inverse_cdf = interp1d(cdf, dados, kind='linear', fill_value='extrapolate')\n",
    "\n",
    "percentile1 = pmin\n",
    "ymin_14= inverse_cdf(percentile1)\n",
    "percentile2 = pmin+0.95\n",
    "ymax_14= inverse_cdf(percentile2)\n",
    "print(ymin_14)\n",
    "print(ymax_14)"
   ]
  },
  {
   "cell_type": "markdown",
   "metadata": {},
   "source": [
    "# simulação mc v15 "
   ]
  },
  {
   "cell_type": "code",
   "execution_count": null,
   "metadata": {},
   "outputs": [],
   "source": [
    "i=15\n",
    "# Defina a média e a matriz de covariância da distribuição multivariada\n",
    "mean = [X_test.iloc[i,0], X_test.iloc[i,1],X_test.iloc[i,2], X_test.iloc[i,3], X_test.iloc[i,4]]  # Média dos valores em cada dimensão\n",
    "cov_matrix = [[upx1**2,        upx1*upx2*r_12,   upx1*upx3*r_13, upx1*upx4*r_14,   upx1*upx5*r_15],\n",
    "              [upx2*upx1*r_21, upx2**2,          upx2*upx3*r_23, upx2*upx4*r_24,   upx2*upx5*r_25],\n",
    "              [upx3*upx1*r_31, upx3*upx2*r_32,   upx3**2,        upx3*upx4*r_34,   upx3*upx5*r_35],\n",
    "              [upx4*upx1*r_41, upx4*upx2*r_42,   upx4*upx3*r_43, upx4**2,          upx4*upx5*r_45],\n",
    "              [upx5*upx1*r_51, upx5*upx2*r_52,   upx5*upx3*r_53, upx5*upx4*r_54,   upx5**2]] #Matriz de covariância através da relação com a correlação\n",
    "\n",
    "# Defina o tamanho da amostra desejada\n",
    "sample_size = 1000000\n",
    "# Gere números aleatórios em uma distribuição multivariada\n",
    "random_samples = np.random.multivariate_normal(mean, cov_matrix, sample_size)\n",
    "random_samples=pd.DataFrame(random_samples)\n",
    "x_1 =pd.DataFrame(random_samples[0])\n",
    "x_2 =pd.DataFrame(random_samples[1])\n",
    "x_3 =pd.DataFrame(random_samples[2])\n",
    "x_4 =pd.DataFrame(random_samples[3])\n",
    "x_5 =pd.DataFrame(random_samples[4])\n",
    "\n",
    "x_teste=pd.concat([x_1,x_2,x_3,x_4,x_5],axis=1)\n",
    "x_teste=pd.DataFrame(x_teste)\n",
    "previsão=model.predict(x_teste)\n",
    "previsão=pd.DataFrame(previsão)\n",
    "nomes_colunas = ['Frequency','Angle','Length','Velocity','Suction Side']\n",
    "nomes_colunas2 = ['Pressure']\n",
    "previsão.columns=nomes_colunas2\n",
    "x_teste.columns = nomes_colunas\n",
    "UMC15=np.std(previsão)\n",
    "MMC15=np.mean(previsão)"
   ]
  },
  {
   "cell_type": "code",
   "execution_count": null,
   "metadata": {},
   "outputs": [],
   "source": [
    "sns.histplot(previsão,)"
   ]
  },
  {
   "cell_type": "code",
   "execution_count": null,
   "metadata": {},
   "outputs": [],
   "source": [
    "# Exemplo de conjunto de dados (pode ser substituído pelos seus próprios dados)\n",
    "dados = previsão['Pressure']\n",
    "dados = sorted(dados)\n",
    "# Calcula a CDF dos dados\n",
    "cdf = np.cumsum(np.ones_like(dados)) / len(dados)\n",
    "p=np.arange(0,0.05,0.0001)\n",
    "x = [] \n",
    "for index, element in enumerate(p):\n",
    "    x.append(element)\n",
    "res=pd.DataFrame(x) \n",
    "def IT(p):\n",
    "    resultado = dados[np.argmax(cdf >= p+0.95)]-dados[np.argmax(cdf >= p)]\n",
    "    return resultado\n",
    "res[0] = res[0].apply(IT)\n",
    "\n",
    "# Plota a CDF\n",
    "plt.plot(dados, cdf, marker='o')\n",
    "plt.xlabel('Valores')\n",
    "plt.ylabel('Probabilidade Acumulada ')\n",
    "plt.title('CDF - Função de Distribuição Acumulada-v15')\n",
    "plt.grid(True)\n",
    "plt.show()\n",
    "\n",
    "minvalue_IT15 = res.min()\n",
    "print(minvalue_IT15)\n",
    "plt.plot(x, res, marker='o')\n",
    "plt.xlabel('Valores')\n",
    "plt.ylabel('Largura do IT')\n",
    "plt.title('Intervalos de Abrangência 95% - v15')\n",
    "plt.grid(True)\n",
    "plt.show()"
   ]
  },
  {
   "cell_type": "code",
   "execution_count": null,
   "metadata": {},
   "outputs": [],
   "source": [
    "res_df=pd.DataFrame(res)\n",
    "res_df[0].idxmpmin=0.005\n",
    "pmin=x[res_df[0].idxmin()]\n",
    "\n",
    "inverse_cdf = interp1d(cdf, dados, kind='linear', fill_value='extrapolate')\n",
    "\n",
    "percentile1 = pmin\n",
    "ymin_15= inverse_cdf(percentile1)\n",
    "percentile2 = pmin+0.95\n",
    "ymax_15= inverse_cdf(percentile2)\n",
    "print(ymin_15)\n",
    "print(ymax_15)"
   ]
  },
  {
   "cell_type": "markdown",
   "metadata": {},
   "source": [
    "# simulação mc v16 "
   ]
  },
  {
   "cell_type": "code",
   "execution_count": null,
   "metadata": {},
   "outputs": [],
   "source": [
    "i=16\n",
    "# Defina a média e a matriz de covariância da distribuição multivariada\n",
    "mean = [X_test.iloc[i,0], X_test.iloc[i,1],X_test.iloc[i,2], X_test.iloc[i,3], X_test.iloc[i,4]]  # Média dos valores em cada dimensão\n",
    "cov_matrix = [[upx1**2,        upx1*upx2*r_12,   upx1*upx3*r_13, upx1*upx4*r_14,   upx1*upx5*r_15],\n",
    "              [upx2*upx1*r_21, upx2**2,          upx2*upx3*r_23, upx2*upx4*r_24,   upx2*upx5*r_25],\n",
    "              [upx3*upx1*r_31, upx3*upx2*r_32,   upx3**2,        upx3*upx4*r_34,   upx3*upx5*r_35],\n",
    "              [upx4*upx1*r_41, upx4*upx2*r_42,   upx4*upx3*r_43, upx4**2,          upx4*upx5*r_45],\n",
    "              [upx5*upx1*r_51, upx5*upx2*r_52,   upx5*upx3*r_53, upx5*upx4*r_54,   upx5**2]] #Matriz de covariância através da relação com a correlação\n",
    "\n",
    "# Defina o tamanho da amostra desejada\n",
    "sample_size = 1000000\n",
    "# Gere números aleatórios em uma distribuição multivariada\n",
    "random_samples = np.random.multivariate_normal(mean, cov_matrix, sample_size)\n",
    "random_samples=pd.DataFrame(random_samples)\n",
    "x_1 =pd.DataFrame(random_samples[0])\n",
    "x_2 =pd.DataFrame(random_samples[1])\n",
    "x_3 =pd.DataFrame(random_samples[2])\n",
    "x_4 =pd.DataFrame(random_samples[3])\n",
    "x_5 =pd.DataFrame(random_samples[4])\n",
    "\n",
    "x_teste=pd.concat([x_1,x_2,x_3,x_4,x_5],axis=1)\n",
    "x_teste=pd.DataFrame(x_teste)\n",
    "previsão=model.predict(x_teste)\n",
    "previsão=pd.DataFrame(previsão)\n",
    "nomes_colunas = ['Frequency','Angle','Length','Velocity','Suction Side']\n",
    "nomes_colunas2 = ['Pressure']\n",
    "previsão.columns=nomes_colunas2\n",
    "x_teste.columns = nomes_colunas\n",
    "UMC16=np.std(previsão)\n",
    "MMC16=np.mean(previsão)"
   ]
  },
  {
   "cell_type": "code",
   "execution_count": null,
   "metadata": {},
   "outputs": [],
   "source": [
    "sns.histplot(previsão,)"
   ]
  },
  {
   "cell_type": "code",
   "execution_count": null,
   "metadata": {},
   "outputs": [],
   "source": [
    "# Exemplo de conjunto de dados (pode ser substituído pelos seus próprios dados)\n",
    "dados = previsão['Pressure']\n",
    "dados = sorted(dados)\n",
    "# Calcula a CDF dos dados\n",
    "cdf = np.cumsum(np.ones_like(dados)) / len(dados)\n",
    "p=np.arange(0,0.05,0.0001)\n",
    "x = [] \n",
    "for index, element in enumerate(p):\n",
    "    x.append(element)\n",
    "res=pd.DataFrame(x) \n",
    "def IT(p):\n",
    "    resultado = dados[np.argmax(cdf >= p+0.95)]-dados[np.argmax(cdf >= p)]\n",
    "    return resultado\n",
    "res[0] = res[0].apply(IT)\n",
    "\n",
    "# Plota a CDF\n",
    "plt.plot(dados, cdf, marker='o')\n",
    "plt.xlabel('Valores')\n",
    "plt.ylabel('Probabilidade Acumulada ')\n",
    "plt.title('CDF - Função de Distribuição Acumulada-v16')\n",
    "plt.grid(True)\n",
    "plt.show()\n",
    "\n",
    "minvalue_IT16 = res.min()\n",
    "print(minvalue_IT16)\n",
    "plt.plot(x, res, marker='o')\n",
    "plt.xlabel('Valores')\n",
    "plt.ylabel('Largura do IT')\n",
    "plt.title('Intervalos de Abrangência 95% - v16')\n",
    "plt.grid(True)\n",
    "plt.show()"
   ]
  },
  {
   "cell_type": "code",
   "execution_count": null,
   "metadata": {},
   "outputs": [],
   "source": [
    "res_df=pd.DataFrame(res)\n",
    "res_df[0].idxmpmin=0.005\n",
    "pmin=x[res_df[0].idxmin()]\n",
    "\n",
    "inverse_cdf = interp1d(cdf, dados, kind='linear', fill_value='extrapolate')\n",
    "\n",
    "percentile1 = pmin\n",
    "ymin_16= inverse_cdf(percentile1)\n",
    "percentile2 = pmin+0.95\n",
    "ymax_16= inverse_cdf(percentile2)\n",
    "print(ymin_16)\n",
    "print(ymax_16)"
   ]
  },
  {
   "cell_type": "markdown",
   "metadata": {},
   "source": [
    "# simulação mc v17 "
   ]
  },
  {
   "cell_type": "code",
   "execution_count": null,
   "metadata": {},
   "outputs": [],
   "source": [
    "i=17\n",
    "# Defina a média e a matriz de covariância da distribuição multivariada\n",
    "mean = [X_test.iloc[i,0], X_test.iloc[i,1],X_test.iloc[i,2], X_test.iloc[i,3], X_test.iloc[i,4]]  # Média dos valores em cada dimensão\n",
    "cov_matrix = [[upx1**2,        upx1*upx2*r_12,   upx1*upx3*r_13, upx1*upx4*r_14,   upx1*upx5*r_15],\n",
    "              [upx2*upx1*r_21, upx2**2,          upx2*upx3*r_23, upx2*upx4*r_24,   upx2*upx5*r_25],\n",
    "              [upx3*upx1*r_31, upx3*upx2*r_32,   upx3**2,        upx3*upx4*r_34,   upx3*upx5*r_35],\n",
    "              [upx4*upx1*r_41, upx4*upx2*r_42,   upx4*upx3*r_43, upx4**2,          upx4*upx5*r_45],\n",
    "              [upx5*upx1*r_51, upx5*upx2*r_52,   upx5*upx3*r_53, upx5*upx4*r_54,   upx5**2]] #Matriz de covariância através da relação com a correlação\n",
    "\n",
    "# Defina o tamanho da amostra desejada\n",
    "sample_size = 1000000\n",
    "# Gere números aleatórios em uma distribuição multivariada\n",
    "random_samples = np.random.multivariate_normal(mean, cov_matrix, sample_size)\n",
    "random_samples=pd.DataFrame(random_samples)\n",
    "x_1 =pd.DataFrame(random_samples[0])\n",
    "x_2 =pd.DataFrame(random_samples[1])\n",
    "x_3 =pd.DataFrame(random_samples[2])\n",
    "x_4 =pd.DataFrame(random_samples[3])\n",
    "x_5 =pd.DataFrame(random_samples[4])\n",
    "\n",
    "x_teste=pd.concat([x_1,x_2,x_3,x_4,x_5],axis=1)\n",
    "x_teste=pd.DataFrame(x_teste)\n",
    "previsão=model.predict(x_teste)\n",
    "previsão=pd.DataFrame(previsão)\n",
    "nomes_colunas = ['Frequency','Angle','Length','Velocity','Suction Side']\n",
    "nomes_colunas2 = ['Pressure']\n",
    "previsão.columns=nomes_colunas2\n",
    "x_teste.columns = nomes_colunas\n",
    "UMC17=np.std(previsão)\n",
    "MMC17=np.mean(previsão)"
   ]
  },
  {
   "cell_type": "code",
   "execution_count": null,
   "metadata": {},
   "outputs": [],
   "source": [
    "sns.histplot(previsão,)"
   ]
  },
  {
   "cell_type": "code",
   "execution_count": null,
   "metadata": {},
   "outputs": [],
   "source": [
    "# Exemplo de conjunto de dados (pode ser substituído pelos seus próprios dados)\n",
    "dados = previsão['Pressure']\n",
    "dados = sorted(dados)\n",
    "# Calcula a CDF dos dados\n",
    "cdf = np.cumsum(np.ones_like(dados)) / len(dados)\n",
    "p=np.arange(0,0.05,0.0001)\n",
    "x = [] \n",
    "for index, element in enumerate(p):\n",
    "    x.append(element)\n",
    "res=pd.DataFrame(x) \n",
    "def IT(p):\n",
    "    resultado = dados[np.argmax(cdf >= p+0.95)]-dados[np.argmax(cdf >= p)]\n",
    "    return resultado\n",
    "res[0] = res[0].apply(IT)\n",
    "\n",
    "# Plota a CDF\n",
    "plt.plot(dados, cdf, marker='o')\n",
    "plt.xlabel('Valores')\n",
    "plt.ylabel('Probabilidade Acumulada ')\n",
    "plt.title('CDF - Função de Distribuição Acumulada-v17')\n",
    "plt.grid(True)\n",
    "plt.show()\n",
    "\n",
    "minvalue_IT17 = res.min()\n",
    "print(minvalue_IT17)\n",
    "plt.plot(x, res, marker='o')\n",
    "plt.xlabel('Valores')\n",
    "plt.ylabel('Largura do IT')\n",
    "plt.title('Intervalos de Abrangência 95% - v17')\n",
    "plt.grid(True)\n",
    "plt.show()"
   ]
  },
  {
   "cell_type": "code",
   "execution_count": null,
   "metadata": {},
   "outputs": [],
   "source": [
    "res_df=pd.DataFrame(res)\n",
    "res_df[0].idxmpmin=0.005\n",
    "pmin=x[res_df[0].idxmin()]\n",
    "\n",
    "inverse_cdf = interp1d(cdf, dados, kind='linear', fill_value='extrapolate')\n",
    "\n",
    "percentile1 = pmin\n",
    "ymin_17= inverse_cdf(percentile1)\n",
    "percentile2 = pmin+0.95\n",
    "ymax_17= inverse_cdf(percentile2)\n",
    "print(ymin_17)\n",
    "print(ymax_17)"
   ]
  },
  {
   "cell_type": "markdown",
   "metadata": {},
   "source": [
    "# simulação mc v18 "
   ]
  },
  {
   "cell_type": "code",
   "execution_count": null,
   "metadata": {},
   "outputs": [],
   "source": [
    "i=18\n",
    "# Defina a média e a matriz de covariância da distribuição multivariada\n",
    "mean = [X_test.iloc[i,0], X_test.iloc[i,1],X_test.iloc[i,2], X_test.iloc[i,3], X_test.iloc[i,4]]  # Média dos valores em cada dimensão\n",
    "cov_matrix = [[upx1**2,        upx1*upx2*r_12,   upx1*upx3*r_13, upx1*upx4*r_14,   upx1*upx5*r_15],\n",
    "              [upx2*upx1*r_21, upx2**2,          upx2*upx3*r_23, upx2*upx4*r_24,   upx2*upx5*r_25],\n",
    "              [upx3*upx1*r_31, upx3*upx2*r_32,   upx3**2,        upx3*upx4*r_34,   upx3*upx5*r_35],\n",
    "              [upx4*upx1*r_41, upx4*upx2*r_42,   upx4*upx3*r_43, upx4**2,          upx4*upx5*r_45],\n",
    "              [upx5*upx1*r_51, upx5*upx2*r_52,   upx5*upx3*r_53, upx5*upx4*r_54,   upx5**2]] #Matriz de covariância através da relação com a correlação\n",
    "\n",
    "# Defina o tamanho da amostra desejada\n",
    "sample_size = 1000000\n",
    "# Gere números aleatórios em uma distribuição multivariada\n",
    "random_samples = np.random.multivariate_normal(mean, cov_matrix, sample_size)\n",
    "random_samples=pd.DataFrame(random_samples)\n",
    "x_1 =pd.DataFrame(random_samples[0])\n",
    "x_2 =pd.DataFrame(random_samples[1])\n",
    "x_3 =pd.DataFrame(random_samples[2])\n",
    "x_4 =pd.DataFrame(random_samples[3])\n",
    "x_5 =pd.DataFrame(random_samples[4])\n",
    "\n",
    "x_teste=pd.concat([x_1,x_2,x_3,x_4,x_5],axis=1)\n",
    "x_teste=pd.DataFrame(x_teste)\n",
    "previsão=model.predict(x_teste)\n",
    "previsão=pd.DataFrame(previsão)\n",
    "nomes_colunas = ['Frequency','Angle','Length','Velocity','Suction Side']\n",
    "nomes_colunas2 = ['Pressure']\n",
    "previsão.columns=nomes_colunas2\n",
    "x_teste.columns = nomes_colunas\n",
    "UMC18=np.std(previsão)\n",
    "MMC18=np.mean(previsão)"
   ]
  },
  {
   "cell_type": "code",
   "execution_count": null,
   "metadata": {},
   "outputs": [],
   "source": [
    "sns.histplot(previsão,)"
   ]
  },
  {
   "cell_type": "code",
   "execution_count": null,
   "metadata": {},
   "outputs": [],
   "source": [
    "# Exemplo de conjunto de dados (pode ser substituído pelos seus próprios dados)\n",
    "dados = previsão['Pressure']\n",
    "dados = sorted(dados)\n",
    "# Calcula a CDF dos dados\n",
    "cdf = np.cumsum(np.ones_like(dados)) / len(dados)\n",
    "p=np.arange(0,0.05,0.0001)\n",
    "x = [] \n",
    "for index, element in enumerate(p):\n",
    "    x.append(element)\n",
    "res=pd.DataFrame(x) \n",
    "def IT(p):\n",
    "    resultado = dados[np.argmax(cdf >= p+0.95)]-dados[np.argmax(cdf >= p)]\n",
    "    return resultado\n",
    "res[0] = res[0].apply(IT)\n",
    "\n",
    "# Plota a CDF\n",
    "plt.plot(dados, cdf, marker='o')\n",
    "plt.xlabel('Valores')\n",
    "plt.ylabel('Probabilidade Acumulada ')\n",
    "plt.title('CDF - Função de Distribuição Acumulada-v18')\n",
    "plt.grid(True)\n",
    "plt.show()\n",
    "\n",
    "minvalue_IT18 = res.min()\n",
    "print(minvalue_IT18)\n",
    "plt.plot(x, res, marker='o')\n",
    "plt.xlabel('Valores')\n",
    "plt.ylabel('Largura do IT')\n",
    "plt.title('Intervalos de Abrangência 95% - v18')\n",
    "plt.grid(True)\n",
    "plt.show()"
   ]
  },
  {
   "cell_type": "code",
   "execution_count": null,
   "metadata": {},
   "outputs": [],
   "source": [
    "res_df=pd.DataFrame(res)\n",
    "res_df[0].idxmpmin=0.005\n",
    "pmin=x[res_df[0].idxmin()]\n",
    "\n",
    "inverse_cdf = interp1d(cdf, dados, kind='linear', fill_value='extrapolate')\n",
    "\n",
    "percentile1 = pmin\n",
    "ymin_18= inverse_cdf(percentile1)\n",
    "percentile2 = pmin+0.95\n",
    "ymax_18= inverse_cdf(percentile2)\n",
    "print(ymin_18)\n",
    "print(ymax_18)"
   ]
  },
  {
   "cell_type": "markdown",
   "metadata": {},
   "source": [
    "# simulação mc v19 "
   ]
  },
  {
   "cell_type": "code",
   "execution_count": null,
   "metadata": {},
   "outputs": [],
   "source": [
    "i=19\n",
    "# Defina a média e a matriz de covariância da distribuição multivariada\n",
    "mean = [X_test.iloc[i,0], X_test.iloc[i,1],X_test.iloc[i,2], X_test.iloc[i,3], X_test.iloc[i,4]]  # Média dos valores em cada dimensão\n",
    "cov_matrix = [[upx1**2,        upx1*upx2*r_12,   upx1*upx3*r_13, upx1*upx4*r_14,   upx1*upx5*r_15],\n",
    "              [upx2*upx1*r_21, upx2**2,          upx2*upx3*r_23, upx2*upx4*r_24,   upx2*upx5*r_25],\n",
    "              [upx3*upx1*r_31, upx3*upx2*r_32,   upx3**2,        upx3*upx4*r_34,   upx3*upx5*r_35],\n",
    "              [upx4*upx1*r_41, upx4*upx2*r_42,   upx4*upx3*r_43, upx4**2,          upx4*upx5*r_45],\n",
    "              [upx5*upx1*r_51, upx5*upx2*r_52,   upx5*upx3*r_53, upx5*upx4*r_54,   upx5**2]] #Matriz de covariância através da relação com a correlação\n",
    "\n",
    "# Defina o tamanho da amostra desejada\n",
    "sample_size = 1000000\n",
    "# Gere números aleatórios em uma distribuição multivariada\n",
    "random_samples = np.random.multivariate_normal(mean, cov_matrix, sample_size)\n",
    "random_samples=pd.DataFrame(random_samples)\n",
    "x_1 =pd.DataFrame(random_samples[0])\n",
    "x_2 =pd.DataFrame(random_samples[1])\n",
    "x_3 =pd.DataFrame(random_samples[2])\n",
    "x_4 =pd.DataFrame(random_samples[3])\n",
    "x_5 =pd.DataFrame(random_samples[4])\n",
    "\n",
    "x_teste=pd.concat([x_1,x_2,x_3,x_4,x_5],axis=1)\n",
    "x_teste=pd.DataFrame(x_teste)\n",
    "previsão=model.predict(x_teste)\n",
    "previsão=pd.DataFrame(previsão)\n",
    "nomes_colunas = ['Frequency','Angle','Length','Velocity','Suction Side']\n",
    "nomes_colunas2 = ['Pressure']\n",
    "previsão.columns=nomes_colunas2\n",
    "x_teste.columns = nomes_colunas\n",
    "UMC19=np.std(previsão)\n",
    "MMC19=np.mean(previsão)"
   ]
  },
  {
   "cell_type": "code",
   "execution_count": null,
   "metadata": {},
   "outputs": [],
   "source": [
    "sns.histplot(previsão,)"
   ]
  },
  {
   "cell_type": "code",
   "execution_count": null,
   "metadata": {},
   "outputs": [],
   "source": [
    "# Exemplo de conjunto de dados (pode ser substituído pelos seus próprios dados)\n",
    "dados = previsão['Pressure']\n",
    "dados = sorted(dados)\n",
    "# Calcula a CDF dos dados\n",
    "cdf = np.cumsum(np.ones_like(dados)) / len(dados)\n",
    "p=np.arange(0,0.05,0.0001)\n",
    "x = [] \n",
    "for index, element in enumerate(p):\n",
    "    x.append(element)\n",
    "res=pd.DataFrame(x) \n",
    "def IT(p):\n",
    "    resultado = dados[np.argmax(cdf >= p+0.95)]-dados[np.argmax(cdf >= p)]\n",
    "    return resultado\n",
    "res[0] = res[0].apply(IT)\n",
    "\n",
    "# Plota a CDF\n",
    "plt.plot(dados, cdf, marker='o')\n",
    "plt.xlabel('Valores')\n",
    "plt.ylabel('Probabilidade Acumulada ')\n",
    "plt.title('CDF - Função de Distribuição Acumulada-v19')\n",
    "plt.grid(True)\n",
    "plt.show()\n",
    "\n",
    "minvalue_IT19 = res.min()\n",
    "print(minvalue_IT19)\n",
    "plt.plot(x, res, marker='o')\n",
    "plt.xlabel('Valores')\n",
    "plt.ylabel('Largura do IT')\n",
    "plt.title('Intervalos de Abrangência 95% - v19')\n",
    "plt.grid(True)\n",
    "plt.show()"
   ]
  },
  {
   "cell_type": "code",
   "execution_count": null,
   "metadata": {},
   "outputs": [],
   "source": [
    "res_df=pd.DataFrame(res)\n",
    "res_df[0].idxmpmin=0.005\n",
    "pmin=x[res_df[0].idxmin()]\n",
    "\n",
    "inverse_cdf = interp1d(cdf, dados, kind='linear', fill_value='extrapolate')\n",
    "\n",
    "percentile1 = pmin\n",
    "ymin_19= inverse_cdf(percentile1)\n",
    "percentile2 = pmin+0.95\n",
    "ymax_19= inverse_cdf(percentile2)\n",
    "print(ymin_19)\n",
    "print(ymax_19)"
   ]
  },
  {
   "cell_type": "markdown",
   "metadata": {},
   "source": [
    "# simulação mc v20 "
   ]
  },
  {
   "cell_type": "code",
   "execution_count": null,
   "metadata": {},
   "outputs": [],
   "source": [
    "i=20\n",
    "# Defina a média e a matriz de covariância da distribuição multivariada\n",
    "mean = [X_test.iloc[i,0], X_test.iloc[i,1],X_test.iloc[i,2], X_test.iloc[i,3], X_test.iloc[i,4]]  # Média dos valores em cada dimensão\n",
    "cov_matrix = [[upx1**2,        upx1*upx2*r_12,   upx1*upx3*r_13, upx1*upx4*r_14,   upx1*upx5*r_15],\n",
    "              [upx2*upx1*r_21, upx2**2,          upx2*upx3*r_23, upx2*upx4*r_24,   upx2*upx5*r_25],\n",
    "              [upx3*upx1*r_31, upx3*upx2*r_32,   upx3**2,        upx3*upx4*r_34,   upx3*upx5*r_35],\n",
    "              [upx4*upx1*r_41, upx4*upx2*r_42,   upx4*upx3*r_43, upx4**2,          upx4*upx5*r_45],\n",
    "              [upx5*upx1*r_51, upx5*upx2*r_52,   upx5*upx3*r_53, upx5*upx4*r_54,   upx5**2]] #Matriz de covariância através da relação com a correlação\n",
    "\n",
    "# Defina o tamanho da amostra desejada\n",
    "sample_size = 1000000\n",
    "# Gere números aleatórios em uma distribuição multivariada\n",
    "random_samples = np.random.multivariate_normal(mean, cov_matrix, sample_size)\n",
    "random_samples=pd.DataFrame(random_samples)\n",
    "x_1 =pd.DataFrame(random_samples[0])\n",
    "x_2 =pd.DataFrame(random_samples[1])\n",
    "x_3 =pd.DataFrame(random_samples[2])\n",
    "x_4 =pd.DataFrame(random_samples[3])\n",
    "x_5 =pd.DataFrame(random_samples[4])\n",
    "\n",
    "x_teste=pd.concat([x_1,x_2,x_3,x_4,x_5],axis=1)\n",
    "x_teste=pd.DataFrame(x_teste)\n",
    "previsão=model.predict(x_teste)\n",
    "previsão=pd.DataFrame(previsão)\n",
    "nomes_colunas = ['Frequency','Angle','Length','Velocity','Suction Side']\n",
    "nomes_colunas2 = ['Pressure']\n",
    "previsão.columns=nomes_colunas2\n",
    "x_teste.columns = nomes_colunas\n",
    "UMC20=np.std(previsão)\n",
    "MMC20=np.mean(previsão)"
   ]
  },
  {
   "cell_type": "code",
   "execution_count": null,
   "metadata": {},
   "outputs": [],
   "source": [
    "sns.histplot(previsão,)"
   ]
  },
  {
   "cell_type": "code",
   "execution_count": null,
   "metadata": {},
   "outputs": [],
   "source": [
    "# Exemplo de conjunto de dados (pode ser substituído pelos seus próprios dados)\n",
    "dados = previsão['Pressure']\n",
    "dados = sorted(dados)\n",
    "# Calcula a CDF dos dados\n",
    "cdf = np.cumsum(np.ones_like(dados)) / len(dados)\n",
    "p=np.arange(0,0.05,0.0001)\n",
    "x = [] \n",
    "for index, element in enumerate(p):\n",
    "    x.append(element)\n",
    "res=pd.DataFrame(x) \n",
    "def IT(p):\n",
    "    resultado = dados[np.argmax(cdf >= p+0.95)]-dados[np.argmax(cdf >= p)]\n",
    "    return resultado\n",
    "res[0] = res[0].apply(IT)\n",
    "\n",
    "# Plota a CDF\n",
    "plt.plot(dados, cdf, marker='o')\n",
    "plt.xlabel('Valores')\n",
    "plt.ylabel('Probabilidade Acumulada ')\n",
    "plt.title('CDF - Função de Distribuição Acumulada-v20')\n",
    "plt.grid(True)\n",
    "plt.show()\n",
    "\n",
    "minvalue_IT20 = res.min()\n",
    "print(minvalue_IT20)\n",
    "plt.plot(x, res, marker='o')\n",
    "plt.xlabel('Valores')\n",
    "plt.ylabel('Largura do IT')\n",
    "plt.title('Intervalos de Abrangência 95% - v20')\n",
    "plt.grid(True)\n",
    "plt.show()"
   ]
  },
  {
   "cell_type": "code",
   "execution_count": null,
   "metadata": {},
   "outputs": [],
   "source": [
    "res_df=pd.DataFrame(res)\n",
    "res_df[0].idxmpmin=0.005\n",
    "pmin=x[res_df[0].idxmin()]\n",
    "\n",
    "inverse_cdf = interp1d(cdf, dados, kind='linear', fill_value='extrapolate')\n",
    "\n",
    "percentile1 = pmin\n",
    "ymin_20= inverse_cdf(percentile1)\n",
    "percentile2 = pmin+0.95\n",
    "ymax_20= inverse_cdf(percentile2)\n",
    "print(ymin_20)\n",
    "print(ymax_20)"
   ]
  },
  {
   "cell_type": "markdown",
   "metadata": {},
   "source": [
    "# simulação mc v21 "
   ]
  },
  {
   "cell_type": "code",
   "execution_count": null,
   "metadata": {},
   "outputs": [],
   "source": [
    "i=21\n",
    "# Defina a média e a matriz de covariância da distribuição multivariada\n",
    "mean = [X_test.iloc[i,0], X_test.iloc[i,1],X_test.iloc[i,2], X_test.iloc[i,3], X_test.iloc[i,4]]  # Média dos valores em cada dimensão\n",
    "cov_matrix = [[upx1**2,        upx1*upx2*r_12,   upx1*upx3*r_13, upx1*upx4*r_14,   upx1*upx5*r_15],\n",
    "              [upx2*upx1*r_21, upx2**2,          upx2*upx3*r_23, upx2*upx4*r_24,   upx2*upx5*r_25],\n",
    "              [upx3*upx1*r_31, upx3*upx2*r_32,   upx3**2,        upx3*upx4*r_34,   upx3*upx5*r_35],\n",
    "              [upx4*upx1*r_41, upx4*upx2*r_42,   upx4*upx3*r_43, upx4**2,          upx4*upx5*r_45],\n",
    "              [upx5*upx1*r_51, upx5*upx2*r_52,   upx5*upx3*r_53, upx5*upx4*r_54,   upx5**2]] #Matriz de covariância através da relação com a correlação\n",
    "\n",
    "# Defina o tamanho da amostra desejada\n",
    "sample_size = 1000000\n",
    "# Gere números aleatórios em uma distribuição multivariada\n",
    "random_samples = np.random.multivariate_normal(mean, cov_matrix, sample_size)\n",
    "random_samples=pd.DataFrame(random_samples)\n",
    "x_1 =pd.DataFrame(random_samples[0])\n",
    "x_2 =pd.DataFrame(random_samples[1])\n",
    "x_3 =pd.DataFrame(random_samples[2])\n",
    "x_4 =pd.DataFrame(random_samples[3])\n",
    "x_5 =pd.DataFrame(random_samples[4])\n",
    "\n",
    "x_teste=pd.concat([x_1,x_2,x_3,x_4,x_5],axis=1)\n",
    "x_teste=pd.DataFrame(x_teste)\n",
    "previsão=model.predict(x_teste)\n",
    "previsão=pd.DataFrame(previsão)\n",
    "nomes_colunas = ['Frequency','Angle','Length','Velocity','Suction Side']\n",
    "nomes_colunas2 = ['Pressure']\n",
    "previsão.columns=nomes_colunas2\n",
    "x_teste.columns = nomes_colunas\n",
    "UMC21=np.std(previsão)\n",
    "MMC21=np.mean(previsão)"
   ]
  },
  {
   "cell_type": "code",
   "execution_count": null,
   "metadata": {},
   "outputs": [],
   "source": [
    "sns.histplot(previsão,)"
   ]
  },
  {
   "cell_type": "code",
   "execution_count": null,
   "metadata": {},
   "outputs": [],
   "source": [
    "# Exemplo de conjunto de dados (pode ser substituído pelos seus próprios dados)\n",
    "dados = previsão['Pressure']\n",
    "dados = sorted(dados)\n",
    "# Calcula a CDF dos dados\n",
    "cdf = np.cumsum(np.ones_like(dados)) / len(dados)\n",
    "p=np.arange(0,0.05,0.0001)\n",
    "x = [] \n",
    "for index, element in enumerate(p):\n",
    "    x.append(element)\n",
    "res=pd.DataFrame(x) \n",
    "def IT(p):\n",
    "    resultado = dados[np.argmax(cdf >= p+0.95)]-dados[np.argmax(cdf >= p)]\n",
    "    return resultado\n",
    "res[0] = res[0].apply(IT)\n",
    "\n",
    "# Plota a CDF\n",
    "plt.plot(dados, cdf, marker='o')\n",
    "plt.xlabel('Valores')\n",
    "plt.ylabel('Probabilidade Acumulada ')\n",
    "plt.title('CDF - Função de Distribuição Acumulada-v21')\n",
    "plt.grid(True)\n",
    "plt.show()\n",
    "\n",
    "minvalue_IT21 = res.min()\n",
    "print(minvalue_IT21)\n",
    "plt.plot(x, res, marker='o')\n",
    "plt.xlabel('Valores')\n",
    "plt.ylabel('Largura do IT')\n",
    "plt.title('Intervalos de Abrangência 95% - v21')\n",
    "plt.grid(True)\n",
    "plt.show()"
   ]
  },
  {
   "cell_type": "code",
   "execution_count": null,
   "metadata": {},
   "outputs": [],
   "source": [
    "res_df=pd.DataFrame(res)\n",
    "res_df[0].idxmpmin=0.005\n",
    "pmin=x[res_df[0].idxmin()]\n",
    "\n",
    "inverse_cdf = interp1d(cdf, dados, kind='linear', fill_value='extrapolate')\n",
    "\n",
    "percentile1 = pmin\n",
    "ymin_21= inverse_cdf(percentile1)\n",
    "percentile2 = pmin+0.95\n",
    "ymax_21= inverse_cdf(percentile2)\n",
    "print(ymin_21)\n",
    "print(ymax_21)"
   ]
  },
  {
   "cell_type": "markdown",
   "metadata": {},
   "source": [
    "# simulação mc v22 "
   ]
  },
  {
   "cell_type": "code",
   "execution_count": null,
   "metadata": {},
   "outputs": [],
   "source": [
    "i=22\n",
    "# Defina a média e a matriz de covariância da distribuição multivariada\n",
    "mean = [X_test.iloc[i,0], X_test.iloc[i,1],X_test.iloc[i,2], X_test.iloc[i,3], X_test.iloc[i,4]]  # Média dos valores em cada dimensão\n",
    "cov_matrix = [[upx1**2,        upx1*upx2*r_12,   upx1*upx3*r_13, upx1*upx4*r_14,   upx1*upx5*r_15],\n",
    "              [upx2*upx1*r_21, upx2**2,          upx2*upx3*r_23, upx2*upx4*r_24,   upx2*upx5*r_25],\n",
    "              [upx3*upx1*r_31, upx3*upx2*r_32,   upx3**2,        upx3*upx4*r_34,   upx3*upx5*r_35],\n",
    "              [upx4*upx1*r_41, upx4*upx2*r_42,   upx4*upx3*r_43, upx4**2,          upx4*upx5*r_45],\n",
    "              [upx5*upx1*r_51, upx5*upx2*r_52,   upx5*upx3*r_53, upx5*upx4*r_54,   upx5**2]] #Matriz de covariância através da relação com a correlação\n",
    "\n",
    "# Defina o tamanho da amostra desejada\n",
    "sample_size = 1000000\n",
    "# Gere números aleatórios em uma distribuição multivariada\n",
    "random_samples = np.random.multivariate_normal(mean, cov_matrix, sample_size)\n",
    "random_samples=pd.DataFrame(random_samples)\n",
    "x_1 =pd.DataFrame(random_samples[0])\n",
    "x_2 =pd.DataFrame(random_samples[1])\n",
    "x_3 =pd.DataFrame(random_samples[2])\n",
    "x_4 =pd.DataFrame(random_samples[3])\n",
    "x_5 =pd.DataFrame(random_samples[4])\n",
    "\n",
    "x_teste=pd.concat([x_1,x_2,x_3,x_4,x_5],axis=1)\n",
    "x_teste=pd.DataFrame(x_teste)\n",
    "previsão=model.predict(x_teste)\n",
    "previsão=pd.DataFrame(previsão)\n",
    "nomes_colunas = ['Frequency','Angle','Length','Velocity','Suction Side']\n",
    "nomes_colunas2 = ['Pressure']\n",
    "previsão.columns=nomes_colunas2\n",
    "x_teste.columns = nomes_colunas\n",
    "UMC22=np.std(previsão)\n",
    "MMC22=np.mean(previsão)"
   ]
  },
  {
   "cell_type": "code",
   "execution_count": null,
   "metadata": {},
   "outputs": [],
   "source": [
    "sns.histplot(previsão,)"
   ]
  },
  {
   "cell_type": "code",
   "execution_count": null,
   "metadata": {},
   "outputs": [],
   "source": [
    "# Exemplo de conjunto de dados (pode ser substituído pelos seus próprios dados)\n",
    "dados = previsão['Pressure']\n",
    "dados = sorted(dados)\n",
    "# Calcula a CDF dos dados\n",
    "cdf = np.cumsum(np.ones_like(dados)) / len(dados)\n",
    "p=np.arange(0,0.05,0.0001)\n",
    "x = [] \n",
    "for index, element in enumerate(p):\n",
    "    x.append(element)\n",
    "res=pd.DataFrame(x) \n",
    "def IT(p):\n",
    "    resultado = dados[np.argmax(cdf >= p+0.95)]-dados[np.argmax(cdf >= p)]\n",
    "    return resultado\n",
    "res[0] = res[0].apply(IT)\n",
    "\n",
    "# Plota a CDF\n",
    "plt.plot(dados, cdf, marker='o')\n",
    "plt.xlabel('Valores')\n",
    "plt.ylabel('Probabilidade Acumulada ')\n",
    "plt.title('CDF - Função de Distribuição Acumulada-v22')\n",
    "plt.grid(True)\n",
    "plt.show()\n",
    "\n",
    "minvalue_IT22 = res.min()\n",
    "print(minvalue_IT22)\n",
    "plt.plot(x, res, marker='o')\n",
    "plt.xlabel('Valores')\n",
    "plt.ylabel('Largura do IT')\n",
    "plt.title('Intervalos de Abrangência 95% - v22')\n",
    "plt.grid(True)\n",
    "plt.show()"
   ]
  },
  {
   "cell_type": "code",
   "execution_count": null,
   "metadata": {},
   "outputs": [],
   "source": [
    "res_df=pd.DataFrame(res)\n",
    "res_df[0].idxmpmin=0.005\n",
    "pmin=x[res_df[0].idxmin()]\n",
    "\n",
    "inverse_cdf = interp1d(cdf, dados, kind='linear', fill_value='extrapolate')\n",
    "\n",
    "percentile1 = pmin\n",
    "ymin_22= inverse_cdf(percentile1)\n",
    "percentile2 = pmin+0.95\n",
    "ymax_22= inverse_cdf(percentile2)\n",
    "print(ymin_22)\n",
    "print(ymax_22)"
   ]
  },
  {
   "cell_type": "markdown",
   "metadata": {},
   "source": [
    "# simulação mc v23"
   ]
  },
  {
   "cell_type": "code",
   "execution_count": null,
   "metadata": {},
   "outputs": [],
   "source": [
    "i=23\n",
    "# Defina a média e a matriz de covariância da distribuição multivariada\n",
    "mean = [X_test.iloc[i,0], X_test.iloc[i,1],X_test.iloc[i,2], X_test.iloc[i,3], X_test.iloc[i,4]]  # Média dos valores em cada dimensão\n",
    "cov_matrix = [[upx1**2,        upx1*upx2*r_12,   upx1*upx3*r_13, upx1*upx4*r_14,   upx1*upx5*r_15],\n",
    "              [upx2*upx1*r_21, upx2**2,          upx2*upx3*r_23, upx2*upx4*r_24,   upx2*upx5*r_25],\n",
    "              [upx3*upx1*r_31, upx3*upx2*r_32,   upx3**2,        upx3*upx4*r_34,   upx3*upx5*r_35],\n",
    "              [upx4*upx1*r_41, upx4*upx2*r_42,   upx4*upx3*r_43, upx4**2,          upx4*upx5*r_45],\n",
    "              [upx5*upx1*r_51, upx5*upx2*r_52,   upx5*upx3*r_53, upx5*upx4*r_54,   upx5**2]] #Matriz de covariância através da relação com a correlação\n",
    "\n",
    "# Defina o tamanho da amostra desejada\n",
    "sample_size = 1000000\n",
    "# Gere números aleatórios em uma distribuição multivariada\n",
    "random_samples = np.random.multivariate_normal(mean, cov_matrix, sample_size)\n",
    "random_samples=pd.DataFrame(random_samples)\n",
    "x_1 =pd.DataFrame(random_samples[0])\n",
    "x_2 =pd.DataFrame(random_samples[1])\n",
    "x_3 =pd.DataFrame(random_samples[2])\n",
    "x_4 =pd.DataFrame(random_samples[3])\n",
    "x_5 =pd.DataFrame(random_samples[4])\n",
    "\n",
    "x_teste=pd.concat([x_1,x_2,x_3,x_4,x_5],axis=1)\n",
    "x_teste=pd.DataFrame(x_teste)\n",
    "previsão=model.predict(x_teste)\n",
    "previsão=pd.DataFrame(previsão)\n",
    "nomes_colunas = ['Frequency','Angle','Length','Velocity','Suction Side']\n",
    "nomes_colunas2 = ['Pressure']\n",
    "previsão.columns=nomes_colunas2\n",
    "x_teste.columns = nomes_colunas\n",
    "UMC23=np.std(previsão)\n",
    "MMC23=np.mean(previsão)"
   ]
  },
  {
   "cell_type": "code",
   "execution_count": null,
   "metadata": {},
   "outputs": [],
   "source": [
    "sns.histplot(previsão,)"
   ]
  },
  {
   "cell_type": "code",
   "execution_count": null,
   "metadata": {},
   "outputs": [],
   "source": [
    "# Exemplo de conjunto de dados (pode ser substituído pelos seus próprios dados)\n",
    "dados = previsão['Pressure']\n",
    "dados = sorted(dados)\n",
    "# Calcula a CDF dos dados\n",
    "cdf = np.cumsum(np.ones_like(dados)) / len(dados)\n",
    "p=np.arange(0,0.05,0.0001)\n",
    "x = [] \n",
    "for index, element in enumerate(p):\n",
    "    x.append(element)\n",
    "res=pd.DataFrame(x) \n",
    "def IT(p):\n",
    "    resultado = dados[np.argmax(cdf >= p+0.95)]-dados[np.argmax(cdf >= p)]\n",
    "    return resultado\n",
    "res[0] = res[0].apply(IT)\n",
    "\n",
    "# Plota a CDF\n",
    "plt.plot(dados, cdf, marker='o')\n",
    "plt.xlabel('Valores')\n",
    "plt.ylabel('Probabilidade Acumulada ')\n",
    "plt.title('CDF - Função de Distribuição Acumulada-v23')\n",
    "plt.grid(True)\n",
    "plt.show()\n",
    "\n",
    "minvalue_IT23 = res.min()\n",
    "print(minvalue_IT23)\n",
    "plt.plot(x, res, marker='o')\n",
    "plt.xlabel('Valores')\n",
    "plt.ylabel('Largura do IT')\n",
    "plt.title('Intervalos de Abrangência 95% - v23')\n",
    "plt.grid(True)\n",
    "plt.show()"
   ]
  },
  {
   "cell_type": "code",
   "execution_count": null,
   "metadata": {},
   "outputs": [],
   "source": [
    "res_df=pd.DataFrame(res)\n",
    "res_df[0].idxmpmin=0.005\n",
    "pmin=x[res_df[0].idxmin()]\n",
    "\n",
    "inverse_cdf = interp1d(cdf, dados, kind='linear', fill_value='extrapolate')\n",
    "\n",
    "percentile1 = pmin\n",
    "ymin_23= inverse_cdf(percentile1)\n",
    "percentile2 = pmin+0.95\n",
    "ymax_23= inverse_cdf(percentile2)\n",
    "print(ymin_23)\n",
    "print(ymax_23)"
   ]
  },
  {
   "cell_type": "markdown",
   "metadata": {},
   "source": [
    "# simulação mc v24"
   ]
  },
  {
   "cell_type": "code",
   "execution_count": null,
   "metadata": {},
   "outputs": [],
   "source": [
    "i=24\n",
    "# Defina a média e a matriz de covariância da distribuição multivariada\n",
    "mean = [X_test.iloc[i,0], X_test.iloc[i,1],X_test.iloc[i,2], X_test.iloc[i,3], X_test.iloc[i,4]]  # Média dos valores em cada dimensão\n",
    "cov_matrix = [[upx1**2,        upx1*upx2*r_12,   upx1*upx3*r_13, upx1*upx4*r_14,   upx1*upx5*r_15],\n",
    "              [upx2*upx1*r_21, upx2**2,          upx2*upx3*r_23, upx2*upx4*r_24,   upx2*upx5*r_25],\n",
    "              [upx3*upx1*r_31, upx3*upx2*r_32,   upx3**2,        upx3*upx4*r_34,   upx3*upx5*r_35],\n",
    "              [upx4*upx1*r_41, upx4*upx2*r_42,   upx4*upx3*r_43, upx4**2,          upx4*upx5*r_45],\n",
    "              [upx5*upx1*r_51, upx5*upx2*r_52,   upx5*upx3*r_53, upx5*upx4*r_54,   upx5**2]] #Matriz de covariância através da relação com a correlação\n",
    "\n",
    "# Defina o tamanho da amostra desejada\n",
    "sample_size = 1000000\n",
    "# Gere números aleatórios em uma distribuição multivariada\n",
    "random_samples = np.random.multivariate_normal(mean, cov_matrix, sample_size)\n",
    "random_samples=pd.DataFrame(random_samples)\n",
    "x_1 =pd.DataFrame(random_samples[0])\n",
    "x_2 =pd.DataFrame(random_samples[1])\n",
    "x_3 =pd.DataFrame(random_samples[2])\n",
    "x_4 =pd.DataFrame(random_samples[3])\n",
    "x_5 =pd.DataFrame(random_samples[4])\n",
    "\n",
    "x_teste=pd.concat([x_1,x_2,x_3,x_4,x_5],axis=1)\n",
    "x_teste=pd.DataFrame(x_teste)\n",
    "previsão=model.predict(x_teste)\n",
    "previsão=pd.DataFrame(previsão)\n",
    "nomes_colunas = ['Frequency','Angle','Length','Velocity','Suction Side']\n",
    "nomes_colunas2 = ['Pressure']\n",
    "previsão.columns=nomes_colunas2\n",
    "x_teste.columns = nomes_colunas\n",
    "UMC24=np.std(previsão)\n",
    "MMC24=np.mean(previsão)"
   ]
  },
  {
   "cell_type": "code",
   "execution_count": null,
   "metadata": {},
   "outputs": [],
   "source": [
    "sns.histplot(previsão,)"
   ]
  },
  {
   "cell_type": "code",
   "execution_count": null,
   "metadata": {},
   "outputs": [],
   "source": [
    "# Exemplo de conjunto de dados (pode ser substituído pelos seus próprios dados)\n",
    "dados = previsão['Pressure']\n",
    "dados = sorted(dados)\n",
    "# Calcula a CDF dos dados\n",
    "cdf = np.cumsum(np.ones_like(dados)) / len(dados)\n",
    "p=np.arange(0,0.05,0.0001)\n",
    "x = [] \n",
    "for index, element in enumerate(p):\n",
    "    x.append(element)\n",
    "res=pd.DataFrame(x) \n",
    "def IT(p):\n",
    "    resultado = dados[np.argmax(cdf >= p+0.95)]-dados[np.argmax(cdf >= p)]\n",
    "    return resultado\n",
    "res[0] = res[0].apply(IT)\n",
    "\n",
    "# Plota a CDF\n",
    "plt.plot(dados, cdf, marker='o')\n",
    "plt.xlabel('Valores')\n",
    "plt.ylabel('Probabilidade Acumulada ')\n",
    "plt.title('CDF - Função de Distribuição Acumulada-v24')\n",
    "plt.grid(True)\n",
    "plt.show()\n",
    "\n",
    "minvalue_IT24 = res.min()\n",
    "print(minvalue_IT24)\n",
    "plt.plot(x, res, marker='o')\n",
    "plt.xlabel('Valores')\n",
    "plt.ylabel('Largura do IT')\n",
    "plt.title('Intervalos de Abrangência 95% - v24')\n",
    "plt.grid(True)\n",
    "plt.show()"
   ]
  },
  {
   "cell_type": "code",
   "execution_count": null,
   "metadata": {},
   "outputs": [],
   "source": [
    "res_df=pd.DataFrame(res)\n",
    "res_df[0].idxmpmin=0.005\n",
    "pmin=x[res_df[0].idxmin()]\n",
    "\n",
    "inverse_cdf = interp1d(cdf, dados, kind='linear', fill_value='extrapolate')\n",
    "\n",
    "percentile1 = pmin\n",
    "ymin_24= inverse_cdf(percentile1)\n",
    "percentile2 = pmin+0.95\n",
    "ymax_24= inverse_cdf(percentile2)\n",
    "print(ymin_24)\n",
    "print(ymax_24)"
   ]
  },
  {
   "cell_type": "markdown",
   "metadata": {},
   "source": [
    "# simulação mc v25"
   ]
  },
  {
   "cell_type": "code",
   "execution_count": null,
   "metadata": {},
   "outputs": [],
   "source": [
    "i=25\n",
    "# Defina a média e a matriz de covariância da distribuição multivariada\n",
    "mean = [X_test.iloc[i,0], X_test.iloc[i,1],X_test.iloc[i,2], X_test.iloc[i,3], X_test.iloc[i,4]]  # Média dos valores em cada dimensão\n",
    "cov_matrix = [[upx1**2,        upx1*upx2*r_12,   upx1*upx3*r_13, upx1*upx4*r_14,   upx1*upx5*r_15],\n",
    "              [upx2*upx1*r_21, upx2**2,          upx2*upx3*r_23, upx2*upx4*r_24,   upx2*upx5*r_25],\n",
    "              [upx3*upx1*r_31, upx3*upx2*r_32,   upx3**2,        upx3*upx4*r_34,   upx3*upx5*r_35],\n",
    "              [upx4*upx1*r_41, upx4*upx2*r_42,   upx4*upx3*r_43, upx4**2,          upx4*upx5*r_45],\n",
    "              [upx5*upx1*r_51, upx5*upx2*r_52,   upx5*upx3*r_53, upx5*upx4*r_54,   upx5**2]] #Matriz de covariância através da relação com a correlação\n",
    "\n",
    "# Defina o tamanho da amostra desejada\n",
    "sample_size = 1000000\n",
    "# Gere números aleatórios em uma distribuição multivariada\n",
    "random_samples = np.random.multivariate_normal(mean, cov_matrix, sample_size)\n",
    "random_samples=pd.DataFrame(random_samples)\n",
    "x_1 =pd.DataFrame(random_samples[0])\n",
    "x_2 =pd.DataFrame(random_samples[1])\n",
    "x_3 =pd.DataFrame(random_samples[2])\n",
    "x_4 =pd.DataFrame(random_samples[3])\n",
    "x_5 =pd.DataFrame(random_samples[4])\n",
    "\n",
    "x_teste=pd.concat([x_1,x_2,x_3,x_4,x_5],axis=1)\n",
    "x_teste=pd.DataFrame(x_teste)\n",
    "previsão=model.predict(x_teste)\n",
    "previsão=pd.DataFrame(previsão)\n",
    "nomes_colunas = ['Frequency','Angle','Length','Velocity','Suction Side']\n",
    "nomes_colunas2 = ['Pressure']\n",
    "previsão.columns=nomes_colunas2\n",
    "x_teste.columns = nomes_colunas\n",
    "UMC25=np.std(previsão)\n",
    "MMC25=np.mean(previsão)"
   ]
  },
  {
   "cell_type": "code",
   "execution_count": null,
   "metadata": {},
   "outputs": [],
   "source": [
    "sns.histplot(previsão,)"
   ]
  },
  {
   "cell_type": "code",
   "execution_count": null,
   "metadata": {},
   "outputs": [],
   "source": [
    "# Exemplo de conjunto de dados (pode ser substituído pelos seus próprios dados)\n",
    "dados = previsão['Pressure']\n",
    "dados = sorted(dados)\n",
    "# Calcula a CDF dos dados\n",
    "cdf = np.cumsum(np.ones_like(dados)) / len(dados)\n",
    "p=np.arange(0,0.05,0.0001)\n",
    "x = [] \n",
    "for index, element in enumerate(p):\n",
    "    x.append(element)\n",
    "res=pd.DataFrame(x) \n",
    "def IT(p):\n",
    "    resultado = dados[np.argmax(cdf >= p+0.95)]-dados[np.argmax(cdf >= p)]\n",
    "    return resultado\n",
    "res[0] = res[0].apply(IT)\n",
    "\n",
    "# Plota a CDF\n",
    "plt.plot(dados, cdf, marker='o')\n",
    "plt.xlabel('Valores')\n",
    "plt.ylabel('Probabilidade Acumulada ')\n",
    "plt.title('CDF - Função de Distribuição Acumulada-v25')\n",
    "plt.grid(True)\n",
    "plt.show()\n",
    "\n",
    "minvalue_IT25 = res.min()\n",
    "print(minvalue_IT25)\n",
    "plt.plot(x, res, marker='o')\n",
    "plt.xlabel('Valores')\n",
    "plt.ylabel('Largura do IT')\n",
    "plt.title('Intervalos de Abrangência 95% - v25')\n",
    "plt.grid(True)\n",
    "plt.show()"
   ]
  },
  {
   "cell_type": "code",
   "execution_count": null,
   "metadata": {},
   "outputs": [],
   "source": [
    "res_df=pd.DataFrame(res)\n",
    "res_df[0].idxmpmin=0.005\n",
    "pmin=x[res_df[0].idxmin()]\n",
    "\n",
    "inverse_cdf = interp1d(cdf, dados, kind='linear', fill_value='extrapolate')\n",
    "\n",
    "percentile1 = pmin\n",
    "ymin_25= inverse_cdf(percentile1)\n",
    "percentile2 = pmin+0.95\n",
    "ymax_25= inverse_cdf(percentile2)\n",
    "print(ymin_25)\n",
    "print(ymax_25)"
   ]
  },
  {
   "cell_type": "markdown",
   "metadata": {},
   "source": [
    "# simulação mc v26"
   ]
  },
  {
   "cell_type": "code",
   "execution_count": null,
   "metadata": {},
   "outputs": [],
   "source": [
    "i=26\n",
    "# Defina a média e a matriz de covariância da distribuição multivariada\n",
    "mean = [X_test.iloc[i,0], X_test.iloc[i,1],X_test.iloc[i,2], X_test.iloc[i,3], X_test.iloc[i,4]]  # Média dos valores em cada dimensão\n",
    "cov_matrix = [[upx1**2,        upx1*upx2*r_12,   upx1*upx3*r_13, upx1*upx4*r_14,   upx1*upx5*r_15],\n",
    "              [upx2*upx1*r_21, upx2**2,          upx2*upx3*r_23, upx2*upx4*r_24,   upx2*upx5*r_25],\n",
    "              [upx3*upx1*r_31, upx3*upx2*r_32,   upx3**2,        upx3*upx4*r_34,   upx3*upx5*r_35],\n",
    "              [upx4*upx1*r_41, upx4*upx2*r_42,   upx4*upx3*r_43, upx4**2,          upx4*upx5*r_45],\n",
    "              [upx5*upx1*r_51, upx5*upx2*r_52,   upx5*upx3*r_53, upx5*upx4*r_54,   upx5**2]] #Matriz de covariância através da relação com a correlação\n",
    "\n",
    "# Defina o tamanho da amostra desejada\n",
    "sample_size = 1000000\n",
    "# Gere números aleatórios em uma distribuição multivariada\n",
    "random_samples = np.random.multivariate_normal(mean, cov_matrix, sample_size)\n",
    "random_samples=pd.DataFrame(random_samples)\n",
    "x_1 =pd.DataFrame(random_samples[0])\n",
    "x_2 =pd.DataFrame(random_samples[1])\n",
    "x_3 =pd.DataFrame(random_samples[2])\n",
    "x_4 =pd.DataFrame(random_samples[3])\n",
    "x_5 =pd.DataFrame(random_samples[4])\n",
    "\n",
    "x_teste=pd.concat([x_1,x_2,x_3,x_4,x_5],axis=1)\n",
    "x_teste=pd.DataFrame(x_teste)\n",
    "previsão=model.predict(x_teste)\n",
    "previsão=pd.DataFrame(previsão)\n",
    "nomes_colunas = ['Frequency','Angle','Length','Velocity','Suction Side']\n",
    "nomes_colunas2 = ['Pressure']\n",
    "previsão.columns=nomes_colunas2\n",
    "x_teste.columns = nomes_colunas\n",
    "UMC26=np.std(previsão)\n",
    "MMC26=np.mean(previsão)"
   ]
  },
  {
   "cell_type": "code",
   "execution_count": null,
   "metadata": {},
   "outputs": [],
   "source": [
    "sns.histplot(previsão,)"
   ]
  },
  {
   "cell_type": "code",
   "execution_count": null,
   "metadata": {},
   "outputs": [],
   "source": [
    "# Exemplo de conjunto de dados (pode ser substituído pelos seus próprios dados)\n",
    "dados = previsão['Pressure']\n",
    "dados = sorted(dados)\n",
    "# Calcula a CDF dos dados\n",
    "cdf = np.cumsum(np.ones_like(dados)) / len(dados)\n",
    "p=np.arange(0,0.05,0.0001)\n",
    "x = [] \n",
    "for index, element in enumerate(p):\n",
    "    x.append(element)\n",
    "res=pd.DataFrame(x) \n",
    "def IT(p):\n",
    "    resultado = dados[np.argmax(cdf >= p+0.95)]-dados[np.argmax(cdf >= p)]\n",
    "    return resultado\n",
    "res[0] = res[0].apply(IT)\n",
    "\n",
    "# Plota a CDF\n",
    "plt.plot(dados, cdf, marker='o')\n",
    "plt.xlabel('Valores')\n",
    "plt.ylabel('Probabilidade Acumulada ')\n",
    "plt.title('CDF - Função de Distribuição Acumulada-v26')\n",
    "plt.grid(True)\n",
    "plt.show()\n",
    "\n",
    "minvalue_IT26 = res.min()\n",
    "print(minvalue_IT26)\n",
    "plt.plot(x, res, marker='o')\n",
    "plt.xlabel('Valores')\n",
    "plt.ylabel('Largura do IT')\n",
    "plt.title('Intervalos de Abrangência 95% - v26')\n",
    "plt.grid(True)\n",
    "plt.show()"
   ]
  },
  {
   "cell_type": "code",
   "execution_count": null,
   "metadata": {},
   "outputs": [],
   "source": [
    "res_df=pd.DataFrame(res)\n",
    "res_df[0].idxmpmin=0.005\n",
    "pmin=x[res_df[0].idxmin()]\n",
    "\n",
    "inverse_cdf = interp1d(cdf, dados, kind='linear', fill_value='extrapolate')\n",
    "\n",
    "percentile1 = pmin\n",
    "ymin_26= inverse_cdf(percentile1)\n",
    "percentile2 = pmin+0.95\n",
    "ymax_26= inverse_cdf(percentile2)\n",
    "print(ymin_26)\n",
    "print(ymax_26)"
   ]
  },
  {
   "cell_type": "markdown",
   "metadata": {},
   "source": [
    "# simulação mc v27"
   ]
  },
  {
   "cell_type": "code",
   "execution_count": null,
   "metadata": {},
   "outputs": [],
   "source": [
    "i=27\n",
    "# Defina a média e a matriz de covariância da distribuição multivariada\n",
    "mean = [X_test.iloc[i,0], X_test.iloc[i,1],X_test.iloc[i,2], X_test.iloc[i,3], X_test.iloc[i,4]]  # Média dos valores em cada dimensão\n",
    "cov_matrix = [[upx1**2,        upx1*upx2*r_12,   upx1*upx3*r_13, upx1*upx4*r_14,   upx1*upx5*r_15],\n",
    "              [upx2*upx1*r_21, upx2**2,          upx2*upx3*r_23, upx2*upx4*r_24,   upx2*upx5*r_25],\n",
    "              [upx3*upx1*r_31, upx3*upx2*r_32,   upx3**2,        upx3*upx4*r_34,   upx3*upx5*r_35],\n",
    "              [upx4*upx1*r_41, upx4*upx2*r_42,   upx4*upx3*r_43, upx4**2,          upx4*upx5*r_45],\n",
    "              [upx5*upx1*r_51, upx5*upx2*r_52,   upx5*upx3*r_53, upx5*upx4*r_54,   upx5**2]] #Matriz de covariância através da relação com a correlação\n",
    "\n",
    "# Defina o tamanho da amostra desejada\n",
    "sample_size = 1000000\n",
    "# Gere números aleatórios em uma distribuição multivariada\n",
    "random_samples = np.random.multivariate_normal(mean, cov_matrix, sample_size)\n",
    "random_samples=pd.DataFrame(random_samples)\n",
    "x_1 =pd.DataFrame(random_samples[0])\n",
    "x_2 =pd.DataFrame(random_samples[1])\n",
    "x_3 =pd.DataFrame(random_samples[2])\n",
    "x_4 =pd.DataFrame(random_samples[3])\n",
    "x_5 =pd.DataFrame(random_samples[4])\n",
    "\n",
    "x_teste=pd.concat([x_1,x_2,x_3,x_4,x_5],axis=1)\n",
    "x_teste=pd.DataFrame(x_teste)\n",
    "previsão=model.predict(x_teste)\n",
    "previsão=pd.DataFrame(previsão)\n",
    "nomes_colunas = ['Frequency','Angle','Length','Velocity','Suction Side']\n",
    "nomes_colunas2 = ['Pressure']\n",
    "previsão.columns=nomes_colunas2\n",
    "x_teste.columns = nomes_colunas\n",
    "UMC27=np.std(previsão)\n",
    "MMC27=np.mean(previsão)"
   ]
  },
  {
   "cell_type": "code",
   "execution_count": null,
   "metadata": {},
   "outputs": [],
   "source": [
    "sns.histplot(previsão,)"
   ]
  },
  {
   "cell_type": "code",
   "execution_count": null,
   "metadata": {},
   "outputs": [],
   "source": [
    "# Exemplo de conjunto de dados (pode ser substituído pelos seus próprios dados)\n",
    "dados = previsão['Pressure']\n",
    "dados = sorted(dados)\n",
    "# Calcula a CDF dos dados\n",
    "cdf = np.cumsum(np.ones_like(dados)) / len(dados)\n",
    "p=np.arange(0,0.05,0.0001)\n",
    "x = [] \n",
    "for index, element in enumerate(p):\n",
    "    x.append(element)\n",
    "res=pd.DataFrame(x) \n",
    "def IT(p):\n",
    "    resultado = dados[np.argmax(cdf >= p+0.95)]-dados[np.argmax(cdf >= p)]\n",
    "    return resultado\n",
    "res[0] = res[0].apply(IT)\n",
    "\n",
    "# Plota a CDF\n",
    "plt.plot(dados, cdf, marker='o')\n",
    "plt.xlabel('Valores')\n",
    "plt.ylabel('Probabilidade Acumulada ')\n",
    "plt.title('CDF - Função de Distribuição Acumulada-v27')\n",
    "plt.grid(True)\n",
    "plt.show()\n",
    "\n",
    "minvalue_IT27 = res.min()\n",
    "print(minvalue_IT27)\n",
    "plt.plot(x, res, marker='o')\n",
    "plt.xlabel('Valores')\n",
    "plt.ylabel('Largura do IT')\n",
    "plt.title('Intervalos de Abrangência 95% - v27')\n",
    "plt.grid(True)\n",
    "plt.show()"
   ]
  },
  {
   "cell_type": "code",
   "execution_count": null,
   "metadata": {},
   "outputs": [],
   "source": [
    "res_df=pd.DataFrame(res)\n",
    "res_df[0].idxmpmin=0.005\n",
    "pmin=x[res_df[0].idxmin()]\n",
    "\n",
    "inverse_cdf = interp1d(cdf, dados, kind='linear', fill_value='extrapolate')\n",
    "\n",
    "percentile1 = pmin\n",
    "ymin_27= inverse_cdf(percentile1)\n",
    "percentile2 = pmin+0.95\n",
    "ymax_27= inverse_cdf(percentile2)\n",
    "print(ymin_27)\n",
    "print(ymax_27)"
   ]
  },
  {
   "cell_type": "markdown",
   "metadata": {},
   "source": [
    "# simulação mc v28"
   ]
  },
  {
   "cell_type": "code",
   "execution_count": null,
   "metadata": {},
   "outputs": [],
   "source": [
    "i=28\n",
    "# Defina a média e a matriz de covariância da distribuição multivariada\n",
    "mean = [X_test.iloc[i,0], X_test.iloc[i,1],X_test.iloc[i,2], X_test.iloc[i,3], X_test.iloc[i,4]]  # Média dos valores em cada dimensão\n",
    "cov_matrix = [[upx1**2,        upx1*upx2*r_12,   upx1*upx3*r_13, upx1*upx4*r_14,   upx1*upx5*r_15],\n",
    "              [upx2*upx1*r_21, upx2**2,          upx2*upx3*r_23, upx2*upx4*r_24,   upx2*upx5*r_25],\n",
    "              [upx3*upx1*r_31, upx3*upx2*r_32,   upx3**2,        upx3*upx4*r_34,   upx3*upx5*r_35],\n",
    "              [upx4*upx1*r_41, upx4*upx2*r_42,   upx4*upx3*r_43, upx4**2,          upx4*upx5*r_45],\n",
    "              [upx5*upx1*r_51, upx5*upx2*r_52,   upx5*upx3*r_53, upx5*upx4*r_54,   upx5**2]] #Matriz de covariância através da relação com a correlação\n",
    "\n",
    "# Defina o tamanho da amostra desejada\n",
    "sample_size = 1000000\n",
    "# Gere números aleatórios em uma distribuição multivariada\n",
    "random_samples = np.random.multivariate_normal(mean, cov_matrix, sample_size)\n",
    "random_samples=pd.DataFrame(random_samples)\n",
    "x_1 =pd.DataFrame(random_samples[0])\n",
    "x_2 =pd.DataFrame(random_samples[1])\n",
    "x_3 =pd.DataFrame(random_samples[2])\n",
    "x_4 =pd.DataFrame(random_samples[3])\n",
    "x_5 =pd.DataFrame(random_samples[4])\n",
    "\n",
    "x_teste=pd.concat([x_1,x_2,x_3,x_4,x_5],axis=1)\n",
    "x_teste=pd.DataFrame(x_teste)\n",
    "previsão=model.predict(x_teste)\n",
    "previsão=pd.DataFrame(previsão)\n",
    "nomes_colunas = ['Frequency','Angle','Length','Velocity','Suction Side']\n",
    "nomes_colunas2 = ['Pressure']\n",
    "previsão.columns=nomes_colunas2\n",
    "x_teste.columns = nomes_colunas\n",
    "UMC28=np.std(previsão)\n",
    "MMC28=np.mean(previsão)"
   ]
  },
  {
   "cell_type": "code",
   "execution_count": null,
   "metadata": {},
   "outputs": [],
   "source": [
    "sns.histplot(previsão,)"
   ]
  },
  {
   "cell_type": "code",
   "execution_count": null,
   "metadata": {},
   "outputs": [],
   "source": [
    "# Exemplo de conjunto de dados (pode ser substituído pelos seus próprios dados)\n",
    "dados = previsão['Pressure']\n",
    "dados = sorted(dados)\n",
    "# Calcula a CDF dos dados\n",
    "cdf = np.cumsum(np.ones_like(dados)) / len(dados)\n",
    "p=np.arange(0,0.05,0.0001)\n",
    "x = [] \n",
    "for index, element in enumerate(p):\n",
    "    x.append(element)\n",
    "res=pd.DataFrame(x) \n",
    "def IT(p):\n",
    "    resultado = dados[np.argmax(cdf >= p+0.95)]-dados[np.argmax(cdf >= p)]\n",
    "    return resultado\n",
    "res[0] = res[0].apply(IT)\n",
    "\n",
    "# Plota a CDF\n",
    "plt.plot(dados, cdf, marker='o')\n",
    "plt.xlabel('Valores')\n",
    "plt.ylabel('Probabilidade Acumulada ')\n",
    "plt.title('CDF - Função de Distribuição Acumulada-v28')\n",
    "plt.grid(True)\n",
    "plt.show()\n",
    "\n",
    "minvalue_IT28 = res.min()\n",
    "print(minvalue_IT28)\n",
    "plt.plot(x, res, marker='o')\n",
    "plt.xlabel('Valores')\n",
    "plt.ylabel('Largura do IT')\n",
    "plt.title('Intervalos de Abrangência 95% - v28')\n",
    "plt.grid(True)\n",
    "plt.show()"
   ]
  },
  {
   "cell_type": "code",
   "execution_count": null,
   "metadata": {},
   "outputs": [],
   "source": [
    "res_df=pd.DataFrame(res)\n",
    "res_df[0].idxmpmin=0.005\n",
    "pmin=x[res_df[0].idxmin()]\n",
    "\n",
    "inverse_cdf = interp1d(cdf, dados, kind='linear', fill_value='extrapolate')\n",
    "\n",
    "percentile1 = pmin\n",
    "ymin_28= inverse_cdf(percentile1)\n",
    "percentile2 = pmin+0.95\n",
    "ymax_28= inverse_cdf(percentile2)\n",
    "print(ymin_28)\n",
    "print(ymax_28)"
   ]
  },
  {
   "cell_type": "markdown",
   "metadata": {},
   "source": [
    "# simulação mc v29"
   ]
  },
  {
   "cell_type": "code",
   "execution_count": null,
   "metadata": {},
   "outputs": [],
   "source": [
    "i=29\n",
    "# Defina a média e a matriz de covariância da distribuição multivariada\n",
    "mean = [X_test.iloc[i,0], X_test.iloc[i,1],X_test.iloc[i,2], X_test.iloc[i,3], X_test.iloc[i,4]]  # Média dos valores em cada dimensão\n",
    "cov_matrix = [[upx1**2,        upx1*upx2*r_12,   upx1*upx3*r_13, upx1*upx4*r_14,   upx1*upx5*r_15],\n",
    "              [upx2*upx1*r_21, upx2**2,          upx2*upx3*r_23, upx2*upx4*r_24,   upx2*upx5*r_25],\n",
    "              [upx3*upx1*r_31, upx3*upx2*r_32,   upx3**2,        upx3*upx4*r_34,   upx3*upx5*r_35],\n",
    "              [upx4*upx1*r_41, upx4*upx2*r_42,   upx4*upx3*r_43, upx4**2,          upx4*upx5*r_45],\n",
    "              [upx5*upx1*r_51, upx5*upx2*r_52,   upx5*upx3*r_53, upx5*upx4*r_54,   upx5**2]] #Matriz de covariância através da relação com a correlação\n",
    "\n",
    "# Defina o tamanho da amostra desejada\n",
    "sample_size = 1000000\n",
    "# Gere números aleatórios em uma distribuição multivariada\n",
    "random_samples = np.random.multivariate_normal(mean, cov_matrix, sample_size)\n",
    "random_samples=pd.DataFrame(random_samples)\n",
    "x_1 =pd.DataFrame(random_samples[0])\n",
    "x_2 =pd.DataFrame(random_samples[1])\n",
    "x_3 =pd.DataFrame(random_samples[2])\n",
    "x_4 =pd.DataFrame(random_samples[3])\n",
    "x_5 =pd.DataFrame(random_samples[4])\n",
    "\n",
    "x_teste=pd.concat([x_1,x_2,x_3,x_4,x_5],axis=1)\n",
    "x_teste=pd.DataFrame(x_teste)\n",
    "previsão=model.predict(x_teste)\n",
    "previsão=pd.DataFrame(previsão)\n",
    "nomes_colunas = ['Frequency','Angle','Length','Velocity','Suction Side']\n",
    "nomes_colunas2 = ['Pressure']\n",
    "previsão.columns=nomes_colunas2\n",
    "x_teste.columns = nomes_colunas\n",
    "UMC29=np.std(previsão)\n",
    "MMC29=np.mean(previsão)"
   ]
  },
  {
   "cell_type": "code",
   "execution_count": null,
   "metadata": {},
   "outputs": [],
   "source": [
    "sns.histplot(previsão,)"
   ]
  },
  {
   "cell_type": "code",
   "execution_count": null,
   "metadata": {},
   "outputs": [],
   "source": [
    "# Exemplo de conjunto de dados (pode ser substituído pelos seus próprios dados)\n",
    "dados = previsão['Pressure']\n",
    "dados = sorted(dados)\n",
    "# Calcula a CDF dos dados\n",
    "cdf = np.cumsum(np.ones_like(dados)) / len(dados)\n",
    "p=np.arange(0,0.05,0.0001)\n",
    "x = [] \n",
    "for index, element in enumerate(p):\n",
    "    x.append(element)\n",
    "res=pd.DataFrame(x) \n",
    "def IT(p):\n",
    "    resultado = dados[np.argmax(cdf >= p+0.95)]-dados[np.argmax(cdf >= p)]\n",
    "    return resultado\n",
    "res[0] = res[0].apply(IT)\n",
    "\n",
    "# Plota a CDF\n",
    "plt.plot(dados, cdf, marker='o')\n",
    "plt.xlabel('Valores')\n",
    "plt.ylabel('Probabilidade Acumulada ')\n",
    "plt.title('CDF - Função de Distribuição Acumulada-v29')\n",
    "plt.grid(True)\n",
    "plt.show()\n",
    "\n",
    "minvalue_IT29 = res.min()\n",
    "print(minvalue_IT29)\n",
    "plt.plot(x, res, marker='o')\n",
    "plt.xlabel('Valores')\n",
    "plt.ylabel('Largura do IT')\n",
    "plt.title('Intervalos de Abrangência 95% - v29')\n",
    "plt.grid(True)\n",
    "plt.show()"
   ]
  },
  {
   "cell_type": "code",
   "execution_count": null,
   "metadata": {},
   "outputs": [],
   "source": [
    "res_df=pd.DataFrame(res)\n",
    "res_df[0].idxmpmin=0.005\n",
    "pmin=x[res_df[0].idxmin()]\n",
    "\n",
    "inverse_cdf = interp1d(cdf, dados, kind='linear', fill_value='extrapolate')\n",
    "\n",
    "percentile1 = pmin\n",
    "ymin_29= inverse_cdf(percentile1)\n",
    "percentile2 = pmin+0.95\n",
    "ymax_29= inverse_cdf(percentile2)\n",
    "print(ymin_29)\n",
    "print(ymax_29)"
   ]
  },
  {
   "cell_type": "markdown",
   "metadata": {},
   "source": [
    "# simulação mc v30"
   ]
  },
  {
   "cell_type": "code",
   "execution_count": null,
   "metadata": {},
   "outputs": [],
   "source": [
    "i=30\n",
    "# Defina a média e a matriz de covariância da distribuição multivariada\n",
    "mean = [X_test.iloc[i,0], X_test.iloc[i,1],X_test.iloc[i,2], X_test.iloc[i,3], X_test.iloc[i,4]]  # Média dos valores em cada dimensão\n",
    "cov_matrix = [[upx1**2,        upx1*upx2*r_12,   upx1*upx3*r_13, upx1*upx4*r_14,   upx1*upx5*r_15],\n",
    "              [upx2*upx1*r_21, upx2**2,          upx2*upx3*r_23, upx2*upx4*r_24,   upx2*upx5*r_25],\n",
    "              [upx3*upx1*r_31, upx3*upx2*r_32,   upx3**2,        upx3*upx4*r_34,   upx3*upx5*r_35],\n",
    "              [upx4*upx1*r_41, upx4*upx2*r_42,   upx4*upx3*r_43, upx4**2,          upx4*upx5*r_45],\n",
    "              [upx5*upx1*r_51, upx5*upx2*r_52,   upx5*upx3*r_53, upx5*upx4*r_54,   upx5**2]] #Matriz de covariância através da relação com a correlação\n",
    "\n",
    "# Defina o tamanho da amostra desejada\n",
    "sample_size = 1000000\n",
    "# Gere números aleatórios em uma distribuição multivariada\n",
    "random_samples = np.random.multivariate_normal(mean, cov_matrix, sample_size)\n",
    "random_samples=pd.DataFrame(random_samples)\n",
    "x_1 =pd.DataFrame(random_samples[0])\n",
    "x_2 =pd.DataFrame(random_samples[1])\n",
    "x_3 =pd.DataFrame(random_samples[2])\n",
    "x_4 =pd.DataFrame(random_samples[3])\n",
    "x_5 =pd.DataFrame(random_samples[4])\n",
    "\n",
    "x_teste=pd.concat([x_1,x_2,x_3,x_4,x_5],axis=1)\n",
    "x_teste=pd.DataFrame(x_teste)\n",
    "previsão=model.predict(x_teste)\n",
    "previsão=pd.DataFrame(previsão)\n",
    "nomes_colunas = ['Frequency','Angle','Length','Velocity','Suction Side']\n",
    "nomes_colunas2 = ['Pressure']\n",
    "previsão.columns=nomes_colunas2\n",
    "x_teste.columns = nomes_colunas\n",
    "UMC30=np.std(previsão)\n",
    "MMC30=np.mean(previsão)"
   ]
  },
  {
   "cell_type": "code",
   "execution_count": null,
   "metadata": {},
   "outputs": [],
   "source": [
    "sns.histplot(previsão,)"
   ]
  },
  {
   "cell_type": "code",
   "execution_count": null,
   "metadata": {},
   "outputs": [],
   "source": []
  },
  {
   "cell_type": "code",
   "execution_count": null,
   "metadata": {},
   "outputs": [],
   "source": [
    "# Exemplo de conjunto de dados (pode ser substituído pelos seus próprios dados)\n",
    "dados = previsão['Pressure']\n",
    "dados = sorted(dados)\n",
    "# Calcula a CDF dos dados\n",
    "cdf = np.cumsum(np.ones_like(dados)) / len(dados)\n",
    "p=np.arange(0,0.05,0.0001)\n",
    "x = [] \n",
    "for index, element in enumerate(p):\n",
    "    x.append(element)\n",
    "res=pd.DataFrame(x) \n",
    "def IT(p):\n",
    "    resultado = dados[np.argmax(cdf >= p+0.95)]-dados[np.argmax(cdf >= p)]\n",
    "    return resultado\n",
    "res[0] = res[0].apply(IT)\n",
    "\n",
    "# Plota a CDF\n",
    "plt.plot(dados, cdf, marker='o')\n",
    "plt.xlabel('Valores')\n",
    "plt.ylabel('Probabilidade Acumulada ')\n",
    "plt.title('CDF - Função de Distribuição Acumulada-v29')\n",
    "plt.grid(True)\n",
    "plt.show()\n",
    "\n",
    "minvalue_IT30 = res.min()\n",
    "print(minvalue_IT30)\n",
    "plt.plot(x, res, marker='o')\n",
    "plt.xlabel('Valores')\n",
    "plt.ylabel('Largura do IT')\n",
    "plt.title('Intervalos de Abrangência 95% - v29')\n",
    "plt.grid(True)\n",
    "plt.show()"
   ]
  },
  {
   "cell_type": "code",
   "execution_count": null,
   "metadata": {},
   "outputs": [],
   "source": [
    "res_df=pd.DataFrame(res)\n",
    "res_df[0].idxmpmin=0.005\n",
    "pmin=x[res_df[0].idxmin()]\n",
    "\n",
    "inverse_cdf = interp1d(cdf, dados, kind='linear', fill_value='extrapolate')\n",
    "\n",
    "percentile1 = pmin\n",
    "ymin_30= inverse_cdf(percentile1)\n",
    "percentile2 = pmin+0.95\n",
    "ymax_30= inverse_cdf(percentile2)\n",
    "print(ymin_30)\n",
    "print(ymax_30)"
   ]
  },
  {
   "cell_type": "code",
   "execution_count": null,
   "metadata": {},
   "outputs": [],
   "source": [
    "UMC=[UMC0,UMC1,UMC2,UMC3,UMC4,UMC5,UMC6,UMC7,UMC8,UMC9,UMC10,UMC11,UMC12,UMC13,UMC14,UMC15,UMC16,UMC17,UMC18,UMC19,UMC20,UMC21,UMC22,UMC23,\n",
    "     UMC24,UMC25,UMC26,UMC27,UMC28,UMC29,UMC30]"
   ]
  },
  {
   "cell_type": "code",
   "execution_count": null,
   "metadata": {},
   "outputs": [],
   "source": [
    "MMC=[MMC0,MMC1,MMC2,MMC3,MMC4,MMC5,MMC6,MMC7,MMC8,MMC9,MMC10,MMC11,MMC12,MMC13,MMC14,MMC15,MMC16,MMC17,MMC18,MMC19,MMC20,MMC21,MMC22,MMC23,\n",
    "     MMC24,MMC25,MMC26,MMC27,MMC28,MMC29,MMC30]"
   ]
  },
  {
   "cell_type": "code",
   "execution_count": null,
   "metadata": {},
   "outputs": [],
   "source": [
    "YMIN=[ymin_0,ymin_1,ymin_2,ymin_3,ymin_4,ymin_5,ymin_6,ymin_7,ymin_8,ymin_9,ymin_10,ymin_11,ymin_12,ymin_13,ymin_14,ymin_15,ymin_16,ymin_17,ymin_18,ymin_19,ymin_20,ymin_21,ymin_22,ymin_23,ymin_24,ymin_25,ymin_26,ymin_27,ymin_28,ymin_29,ymin_30,]"
   ]
  },
  {
   "cell_type": "code",
   "execution_count": null,
   "metadata": {},
   "outputs": [],
   "source": [
    "YMAX=[ymax_0,ymax_1,ymax_2,ymax_3,ymax_4,ymax_5,ymax_6,ymax_7,ymax_8,ymax_9,ymax_10,ymax_11,ymax_12,ymax_13,ymax_14,ymax_15,ymax_16,ymax_17,ymax_18,ymax_19,ymax_20,ymax_21,ymax_22,ymax_23,ymax_24,ymax_25,ymax_26,ymax_27,ymax_28,ymax_29,ymax_30,]"
   ]
  },
  {
   "cell_type": "code",
   "execution_count": null,
   "metadata": {},
   "outputs": [],
   "source": [
    "UMC=pd.DataFrame(UMC)"
   ]
  },
  {
   "cell_type": "code",
   "execution_count": null,
   "metadata": {},
   "outputs": [],
   "source": []
  },
  {
   "cell_type": "code",
   "execution_count": null,
   "metadata": {},
   "outputs": [],
   "source": [
    "MMC=pd.DataFrame(MMC)"
   ]
  },
  {
   "cell_type": "code",
   "execution_count": null,
   "metadata": {},
   "outputs": [],
   "source": [
    "YMIN=pd.DataFrame(YMIN)"
   ]
  },
  {
   "cell_type": "code",
   "execution_count": null,
   "metadata": {},
   "outputs": [],
   "source": [
    "YMIN"
   ]
  },
  {
   "cell_type": "code",
   "execution_count": null,
   "metadata": {},
   "outputs": [],
   "source": [
    "YMAX=pd.DataFrame(YMAX)"
   ]
  },
  {
   "cell_type": "code",
   "execution_count": null,
   "metadata": {},
   "outputs": [],
   "source": [
    "YMAX"
   ]
  },
  {
   "cell_type": "code",
   "execution_count": null,
   "metadata": {},
   "outputs": [],
   "source": [
    "#MCCC=pd.concat([df.total[5],df.total['Predict'],MMC,UMC,2*df.total['ucca'],df.total['ucce'],df.total['ucc'],df.total['U']],axis=1)"
   ]
  },
  {
   "cell_type": "code",
   "execution_count": null,
   "metadata": {},
   "outputs": [],
   "source": [
    "df.total['Predict']"
   ]
  },
  {
   "cell_type": "code",
   "execution_count": null,
   "metadata": {},
   "outputs": [],
   "source": [
    "2*df.total['ucca']"
   ]
  },
  {
   "cell_type": "code",
   "execution_count": null,
   "metadata": {},
   "outputs": [],
   "source": [
    "#df.total['c1']=(df.total['Predict Deltax1']-df.total['Predict'])/h1"
   ]
  },
  {
   "cell_type": "code",
   "execution_count": null,
   "metadata": {},
   "outputs": [],
   "source": []
  },
  {
   "cell_type": "code",
   "execution_count": null,
   "metadata": {},
   "outputs": [],
   "source": [
    "MCCC=pd.concat([df.total['Predict'],2*df.total['ucca'],YMIN,YMAX],axis=1)"
   ]
  },
  {
   "cell_type": "code",
   "execution_count": null,
   "metadata": {},
   "outputs": [],
   "source": [
    "# Definir os nomes das colunas\n",
    "nomes_colunas = ['y','Up','y_inf','y_max']\n",
    "\n",
    "# Atribuir os nomes das colunas ao DataFrame\n",
    "MCCC.columns = nomes_colunas\n",
    "\n"
   ]
  },
  {
   "cell_type": "code",
   "execution_count": null,
   "metadata": {},
   "outputs": [],
   "source": [
    "MCCC"
   ]
  },
  {
   "cell_type": "code",
   "execution_count": null,
   "metadata": {},
   "outputs": [],
   "source": [
    "MCCC['d_inf']=abs(MCCC['y']-MCCC['Up']-MCCC['y_inf'])"
   ]
  },
  {
   "cell_type": "code",
   "execution_count": null,
   "metadata": {},
   "outputs": [],
   "source": [
    "MCCC['d_sup']=abs(MCCC['y']+MCCC['Up']-MCCC['y_max'])"
   ]
  },
  {
   "cell_type": "code",
   "execution_count": null,
   "metadata": {},
   "outputs": [],
   "source": [
    "MCCC['tolerance_l']=0.005"
   ]
  },
  {
   "cell_type": "code",
   "execution_count": null,
   "metadata": {},
   "outputs": [],
   "source": [
    "# Definir os nomes das colunas\n",
    "nomes_colunas = ['y','Up','y_inf','y_max','d_inf','d_sup','Tolerance']\n",
    "\n",
    "# Atribuir os nomes das colunas ao DataFrame\n",
    "MCCC.columns = nomes_colunas\n",
    "\n"
   ]
  },
  {
   "cell_type": "code",
   "execution_count": null,
   "metadata": {},
   "outputs": [],
   "source": [
    "pip install pygwalker"
   ]
  },
  {
   "cell_type": "code",
   "execution_count": null,
   "metadata": {},
   "outputs": [],
   "source": [
    "import pygwalker as pyg"
   ]
  },
  {
   "cell_type": "code",
   "execution_count": null,
   "metadata": {
    "scrolled": true
   },
   "outputs": [],
   "source": [
    "pyg.walk(MCCC)"
   ]
  },
  {
   "cell_type": "code",
   "execution_count": null,
   "metadata": {},
   "outputs": [],
   "source": []
  },
  {
   "cell_type": "code",
   "execution_count": null,
   "metadata": {},
   "outputs": [],
   "source": [
    "#MCCC.to_excel('MCCC.xlsx')"
   ]
  },
  {
   "cell_type": "code",
   "execution_count": null,
   "metadata": {},
   "outputs": [],
   "source": [
    "\n"
   ]
  },
  {
   "cell_type": "code",
   "execution_count": null,
   "metadata": {},
   "outputs": [],
   "source": [
    "n = 31\n",
    "t = range(n) \n",
    "\n",
    "plt.style.use(\"ggplot\")\n",
    "f = plt.figure(figsize=(10,7))\n",
    "plt.plot(t, MCCC['y'], label='Prediction APU', color=\"Black\", lw=1)\n",
    "\n",
    "for shade in range(1, 5):\n",
    "    plt.fill_between(t, MCCC['y']-MCCC['Up'],  MCCC['y']+MCCC['Up'], alpha=0.13, color=\"blue\")\n",
    "for shade in range(1, 5):\n",
    "    plt.fill_between(t, MCCC['y_inf'],  MCCC['y_max'], alpha=0.12, color=\"C5\")\n",
    "   \n",
    "plt.scatter(t, df.total[5], color=\"black\", label=\"Real\")\n",
    "plt.ylabel(\"Pressure\")\n",
    "plt.xlabel(\"Test data order\")\n",
    "plt.legend(loc=\"best\")\n",
    "f.savefig(\"rnn_demanda_test6.pdf\")\n",
    "plt.show()"
   ]
  },
  {
   "cell_type": "code",
   "execution_count": null,
   "metadata": {},
   "outputs": [],
   "source": [
    "n = 31\n",
    "t = range(n) \n",
    "\n",
    "plt.style.use(\"ggplot\")\n",
    "f = plt.figure(figsize=(10,7))\n",
    "\n",
    "plt.plot(t, MCCC['MC Predict'], label=\"Predict JCGM 101:2008\", color=\"black\", lw=1)\n",
    "\n",
    "\n",
    "for shade in range(1, 5):\n",
    "    plt.fill_between(t, MCCC['GUM Predict']-MCCC['GUM Aleatoric Uncertainty'],  MCCC['GUM Predict']+MCCC['GUM Aleatoric Uncertainty'], alpha=0.3, color=\"C5\")\n",
    "plt.scatter(t, MCCC['Real'], color=\"black\", label=\"Real\")\n",
    "plt.ylabel(\"Pressure\")\n",
    "plt.xlabel(\"Test data order\")\n",
    "plt.legend(loc=\"best\")\n",
    "f.savefig(\"rnn_demanda_test3.png\")\n",
    "plt.show()"
   ]
  },
  {
   "cell_type": "code",
   "execution_count": null,
   "metadata": {},
   "outputs": [],
   "source": [
    "n = 31\n",
    "t = range(n) \n",
    "\n",
    "plt.style.use(\"ggplot\")\n",
    "f = plt.figure(figsize=(10,7))\n",
    "\n",
    "plt.plot(t, MCCC['MC Predict'], label=\"Predict JCGM 101:2008\", color=\"black\", lw=1)\n",
    "\n",
    "for shade in range(1, 5):\n",
    "    plt.fill_between(t, MCCC['MC Predict']-MCCC['MC Uncertainty'],  MCCC['MC Predict']+MCCC['MC Uncertainty'], alpha=0.3, color=\"C4\")\n",
    "\n",
    "plt.scatter(t, MCCC['Real'], color=\"black\", label=\"Real\")\n",
    "plt.ylabel(\"Pressure\")\n",
    "plt.xlabel(\"Test data order\")\n",
    "plt.legend(loc=\"best\")\n",
    "f.savefig(\"rnn_demanda_test3.png\")\n",
    "plt.show()"
   ]
  },
  {
   "cell_type": "code",
   "execution_count": null,
   "metadata": {},
   "outputs": [],
   "source": [
    "MCCC"
   ]
  },
  {
   "cell_type": "code",
   "execution_count": null,
   "metadata": {},
   "outputs": [],
   "source": [
    "MCCC.to_excel('MCCC.xlsx')"
   ]
  }
 ],
 "metadata": {
  "kernelspec": {
   "display_name": "Python 3 (ipykernel)",
   "language": "python",
   "name": "python3"
  },
  "language_info": {
   "codemirror_mode": {
    "name": "ipython",
    "version": 3
   },
   "file_extension": ".py",
   "mimetype": "text/x-python",
   "name": "python",
   "nbconvert_exporter": "python",
   "pygments_lexer": "ipython3",
   "version": "3.9.13"
  }
 },
 "nbformat": 4,
 "nbformat_minor": 2
}
